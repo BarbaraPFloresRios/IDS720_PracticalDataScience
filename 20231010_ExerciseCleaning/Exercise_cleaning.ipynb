{
    "cells": [
        {
            "cell_type": "markdown",
            "metadata": {},
            "source": [
                "# Cleaning Data Exercises\n",
                "\n",
                "<span style=\"color: #008080\">*Bárbara Flores*</span>\n",
                "\n",
                "In this exercise, we'll be returning to the American Community Survey data we used previously to measuring racial income inequality in the United States. In today's exercise, we'll be using it to measure the returns to education and how those returns vary by race and gender.\n"
            ]
        },
        {
            "cell_type": "markdown",
            "metadata": {},
            "source": [
                "\n",
                "## Gradescope Autograding\n",
                "\n",
                "Please follow [all standard guidance](https://www.practicaldatascience.org/html/autograder_guidelines.html) for submitting this assignment to the Gradescope autograder, including storing your solutions in a dictionary called `results` and ensuring your notebook runs from the start to completion without any errors.\n",
                "\n",
                "For this assignment, please name your file `exercise_missing.ipynb` before uploading.\n",
                "\n",
                "You can check that you have answers for all questions in your `results` dictionary with this code:\n",
                "\n",
                "```python\n",
                "assert set(results.keys()) == {\n",
                "    \"ex5_age_young\",\n",
                "    \"ex5_age_old\",\n",
                "    \"ex7_avg_age\",\n",
                "    \"ex8_avg_age\",\n",
                "    \"ex9_num_college\",\n",
                "    \"ex11_share_male_w_degrees\",\n",
                "    \"ex11_share_female_w_degrees\",\n",
                "    \"ex12_comparing\",\n",
                "}\n",
                "```\n",
                "\n",
                "\n",
                "### Submission Limits\n",
                "\n",
                "Please remember that you are **only allowed three submissions to the autograder.** Your last submission (if you submit 3 or fewer times), or your third submission (if you submit more than 3 times) will determine your grade Submissions that error out will **not** count against this total."
            ]
        },
        {
            "cell_type": "code",
            "execution_count": 24,
            "metadata": {},
            "outputs": [],
            "source": [
                "results = {}"
            ]
        },
        {
            "cell_type": "markdown",
            "metadata": {},
            "source": [
                "## Exercises\n",
                "\n",
                "### Exercise 1\n",
                "\n",
                "For these cleaning exercises, we'll return to the ACS data we've used before one last time. We'll be working with `US_ACS_2017_10pct_sample.dta`. Import the data (please use url for the autograder)."
            ]
        },
        {
            "cell_type": "code",
            "execution_count": 25,
            "metadata": {},
            "outputs": [
                {
                    "data": {
                        "text/html": [
                            "<div>\n",
                            "<style scoped>\n",
                            "    .dataframe tbody tr th:only-of-type {\n",
                            "        vertical-align: middle;\n",
                            "    }\n",
                            "\n",
                            "    .dataframe tbody tr th {\n",
                            "        vertical-align: top;\n",
                            "    }\n",
                            "\n",
                            "    .dataframe thead th {\n",
                            "        text-align: right;\n",
                            "    }\n",
                            "</style>\n",
                            "<table border=\"1\" class=\"dataframe\">\n",
                            "  <thead>\n",
                            "    <tr style=\"text-align: right;\">\n",
                            "      <th></th>\n",
                            "      <th>year</th>\n",
                            "      <th>datanum</th>\n",
                            "      <th>serial</th>\n",
                            "      <th>cbserial</th>\n",
                            "      <th>numprec</th>\n",
                            "      <th>subsamp</th>\n",
                            "      <th>hhwt</th>\n",
                            "      <th>hhtype</th>\n",
                            "      <th>cluster</th>\n",
                            "      <th>adjust</th>\n",
                            "      <th>...</th>\n",
                            "      <th>migcounty1</th>\n",
                            "      <th>migmet131</th>\n",
                            "      <th>vetdisab</th>\n",
                            "      <th>diffrem</th>\n",
                            "      <th>diffphys</th>\n",
                            "      <th>diffmob</th>\n",
                            "      <th>diffcare</th>\n",
                            "      <th>diffsens</th>\n",
                            "      <th>diffeye</th>\n",
                            "      <th>diffhear</th>\n",
                            "    </tr>\n",
                            "  </thead>\n",
                            "  <tbody>\n",
                            "    <tr>\n",
                            "      <th>64673</th>\n",
                            "      <td>2017</td>\n",
                            "      <td>1</td>\n",
                            "      <td>1039440</td>\n",
                            "      <td>2.017001e+12</td>\n",
                            "      <td>2</td>\n",
                            "      <td>25</td>\n",
                            "      <td>270</td>\n",
                            "      <td>married-couple family household</td>\n",
                            "      <td>2.017010e+12</td>\n",
                            "      <td>1.011189</td>\n",
                            "      <td>...</td>\n",
                            "      <td>0</td>\n",
                            "      <td>not in identifiable area</td>\n",
                            "      <td>n/a</td>\n",
                            "      <td>no cognitive difficulty</td>\n",
                            "      <td>no ambulatory difficulty</td>\n",
                            "      <td>no independent living difficulty</td>\n",
                            "      <td>no</td>\n",
                            "      <td>no vision or hearing difficulty</td>\n",
                            "      <td>no</td>\n",
                            "      <td>no</td>\n",
                            "    </tr>\n",
                            "    <tr>\n",
                            "      <th>310241</th>\n",
                            "      <td>2017</td>\n",
                            "      <td>1</td>\n",
                            "      <td>992869</td>\n",
                            "      <td>2.017001e+12</td>\n",
                            "      <td>2</td>\n",
                            "      <td>8</td>\n",
                            "      <td>137</td>\n",
                            "      <td>male householder, no wife present</td>\n",
                            "      <td>2.017010e+12</td>\n",
                            "      <td>1.011189</td>\n",
                            "      <td>...</td>\n",
                            "      <td>153</td>\n",
                            "      <td>akron, oh</td>\n",
                            "      <td>n/a</td>\n",
                            "      <td>no cognitive difficulty</td>\n",
                            "      <td>no ambulatory difficulty</td>\n",
                            "      <td>no independent living difficulty</td>\n",
                            "      <td>no</td>\n",
                            "      <td>no vision or hearing difficulty</td>\n",
                            "      <td>no</td>\n",
                            "      <td>no</td>\n",
                            "    </tr>\n",
                            "  </tbody>\n",
                            "</table>\n",
                            "<p>2 rows × 104 columns</p>\n",
                            "</div>"
                        ],
                        "text/plain": [
                            "        year  datanum   serial      cbserial numprec subsamp  hhwt  \\\n",
                            "64673   2017        1  1039440  2.017001e+12       2      25   270   \n",
                            "310241  2017        1   992869  2.017001e+12       2       8   137   \n",
                            "\n",
                            "                                   hhtype       cluster    adjust  ...  \\\n",
                            "64673     married-couple family household  2.017010e+12  1.011189  ...   \n",
                            "310241  male householder, no wife present  2.017010e+12  1.011189  ...   \n",
                            "\n",
                            "        migcounty1                 migmet131 vetdisab  \\\n",
                            "64673            0  not in identifiable area      n/a   \n",
                            "310241         153                 akron, oh      n/a   \n",
                            "\n",
                            "                        diffrem                  diffphys  \\\n",
                            "64673   no cognitive difficulty  no ambulatory difficulty   \n",
                            "310241  no cognitive difficulty  no ambulatory difficulty   \n",
                            "\n",
                            "                                 diffmob diffcare  \\\n",
                            "64673   no independent living difficulty       no   \n",
                            "310241  no independent living difficulty       no   \n",
                            "\n",
                            "                               diffsens  diffeye  diffhear  \n",
                            "64673   no vision or hearing difficulty       no        no  \n",
                            "310241  no vision or hearing difficulty       no        no  \n",
                            "\n",
                            "[2 rows x 104 columns]"
                        ]
                    },
                    "execution_count": 25,
                    "metadata": {},
                    "output_type": "execute_result"
                }
            ],
            "source": [
                "import pandas as pd\n",
                "import numpy as np\n",
                "\n",
                "pd.set_option(\"mode.copy_on_write\", True)\n",
                "\n",
                "data = pd.read_stata(\n",
                "    \"https://github.com/nickeubank/MIDS_Data/raw/master/US_AmericanCommunitySurvey/US_ACS_2017_10pct_sample.dta\"\n",
                ")\n",
                "\n",
                "data.sample(2)"
            ]
        },
        {
            "cell_type": "markdown",
            "metadata": {},
            "source": [
                "### Exercise 2\n",
                "\n",
                "For our exercises today, we'll focus on `age`, `sex`, `educ` (education), and `inctot` (total income). Subset your data to those variables, and quickly look at a sample of 10 rows."
            ]
        },
        {
            "cell_type": "code",
            "execution_count": 26,
            "metadata": {},
            "outputs": [
                {
                    "data": {
                        "text/html": [
                            "<div>\n",
                            "<style scoped>\n",
                            "    .dataframe tbody tr th:only-of-type {\n",
                            "        vertical-align: middle;\n",
                            "    }\n",
                            "\n",
                            "    .dataframe tbody tr th {\n",
                            "        vertical-align: top;\n",
                            "    }\n",
                            "\n",
                            "    .dataframe thead th {\n",
                            "        text-align: right;\n",
                            "    }\n",
                            "</style>\n",
                            "<table border=\"1\" class=\"dataframe\">\n",
                            "  <thead>\n",
                            "    <tr style=\"text-align: right;\">\n",
                            "      <th></th>\n",
                            "      <th>age</th>\n",
                            "      <th>sex</th>\n",
                            "      <th>educ</th>\n",
                            "      <th>inctot</th>\n",
                            "    </tr>\n",
                            "  </thead>\n",
                            "  <tbody>\n",
                            "    <tr>\n",
                            "      <th>235744</th>\n",
                            "      <td>34</td>\n",
                            "      <td>male</td>\n",
                            "      <td>4 years of college</td>\n",
                            "      <td>487000</td>\n",
                            "    </tr>\n",
                            "    <tr>\n",
                            "      <th>232267</th>\n",
                            "      <td>40</td>\n",
                            "      <td>female</td>\n",
                            "      <td>5+ years of college</td>\n",
                            "      <td>60000</td>\n",
                            "    </tr>\n",
                            "    <tr>\n",
                            "      <th>122393</th>\n",
                            "      <td>3</td>\n",
                            "      <td>male</td>\n",
                            "      <td>n/a or no schooling</td>\n",
                            "      <td>9999999</td>\n",
                            "    </tr>\n",
                            "    <tr>\n",
                            "      <th>3992</th>\n",
                            "      <td>43</td>\n",
                            "      <td>male</td>\n",
                            "      <td>grade 12</td>\n",
                            "      <td>25000</td>\n",
                            "    </tr>\n",
                            "    <tr>\n",
                            "      <th>90034</th>\n",
                            "      <td>15</td>\n",
                            "      <td>male</td>\n",
                            "      <td>grade 5, 6, 7, or 8</td>\n",
                            "      <td>0</td>\n",
                            "    </tr>\n",
                            "    <tr>\n",
                            "      <th>221049</th>\n",
                            "      <td>65</td>\n",
                            "      <td>male</td>\n",
                            "      <td>4 years of college</td>\n",
                            "      <td>20000</td>\n",
                            "    </tr>\n",
                            "    <tr>\n",
                            "      <th>111718</th>\n",
                            "      <td>42</td>\n",
                            "      <td>male</td>\n",
                            "      <td>4 years of college</td>\n",
                            "      <td>65000</td>\n",
                            "    </tr>\n",
                            "    <tr>\n",
                            "      <th>65051</th>\n",
                            "      <td>35</td>\n",
                            "      <td>female</td>\n",
                            "      <td>5+ years of college</td>\n",
                            "      <td>38500</td>\n",
                            "    </tr>\n",
                            "    <tr>\n",
                            "      <th>111578</th>\n",
                            "      <td>59</td>\n",
                            "      <td>female</td>\n",
                            "      <td>4 years of college</td>\n",
                            "      <td>15000</td>\n",
                            "    </tr>\n",
                            "    <tr>\n",
                            "      <th>166965</th>\n",
                            "      <td>46</td>\n",
                            "      <td>female</td>\n",
                            "      <td>1 year of college</td>\n",
                            "      <td>15000</td>\n",
                            "    </tr>\n",
                            "  </tbody>\n",
                            "</table>\n",
                            "</div>"
                        ],
                        "text/plain": [
                            "       age     sex                 educ   inctot\n",
                            "235744  34    male   4 years of college   487000\n",
                            "232267  40  female  5+ years of college    60000\n",
                            "122393   3    male  n/a or no schooling  9999999\n",
                            "3992    43    male             grade 12    25000\n",
                            "90034   15    male  grade 5, 6, 7, or 8        0\n",
                            "221049  65    male   4 years of college    20000\n",
                            "111718  42    male   4 years of college    65000\n",
                            "65051   35  female  5+ years of college    38500\n",
                            "111578  59  female   4 years of college    15000\n",
                            "166965  46  female    1 year of college    15000"
                        ]
                    },
                    "execution_count": 26,
                    "metadata": {},
                    "output_type": "execute_result"
                }
            ],
            "source": [
                "data_subset = data[[\"age\", \"sex\", \"educ\", \"inctot\"]]\n",
                "data_subset.sample(10)"
            ]
        },
        {
            "cell_type": "markdown",
            "metadata": {},
            "source": [
                "### Exercise 3\n",
                "\n",
                "As before, all the values of `9999999` have the potential to cause us real problems, so replace all the values of `inctot` that are `9999999` with `np.nan`. "
            ]
        },
        {
            "cell_type": "code",
            "execution_count": 27,
            "metadata": {},
            "outputs": [],
            "source": [
                "data_subset[\"inctot\"] = data_subset[\"inctot\"].replace(9999999, np.nan)"
            ]
        },
        {
            "cell_type": "markdown",
            "metadata": {},
            "source": [
                "### Exercise 4\n",
                "\n",
                "Attempt to calculate the average age of people in our data. What do you get? Why are you getting that error?\n",
                "\n",
                "You *should* get an error in trying to answer this question, but **PLEASE LEAVE THE CODE THAT GENERATES THIS ERROR COMMENTED OUT SO YOUR NOTEBOOK WILL RUN IN THE AUTOGRADER**. \n",
                "\n",
                "Then talk about the error in a markdown cell."
            ]
        },
        {
            "cell_type": "code",
            "execution_count": 28,
            "metadata": {},
            "outputs": [],
            "source": [
                "# data_subset[\"age\"].mean()"
            ]
        },
        {
            "cell_type": "code",
            "execution_count": 29,
            "metadata": {},
            "outputs": [
                {
                    "data": {
                        "text/plain": [
                            "CategoricalDtype(categories=['less than 1 year old', '1', '2', '3', '4', '5', '6', '7',\n",
                            "                  '8', '9', '10', '11', '12', '13', '14', '15', '16', '17',\n",
                            "                  '18', '19', '20', '21', '22', '23', '24', '25', '26', '27',\n",
                            "                  '28', '29', '30', '31', '32', '33', '34', '35', '36', '37',\n",
                            "                  '38', '39', '40', '41', '42', '43', '44', '45', '46', '47',\n",
                            "                  '48', '49', '50', '51', '52', '53', '54', '55', '56', '57',\n",
                            "                  '58', '59', '60', '61', '62', '63', '64', '65', '66', '67',\n",
                            "                  '68', '69', '70', '71', '72', '73', '74', '75', '76', '77',\n",
                            "                  '78', '79', '80', '81', '82', '83', '84', '85', '86', '87',\n",
                            "                  '88', '89', '90 (90+ in 1980 and 1990)', '91', '92', '93',\n",
                            "                  '94', '95', '96'],\n",
                            ", ordered=True, categories_dtype=object)"
                        ]
                    },
                    "execution_count": 29,
                    "metadata": {},
                    "output_type": "execute_result"
                }
            ],
            "source": [
                "data_subset[\"age\"].dtype"
            ]
        },
        {
            "cell_type": "markdown",
            "metadata": {},
            "source": [
                "><span style=\"color: #008080\">*When trying to directly calculate the average on the 'age' variable, I encountered the TypeError: 'Categorical' with dtype category does not support reduction 'mean.'*</span>\n",
                ">\n",
                "><span style=\"color: #008080\">*If we observe the type of this variable, we notice that it is a categorical variable, which contains strings. We need to be careful when converting it to an integer since we have the categories 'less than 1 year old' and '(90+ in 1980 and 1990).*</span>\n",
                ">\n",
                "><span style=\"color: #008080\">*One should consider some decision rules to calculate the mean. One option could be to eliminate these data points. Another option could be to replace 'less than 1 year old' with 0 and '(90+ in 1980 and 1990)' with 90. This decision depends on the distribution of the data and the researcher's criteria*</span>"
            ]
        },
        {
            "cell_type": "markdown",
            "metadata": {},
            "source": [
                "### Exercise 5\n",
                "\n",
                "We want to be able to calculate things using age, so we need it to be a numeric type. Check the current type of `age`, and look at all the values of `age` to figure out why it's categorical and not numeric. You should find two problematic categories. Store the values of these categories in `\"ex5_age_young\"` and `\"ex5_age_old\"` (once you find them, it should be clear which is which)."
            ]
        },
        {
            "cell_type": "markdown",
            "metadata": {},
            "source": [
                "><span style=\"color: #008080\">*As we saw in the previous exercise, our two problematic categories are **'less than 1 year old'** and **'(90+ in 1980 and 1990)**.*</span>"
            ]
        },
        {
            "cell_type": "code",
            "execution_count": 30,
            "metadata": {},
            "outputs": [],
            "source": [
                "results[\"ex5_age_young\"] = \"less than 1 year old\"\n",
                "results[\"ex5_age_old\"] = \"90 (90+ in 1980 and 1990)\""
            ]
        },
        {
            "cell_type": "markdown",
            "metadata": {},
            "source": [
                "### Exercise 6\n",
                "\n",
                "In order to convert `age` into a numeric variable, we need to replace those problematic entries with values that `pandas` can later convert into numbers. Pick appropriate substitutions for the existing values and replace the current values. \n",
                "\n",
                "**Hint 1:** Categorical variables act like strings, so you might want to use string methods! \n",
                "\n",
                "**Hint 2:** Remember that characters like parentheses, pluses, asterisks, etc. are special in Python strings, and you have to escape them if you want them to be interpreted literally!\n",
                "\n",
                "**Hint 3:** Because the US Census has been conducted regularly for hundreds of years but exactly how the census has been conducted have occasionally changed, variables are sometimes coded in a way that might be interpreted in different ways for different census years. For example, hypothetically, one might write `90 (90+ in 1980 and 1990)` if the Censuses conducted in 1980 and 1990 used to top-code age at 90 (any values *over* 90 were just coded as 90), but more recent Censuses no longer top-coded age and recorded ages over 90 as the respondents actual age."
            ]
        },
        {
            "cell_type": "code",
            "execution_count": 31,
            "metadata": {},
            "outputs": [],
            "source": [
                "data_subset[\"age\"] = data_subset[\"age\"].replace(\"less than 1 year old\", \"0\")\n",
                "data_subset[\"age\"] = data_subset[\"age\"].replace(\"90 (90+ in 1980 and 1990)\", \"90\")"
            ]
        },
        {
            "cell_type": "markdown",
            "metadata": {},
            "source": [
                "### Exercise 7\n",
                "\n",
                "Now convert age from a categorical to numeric. Calculate the average age amoung this group, and store it in `\"ex7_avg_age\"`."
            ]
        },
        {
            "cell_type": "code",
            "execution_count": 32,
            "metadata": {},
            "outputs": [
                {
                    "name": "stdout",
                    "output_type": "stream",
                    "text": [
                        "The average age among this sample from ACS is 41.3 years\n"
                    ]
                }
            ],
            "source": [
                "data_subset[\"age\"] = data_subset[\"age\"].astype(int)\n",
                "ex7_avg_age = data_subset[\"age\"].mean()\n",
                "results[\"ex7_avg_age\"] = ex7_avg_age\n",
                "\n",
                "print(f\"The average age among this sample from ACS is {round(ex7_avg_age,2)} years\")"
            ]
        },
        {
            "cell_type": "markdown",
            "metadata": {},
            "source": [
                "### Exercise 8\n",
                "\n",
                "Let's now filter out anyone in our data whose age is less than 18. Note that before made `age` a numeric variable, we couldn't do this! Again, calculate the average age and this time store it in `\"ex8_avg_age\"`. \n",
                "\n",
                "Use this sample of people 18 and over for all subsequent exercises."
            ]
        },
        {
            "cell_type": "code",
            "execution_count": 33,
            "metadata": {},
            "outputs": [
                {
                    "name": "stdout",
                    "output_type": "stream",
                    "text": [
                        "The average age among this sample from ACS, for individuals aged 18 or older, is 49.76 years\n"
                    ]
                }
            ],
            "source": [
                "data_subset = data_subset[data_subset[\"age\"] >= 18]\n",
                "ex8_avg_age = data_subset[\"age\"].mean()\n",
                "results[\"ex8_avg_age\"] = ex8_avg_age\n",
                "print(\n",
                "    f\"The average age among this sample from ACS, for individuals aged 18 or older, is {round(ex8_avg_age,2)} years\"\n",
                ")"
            ]
        },
        {
            "cell_type": "markdown",
            "metadata": {},
            "source": [
                "### Exercise 9\n",
                "\n",
                "Create an indicator variable for whether each person has *at least* a college Bachelor's degree called `college_degree`. Use this variable to calculate the number of people in the dataset with a college degree. You may assume that to get a college degree you need to complete at least 4 years of college. Save the result as `\"ex9_num_college\"`."
            ]
        },
        {
            "cell_type": "code",
            "execution_count": 34,
            "metadata": {},
            "outputs": [
                {
                    "name": "stdout",
                    "output_type": "stream",
                    "text": [
                        "First, let's see how the 'educ' variable is distributed within our subset.\n"
                    ]
                },
                {
                    "data": {
                        "text/plain": [
                            "CategoricalDtype(categories=['n/a or no schooling', 'nursery school to grade 4',\n",
                            "                  'grade 5, 6, 7, or 8', 'grade 9', 'grade 10', 'grade 11',\n",
                            "                  'grade 12', '1 year of college', '2 years of college',\n",
                            "                  '4 years of college', '5+ years of college'],\n",
                            ", ordered=True, categories_dtype=object)"
                        ]
                    },
                    "execution_count": 34,
                    "metadata": {},
                    "output_type": "execute_result"
                }
            ],
            "source": [
                "print(\"First, let's see how the 'educ' variable is distributed within our subset.\")\n",
                "data_subset[\"educ\"].dtype"
            ]
        },
        {
            "cell_type": "code",
            "execution_count": 35,
            "metadata": {},
            "outputs": [
                {
                    "name": "stdout",
                    "output_type": "stream",
                    "text": [
                        "educ\n",
                        "n/a or no schooling           3644\n",
                        "nursery school to grade 4     1288\n",
                        "grade 5, 6, 7, or 8           5975\n",
                        "grade 9                       3145\n",
                        "grade 10                      4078\n",
                        "grade 11                      5816\n",
                        "grade 12                     92576\n",
                        "1 year of college            38746\n",
                        "2 years of college           20753\n",
                        "4 years of college           47212\n",
                        "5+ years of college          29801\n",
                        "Name: count, dtype: int64\n"
                    ]
                }
            ],
            "source": [
                "print(data_subset[\"educ\"].value_counts().sort_index())"
            ]
        },
        {
            "cell_type": "markdown",
            "metadata": {},
            "source": [
                "><span style=\"color: #008080\">*\"When observing the 'educ' variable, we can see that it is a categorical variable, and its categories are already ordered. Therefore, we can use comparison operators such as >=, <=, <, > without any issues.\"*</span>"
            ]
        },
        {
            "cell_type": "code",
            "execution_count": 36,
            "metadata": {},
            "outputs": [
                {
                    "data": {
                        "text/html": [
                            "<div>\n",
                            "<style scoped>\n",
                            "    .dataframe tbody tr th:only-of-type {\n",
                            "        vertical-align: middle;\n",
                            "    }\n",
                            "\n",
                            "    .dataframe tbody tr th {\n",
                            "        vertical-align: top;\n",
                            "    }\n",
                            "\n",
                            "    .dataframe thead th {\n",
                            "        text-align: right;\n",
                            "    }\n",
                            "</style>\n",
                            "<table border=\"1\" class=\"dataframe\">\n",
                            "  <thead>\n",
                            "    <tr style=\"text-align: right;\">\n",
                            "      <th></th>\n",
                            "      <th>age</th>\n",
                            "      <th>sex</th>\n",
                            "      <th>educ</th>\n",
                            "      <th>inctot</th>\n",
                            "      <th>college_degree</th>\n",
                            "    </tr>\n",
                            "  </thead>\n",
                            "  <tbody>\n",
                            "    <tr>\n",
                            "      <th>2</th>\n",
                            "      <td>63</td>\n",
                            "      <td>male</td>\n",
                            "      <td>4 years of college</td>\n",
                            "      <td>6150.0</td>\n",
                            "      <td>True</td>\n",
                            "    </tr>\n",
                            "    <tr>\n",
                            "      <th>3</th>\n",
                            "      <td>66</td>\n",
                            "      <td>female</td>\n",
                            "      <td>grade 12</td>\n",
                            "      <td>14000.0</td>\n",
                            "      <td>False</td>\n",
                            "    </tr>\n",
                            "    <tr>\n",
                            "      <th>5</th>\n",
                            "      <td>50</td>\n",
                            "      <td>male</td>\n",
                            "      <td>grade 12</td>\n",
                            "      <td>50000.0</td>\n",
                            "      <td>False</td>\n",
                            "    </tr>\n",
                            "    <tr>\n",
                            "      <th>6</th>\n",
                            "      <td>82</td>\n",
                            "      <td>male</td>\n",
                            "      <td>1 year of college</td>\n",
                            "      <td>27100.0</td>\n",
                            "      <td>False</td>\n",
                            "    </tr>\n",
                            "    <tr>\n",
                            "      <th>10</th>\n",
                            "      <td>47</td>\n",
                            "      <td>male</td>\n",
                            "      <td>n/a or no schooling</td>\n",
                            "      <td>18000.0</td>\n",
                            "      <td>False</td>\n",
                            "    </tr>\n",
                            "    <tr>\n",
                            "      <th>...</th>\n",
                            "      <td>...</td>\n",
                            "      <td>...</td>\n",
                            "      <td>...</td>\n",
                            "      <td>...</td>\n",
                            "      <td>...</td>\n",
                            "    </tr>\n",
                            "    <tr>\n",
                            "      <th>318998</th>\n",
                            "      <td>31</td>\n",
                            "      <td>female</td>\n",
                            "      <td>5+ years of college</td>\n",
                            "      <td>0.0</td>\n",
                            "      <td>True</td>\n",
                            "    </tr>\n",
                            "    <tr>\n",
                            "      <th>318999</th>\n",
                            "      <td>33</td>\n",
                            "      <td>female</td>\n",
                            "      <td>4 years of college</td>\n",
                            "      <td>22130.0</td>\n",
                            "      <td>True</td>\n",
                            "    </tr>\n",
                            "    <tr>\n",
                            "      <th>319001</th>\n",
                            "      <td>20</td>\n",
                            "      <td>male</td>\n",
                            "      <td>grade 12</td>\n",
                            "      <td>5000.0</td>\n",
                            "      <td>False</td>\n",
                            "    </tr>\n",
                            "    <tr>\n",
                            "      <th>319002</th>\n",
                            "      <td>47</td>\n",
                            "      <td>male</td>\n",
                            "      <td>5+ years of college</td>\n",
                            "      <td>240000.0</td>\n",
                            "      <td>True</td>\n",
                            "    </tr>\n",
                            "    <tr>\n",
                            "      <th>319003</th>\n",
                            "      <td>33</td>\n",
                            "      <td>male</td>\n",
                            "      <td>5+ years of college</td>\n",
                            "      <td>48000.0</td>\n",
                            "      <td>True</td>\n",
                            "    </tr>\n",
                            "  </tbody>\n",
                            "</table>\n",
                            "<p>253034 rows × 5 columns</p>\n",
                            "</div>"
                        ],
                        "text/plain": [
                            "        age     sex                 educ    inctot  college_degree\n",
                            "2        63    male   4 years of college    6150.0            True\n",
                            "3        66  female             grade 12   14000.0           False\n",
                            "5        50    male             grade 12   50000.0           False\n",
                            "6        82    male    1 year of college   27100.0           False\n",
                            "10       47    male  n/a or no schooling   18000.0           False\n",
                            "...     ...     ...                  ...       ...             ...\n",
                            "318998   31  female  5+ years of college       0.0            True\n",
                            "318999   33  female   4 years of college   22130.0            True\n",
                            "319001   20    male             grade 12    5000.0           False\n",
                            "319002   47    male  5+ years of college  240000.0            True\n",
                            "319003   33    male  5+ years of college   48000.0            True\n",
                            "\n",
                            "[253034 rows x 5 columns]"
                        ]
                    },
                    "execution_count": 36,
                    "metadata": {},
                    "output_type": "execute_result"
                }
            ],
            "source": [
                "data_subset[\"college_degree\"] = data_subset[\"educ\"] >= \"4 years of college\"\n",
                "data_subset"
            ]
        },
        {
            "cell_type": "code",
            "execution_count": 37,
            "metadata": {},
            "outputs": [
                {
                    "name": "stdout",
                    "output_type": "stream",
                    "text": [
                        "The number of people with a college degree among this sample from ACS is 77,013 people.\n"
                    ]
                }
            ],
            "source": [
                "ex9_num_college = data_subset[data_subset[\"college_degree\"] == True].shape[0]\n",
                "results[\"ex9_num_college\"] = ex9_num_college\n",
                "print(\n",
                "    f\"The number of people with a college degree among this sample from ACS is {round(ex9_num_college, 2):,} people.\"\n",
                ")"
            ]
        },
        {
            "cell_type": "markdown",
            "metadata": {},
            "source": [
                "### Exercise 10\n",
                "\n",
                "Let's examine how the educational gender gap. Use `pd.crosstab` to create a cross-tabulation of `sex` and `college_degree`. `pd.crosstab` will give you the number of people who have each combination of `sex` and `college_degree` (so in this case, it will give us a 2x2 table with Male and Female as rows, and `college_degree` True and False as columns, or vice versa. "
            ]
        },
        {
            "cell_type": "code",
            "execution_count": 38,
            "metadata": {},
            "outputs": [
                {
                    "data": {
                        "text/html": [
                            "<div>\n",
                            "<style scoped>\n",
                            "    .dataframe tbody tr th:only-of-type {\n",
                            "        vertical-align: middle;\n",
                            "    }\n",
                            "\n",
                            "    .dataframe tbody tr th {\n",
                            "        vertical-align: top;\n",
                            "    }\n",
                            "\n",
                            "    .dataframe thead th {\n",
                            "        text-align: right;\n",
                            "    }\n",
                            "</style>\n",
                            "<table border=\"1\" class=\"dataframe\">\n",
                            "  <thead>\n",
                            "    <tr style=\"text-align: right;\">\n",
                            "      <th>college_degree</th>\n",
                            "      <th>False</th>\n",
                            "      <th>True</th>\n",
                            "    </tr>\n",
                            "    <tr>\n",
                            "      <th>sex</th>\n",
                            "      <th></th>\n",
                            "      <th></th>\n",
                            "    </tr>\n",
                            "  </thead>\n",
                            "  <tbody>\n",
                            "    <tr>\n",
                            "      <th>male</th>\n",
                            "      <td>85821</td>\n",
                            "      <td>36181</td>\n",
                            "    </tr>\n",
                            "    <tr>\n",
                            "      <th>female</th>\n",
                            "      <td>90200</td>\n",
                            "      <td>40832</td>\n",
                            "    </tr>\n",
                            "  </tbody>\n",
                            "</table>\n",
                            "</div>"
                        ],
                        "text/plain": [
                            "college_degree  False  True \n",
                            "sex                         \n",
                            "male            85821  36181\n",
                            "female          90200  40832"
                        ]
                    },
                    "execution_count": 38,
                    "metadata": {},
                    "output_type": "execute_result"
                }
            ],
            "source": [
                "pd.crosstab(data_subset[\"sex\"], data_subset[\"college_degree\"])"
            ]
        },
        {
            "cell_type": "markdown",
            "metadata": {},
            "source": [
                "### Exercise 11\n",
                "\n",
                "Counts are kind of hard to interpret. `pd.crosstab` can also normalize values to give percentages. Look at the `pd.crosstab` help file to figure out how to normalize the values in the table. Normalize them so that you get the share of men with and without college degree, and the share of women with and without college degrees.\n",
                "\n",
                "Store the share (between 0 and 1) of men with college degrees in `\"ex11_share_male_w_degrees\"`, and the share of women with degrees in `\"ex11_share_female_w_degrees\"`."
            ]
        },
        {
            "cell_type": "code",
            "execution_count": 39,
            "metadata": {},
            "outputs": [
                {
                    "name": "stdout",
                    "output_type": "stream",
                    "text": [
                        "college_degree     False     True \n",
                        "sex                               \n",
                        "male            0.703439  0.296561\n",
                        "female          0.688381  0.311619\n"
                    ]
                }
            ],
            "source": [
                "table = pd.crosstab(\n",
                "    data_subset[\"sex\"], data_subset[\"college_degree\"], normalize=\"index\"\n",
                ")\n",
                "print(table)"
            ]
        },
        {
            "cell_type": "code",
            "execution_count": 40,
            "metadata": {},
            "outputs": [
                {
                    "name": "stdout",
                    "output_type": "stream",
                    "text": [
                        "The percentage of men aged 18 or older with a college degree among this sample from ACS is 29.66%.\n",
                        "The percentage of female aged 18 or older with a college degree among this sample from ACS is 31.16%.\n"
                    ]
                }
            ],
            "source": [
                "ex11_share_male_w_degrees = table[True][\"male\"]\n",
                "ex11_share_female_w_degrees = table[True][\"female\"]\n",
                "\n",
                "results[\"ex11_share_male_w_degrees\"] = ex11_share_male_w_degrees\n",
                "results[\"ex11_share_female_w_degrees\"] = ex11_share_female_w_degrees\n",
                "\n",
                "print(\n",
                "    f\"The percentage of men aged 18 or older with a college degree among this sample from ACS is {round(ex11_share_male_w_degrees*100, 2):,}%.\"\n",
                ")\n",
                "print(\n",
                "    f\"The percentage of female aged 18 or older with a college degree among this sample from ACS is {round(ex11_share_female_w_degrees*100, 2):,}%.\"\n",
                ")"
            ]
        },
        {
            "cell_type": "markdown",
            "metadata": {},
            "source": [
                "><span style=\"color: #008080\">*We can see that the percentage of men with a college degree in this sample is similar to that of women, with the women's percentage being slightly higher*</span>"
            ]
        },
        {
            "cell_type": "markdown",
            "metadata": {},
            "source": [
                "### Exercise 12\n",
                "\n",
                "Now, let's recreate that table for people who are 40 and over and people under 40. Over time, what does this suggest about the absolute difference in the share of men and women earning college degrees? Has it gotten larger, stayed the same, or gotten smaller? Store your answer (either `\"the absolute difference has increased\"` or `\"the absolute difference has decreased\"`) in `\"ex12_comparing\"`."
            ]
        },
        {
            "cell_type": "code",
            "execution_count": 41,
            "metadata": {},
            "outputs": [
                {
                    "data": {
                        "text/html": [
                            "<div>\n",
                            "<style scoped>\n",
                            "    .dataframe tbody tr th:only-of-type {\n",
                            "        vertical-align: middle;\n",
                            "    }\n",
                            "\n",
                            "    .dataframe tbody tr th {\n",
                            "        vertical-align: top;\n",
                            "    }\n",
                            "\n",
                            "    .dataframe thead th {\n",
                            "        text-align: right;\n",
                            "    }\n",
                            "</style>\n",
                            "<table border=\"1\" class=\"dataframe\">\n",
                            "  <thead>\n",
                            "    <tr style=\"text-align: right;\">\n",
                            "      <th></th>\n",
                            "      <th>age</th>\n",
                            "      <th>sex</th>\n",
                            "      <th>educ</th>\n",
                            "      <th>inctot</th>\n",
                            "      <th>college_degree</th>\n",
                            "      <th>40_90</th>\n",
                            "    </tr>\n",
                            "  </thead>\n",
                            "  <tbody>\n",
                            "    <tr>\n",
                            "      <th>2</th>\n",
                            "      <td>63</td>\n",
                            "      <td>male</td>\n",
                            "      <td>4 years of college</td>\n",
                            "      <td>6150.0</td>\n",
                            "      <td>True</td>\n",
                            "      <td>True</td>\n",
                            "    </tr>\n",
                            "    <tr>\n",
                            "      <th>3</th>\n",
                            "      <td>66</td>\n",
                            "      <td>female</td>\n",
                            "      <td>grade 12</td>\n",
                            "      <td>14000.0</td>\n",
                            "      <td>False</td>\n",
                            "      <td>True</td>\n",
                            "    </tr>\n",
                            "    <tr>\n",
                            "      <th>5</th>\n",
                            "      <td>50</td>\n",
                            "      <td>male</td>\n",
                            "      <td>grade 12</td>\n",
                            "      <td>50000.0</td>\n",
                            "      <td>False</td>\n",
                            "      <td>True</td>\n",
                            "    </tr>\n",
                            "    <tr>\n",
                            "      <th>6</th>\n",
                            "      <td>82</td>\n",
                            "      <td>male</td>\n",
                            "      <td>1 year of college</td>\n",
                            "      <td>27100.0</td>\n",
                            "      <td>False</td>\n",
                            "      <td>True</td>\n",
                            "    </tr>\n",
                            "    <tr>\n",
                            "      <th>10</th>\n",
                            "      <td>47</td>\n",
                            "      <td>male</td>\n",
                            "      <td>n/a or no schooling</td>\n",
                            "      <td>18000.0</td>\n",
                            "      <td>False</td>\n",
                            "      <td>True</td>\n",
                            "    </tr>\n",
                            "    <tr>\n",
                            "      <th>...</th>\n",
                            "      <td>...</td>\n",
                            "      <td>...</td>\n",
                            "      <td>...</td>\n",
                            "      <td>...</td>\n",
                            "      <td>...</td>\n",
                            "      <td>...</td>\n",
                            "    </tr>\n",
                            "    <tr>\n",
                            "      <th>318998</th>\n",
                            "      <td>31</td>\n",
                            "      <td>female</td>\n",
                            "      <td>5+ years of college</td>\n",
                            "      <td>0.0</td>\n",
                            "      <td>True</td>\n",
                            "      <td>False</td>\n",
                            "    </tr>\n",
                            "    <tr>\n",
                            "      <th>318999</th>\n",
                            "      <td>33</td>\n",
                            "      <td>female</td>\n",
                            "      <td>4 years of college</td>\n",
                            "      <td>22130.0</td>\n",
                            "      <td>True</td>\n",
                            "      <td>False</td>\n",
                            "    </tr>\n",
                            "    <tr>\n",
                            "      <th>319001</th>\n",
                            "      <td>20</td>\n",
                            "      <td>male</td>\n",
                            "      <td>grade 12</td>\n",
                            "      <td>5000.0</td>\n",
                            "      <td>False</td>\n",
                            "      <td>False</td>\n",
                            "    </tr>\n",
                            "    <tr>\n",
                            "      <th>319002</th>\n",
                            "      <td>47</td>\n",
                            "      <td>male</td>\n",
                            "      <td>5+ years of college</td>\n",
                            "      <td>240000.0</td>\n",
                            "      <td>True</td>\n",
                            "      <td>True</td>\n",
                            "    </tr>\n",
                            "    <tr>\n",
                            "      <th>319003</th>\n",
                            "      <td>33</td>\n",
                            "      <td>male</td>\n",
                            "      <td>5+ years of college</td>\n",
                            "      <td>48000.0</td>\n",
                            "      <td>True</td>\n",
                            "      <td>False</td>\n",
                            "    </tr>\n",
                            "  </tbody>\n",
                            "</table>\n",
                            "<p>253034 rows × 6 columns</p>\n",
                            "</div>"
                        ],
                        "text/plain": [
                            "        age     sex                 educ    inctot  college_degree  40_90\n",
                            "2        63    male   4 years of college    6150.0            True   True\n",
                            "3        66  female             grade 12   14000.0           False   True\n",
                            "5        50    male             grade 12   50000.0           False   True\n",
                            "6        82    male    1 year of college   27100.0           False   True\n",
                            "10       47    male  n/a or no schooling   18000.0           False   True\n",
                            "...     ...     ...                  ...       ...             ...    ...\n",
                            "318998   31  female  5+ years of college       0.0            True  False\n",
                            "318999   33  female   4 years of college   22130.0            True  False\n",
                            "319001   20    male             grade 12    5000.0           False  False\n",
                            "319002   47    male  5+ years of college  240000.0            True   True\n",
                            "319003   33    male  5+ years of college   48000.0            True  False\n",
                            "\n",
                            "[253034 rows x 6 columns]"
                        ]
                    },
                    "execution_count": 41,
                    "metadata": {},
                    "output_type": "execute_result"
                }
            ],
            "source": [
                "data_subset[\"40_90\"] = data_subset[\"age\"] >= 40\n",
                "data_subset"
            ]
        },
        {
            "cell_type": "code",
            "execution_count": 42,
            "metadata": {},
            "outputs": [],
            "source": [
                "data_subset_18_39 = data_subset[data_subset[\"40_90\"] == False]\n",
                "data_subset_40_90 = data_subset[data_subset[\"40_90\"] == True]"
            ]
        },
        {
            "cell_type": "code",
            "execution_count": 43,
            "metadata": {},
            "outputs": [
                {
                    "name": "stdout",
                    "output_type": "stream",
                    "text": [
                        "18 to 39 years: \n",
                        "\n",
                        "college_degree     False     True \n",
                        "sex                               \n",
                        "male            0.743143  0.256857\n",
                        "female          0.665710  0.334290\n",
                        "\n",
                        "40+ years: \n",
                        "\n",
                        "college_degree     False     True \n",
                        "sex                               \n",
                        "male            0.682123  0.317877\n",
                        "female          0.699144  0.300856\n"
                    ]
                }
            ],
            "source": [
                "table2 = pd.crosstab(\n",
                "    data_subset_18_39[\"sex\"], data_subset_18_39[\"college_degree\"], normalize=\"index\"\n",
                ")\n",
                "\n",
                "table3 = pd.crosstab(\n",
                "    data_subset_40_90[\"sex\"], data_subset_40_90[\"college_degree\"], normalize=\"index\"\n",
                ")\n",
                "print(\"18 to 39 years: \\n\")\n",
                "print(table2)\n",
                "print(\"\\n40+ years: \\n\")\n",
                "print(table3)"
            ]
        },
        {
            "cell_type": "code",
            "execution_count": 44,
            "metadata": {},
            "outputs": [
                {
                    "name": "stdout",
                    "output_type": "stream",
                    "text": [
                        "The table shows the absolute difference of male and female who are over 40 and have college degress has increased in this sample.\n"
                    ]
                }
            ],
            "source": [
                "results[\"ex12_comparing\"] = \"the absolute difference has increased\"\n",
                "\n",
                "print(\n",
                "    f\"The table shows the absolute difference of male and female who are over 40 and have college degress has increased in this sample.\"\n",
                ")"
            ]
        },
        {
            "cell_type": "markdown",
            "metadata": {},
            "source": [
                "### Exercise 13\n",
                "\n",
                "In words, what is causing the change noted in Exercise 12 (i.e., looking at the tables above, tell me a story about Men and Women's College attainment)."
            ]
        },
        {
            "cell_type": "markdown",
            "metadata": {},
            "source": [
                "><span style=\"color: #008080\">*From the analyzed sample, we can draw the following conclusions:*</span>\n",
                ">\n",
                "><span style=\"color: #008080\">*- In newer generations, a higher percentage of individuals are completing four-year college degrees. This trend is observed for both women and men.*</span>\n",
                ">\n",
                "><span style=\"color: #008080\">*- We can observe an evolution in terms of gender equity in college education. Previously, the proportion of men pursuing four-year college education was higher than that of women, but this gap has narrowed in recent times.*</span>"
            ]
        },
        {
            "cell_type": "markdown",
            "metadata": {},
            "source": [
                "## Check results"
            ]
        },
        {
            "cell_type": "code",
            "execution_count": 45,
            "metadata": {},
            "outputs": [
                {
                    "data": {
                        "text/plain": [
                            "{'ex5_age_young': 'less than 1 year old',\n",
                            " 'ex5_age_old': '90 (90+ in 1980 and 1990)',\n",
                            " 'ex7_avg_age': 41.30384885455982,\n",
                            " 'ex8_avg_age': 49.75769659413359,\n",
                            " 'ex9_num_college': 77013,\n",
                            " 'ex11_share_male_w_degrees': 0.29656071211947344,\n",
                            " 'ex11_share_female_w_degrees': 0.3116185359301545,\n",
                            " 'ex12_comparing': 'the absolute difference has increased'}"
                        ]
                    },
                    "execution_count": 45,
                    "metadata": {},
                    "output_type": "execute_result"
                }
            ],
            "source": [
                "results"
            ]
        },
        {
            "cell_type": "code",
            "execution_count": 46,
            "metadata": {},
            "outputs": [],
            "source": [
                "assert set(results.keys()) == {\n",
                "    \"ex5_age_young\",\n",
                "    \"ex5_age_old\",\n",
                "    \"ex7_avg_age\",\n",
                "    \"ex8_avg_age\",\n",
                "    \"ex9_num_college\",\n",
                "    \"ex11_share_male_w_degrees\",\n",
                "    \"ex11_share_female_w_degrees\",\n",
                "    \"ex12_comparing\",\n",
                "}"
            ]
        },
        {
            "cell_type": "markdown",
            "metadata": {},
            "source": [
                "## Want More Practice?\n",
                "\n",
                "Calculate the educational racial gap in the United States for White Americans, Black Americans, Hispanic Americans, and other groups. \n",
                "\n",
                "Note that to do these calculations, you'll have to deal with the fact that unlike most Americans, the American Census Bureau treats \"Hispanic\" not as a racial category, but a linguistic one. As a result, the racial category \"White\" in `race` actually includes most Hispanic Americans. For this analysis, we wish to work with the mutually exclusive categories of \"White, non-Hispanic\", \"White, Hispanic\", \"Black (Hispanic or non-Hispanic)\", and a category for everyone else. "
            ]
        }
    ],
    "metadata": {
        "kernelspec": {
            "display_name": "Python 3.10.6 ('base')",
            "language": "python",
            "name": "python3"
        },
        "language_info": {
            "codemirror_mode": {
                "name": "ipython",
                "version": 3
            },
            "file_extension": ".py",
            "mimetype": "text/x-python",
            "name": "python",
            "nbconvert_exporter": "python",
            "pygments_lexer": "ipython3",
            "version": "3.11.5"
        },
        "vscode": {
            "interpreter": {
                "hash": "718fed28bf9f8c7851519acf2fb923cd655120b36de3b67253eeb0428bd33d2d"
            }
        }
    },
    "nbformat": 4,
    "nbformat_minor": 4
}
