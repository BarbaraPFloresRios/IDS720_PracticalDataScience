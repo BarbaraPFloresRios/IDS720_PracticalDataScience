{
    "cells": [
        {
            "cell_type": "markdown",
            "metadata": {},
            "source": [
                "# Cleaning Data Exercises\n",
                "\n",
                "<span style=\"color: #008080\">*Bárbara Flores*</span>\n",
                "\n",
                "In this exercise, we'll be returning to the American Community Survey data we used previously to measuring racial income inequality in the United States. In today's exercise, we'll be using it to measure the returns to education and how those returns vary by race and gender.\n",
                "\n"
            ]
        },
        {
            "cell_type": "markdown",
            "metadata": {},
            "source": [
                "\n",
                "## Gradescope Autograding\n",
                "\n",
                "Please follow [all standard guidance](https://www.practicaldatascience.org/html/autograder_guidelines.html) for submitting this assignment to the Gradescope autograder, including storing your solutions in a dictionary called `results` and ensuring your notebook runs from the start to completion without any errors.\n",
                "\n",
                "For this assignment, please name your file `exercise_missing.ipynb` before uploading.\n",
                "\n",
                "You can check that you have answers for all questions in your `results` dictionary with this code:\n",
                "\n",
                "```python\n",
                "assert set(results.keys()) == {\n",
                "    \"ex5_age_young\",\n",
                "    \"ex5_age_old\",\n",
                "    \"ex7_avg_age\",\n",
                "    \"ex8_avg_age\",\n",
                "    \"ex9_num_college\",\n",
                "    \"ex11_share_male_w_degrees\",\n",
                "    \"ex11_share_female_w_degrees\",\n",
                "    \"ex12_comparing\",\n",
                "}\n",
                "```\n",
                "\n",
                "\n",
                "### Submission Limits\n",
                "\n",
                "Please remember that you are **only allowed three submissions to the autograder.** Your last submission (if you submit 3 or fewer times), or your third submission (if you submit more than 3 times) will determine your grade Submissions that error out will **not** count against this total."
            ]
        },
        {
            "cell_type": "code",
            "execution_count": 1,
            "metadata": {},
            "outputs": [],
            "source": [
                "results = {}"
            ]
        },
        {
            "cell_type": "markdown",
            "metadata": {},
            "source": [
                "## Exercises\n",
                "\n",
                "### Exercise 1\n",
                "\n",
                "For these cleaning exercises, we'll return to the ACS data we've used before one last time. We'll be working with `US_ACS_2017_10pct_sample.dta`. Import the data (please use url for the autograder)."
            ]
        },
        {
            "cell_type": "code",
            "execution_count": 2,
            "metadata": {},
            "outputs": [
                {
                    "data": {
                        "text/html": [
                            "<div>\n",
                            "<style scoped>\n",
                            "    .dataframe tbody tr th:only-of-type {\n",
                            "        vertical-align: middle;\n",
                            "    }\n",
                            "\n",
                            "    .dataframe tbody tr th {\n",
                            "        vertical-align: top;\n",
                            "    }\n",
                            "\n",
                            "    .dataframe thead th {\n",
                            "        text-align: right;\n",
                            "    }\n",
                            "</style>\n",
                            "<table border=\"1\" class=\"dataframe\">\n",
                            "  <thead>\n",
                            "    <tr style=\"text-align: right;\">\n",
                            "      <th></th>\n",
                            "      <th>year</th>\n",
                            "      <th>datanum</th>\n",
                            "      <th>serial</th>\n",
                            "      <th>cbserial</th>\n",
                            "      <th>numprec</th>\n",
                            "      <th>subsamp</th>\n",
                            "      <th>hhwt</th>\n",
                            "      <th>hhtype</th>\n",
                            "      <th>cluster</th>\n",
                            "      <th>adjust</th>\n",
                            "      <th>...</th>\n",
                            "      <th>migcounty1</th>\n",
                            "      <th>migmet131</th>\n",
                            "      <th>vetdisab</th>\n",
                            "      <th>diffrem</th>\n",
                            "      <th>diffphys</th>\n",
                            "      <th>diffmob</th>\n",
                            "      <th>diffcare</th>\n",
                            "      <th>diffsens</th>\n",
                            "      <th>diffeye</th>\n",
                            "      <th>diffhear</th>\n",
                            "    </tr>\n",
                            "  </thead>\n",
                            "  <tbody>\n",
                            "    <tr>\n",
                            "      <th>265800</th>\n",
                            "      <td>2017</td>\n",
                            "      <td>1</td>\n",
                            "      <td>1196648</td>\n",
                            "      <td>2.017000e+12</td>\n",
                            "      <td>4</td>\n",
                            "      <td>34</td>\n",
                            "      <td>79</td>\n",
                            "      <td>married-couple family household</td>\n",
                            "      <td>2.017012e+12</td>\n",
                            "      <td>1.011189</td>\n",
                            "      <td>...</td>\n",
                            "      <td>0</td>\n",
                            "      <td>not in identifiable area</td>\n",
                            "      <td>n/a</td>\n",
                            "      <td>no cognitive difficulty</td>\n",
                            "      <td>no ambulatory difficulty</td>\n",
                            "      <td>n/a</td>\n",
                            "      <td>no</td>\n",
                            "      <td>no vision or hearing difficulty</td>\n",
                            "      <td>no</td>\n",
                            "      <td>no</td>\n",
                            "    </tr>\n",
                            "    <tr>\n",
                            "      <th>163891</th>\n",
                            "      <td>2017</td>\n",
                            "      <td>1</td>\n",
                            "      <td>836390</td>\n",
                            "      <td>2.017000e+12</td>\n",
                            "      <td>5</td>\n",
                            "      <td>96</td>\n",
                            "      <td>202</td>\n",
                            "      <td>married-couple family household</td>\n",
                            "      <td>2.017008e+12</td>\n",
                            "      <td>1.011189</td>\n",
                            "      <td>...</td>\n",
                            "      <td>0</td>\n",
                            "      <td>not in identifiable area</td>\n",
                            "      <td>n/a</td>\n",
                            "      <td>no cognitive difficulty</td>\n",
                            "      <td>no ambulatory difficulty</td>\n",
                            "      <td>n/a</td>\n",
                            "      <td>no</td>\n",
                            "      <td>no vision or hearing difficulty</td>\n",
                            "      <td>no</td>\n",
                            "      <td>no</td>\n",
                            "    </tr>\n",
                            "  </tbody>\n",
                            "</table>\n",
                            "<p>2 rows × 104 columns</p>\n",
                            "</div>"
                        ],
                        "text/plain": [
                            "        year  datanum   serial      cbserial numprec subsamp  hhwt  \\\n",
                            "265800  2017        1  1196648  2.017000e+12       4      34    79   \n",
                            "163891  2017        1   836390  2.017000e+12       5      96   202   \n",
                            "\n",
                            "                                 hhtype       cluster    adjust  ...  \\\n",
                            "265800  married-couple family household  2.017012e+12  1.011189  ...   \n",
                            "163891  married-couple family household  2.017008e+12  1.011189  ...   \n",
                            "\n",
                            "        migcounty1                 migmet131 vetdisab  \\\n",
                            "265800           0  not in identifiable area      n/a   \n",
                            "163891           0  not in identifiable area      n/a   \n",
                            "\n",
                            "                        diffrem                  diffphys  diffmob diffcare  \\\n",
                            "265800  no cognitive difficulty  no ambulatory difficulty      n/a       no   \n",
                            "163891  no cognitive difficulty  no ambulatory difficulty      n/a       no   \n",
                            "\n",
                            "                               diffsens  diffeye  diffhear  \n",
                            "265800  no vision or hearing difficulty       no        no  \n",
                            "163891  no vision or hearing difficulty       no        no  \n",
                            "\n",
                            "[2 rows x 104 columns]"
                        ]
                    },
                    "execution_count": 2,
                    "metadata": {},
                    "output_type": "execute_result"
                }
            ],
            "source": [
                "import pandas as pd\n",
                "import numpy as np\n",
                "\n",
                "pd.set_option(\"mode.copy_on_write\", True)\n",
                "\n",
                "data = pd.read_stata(\n",
                "    \"https://github.com/nickeubank/MIDS_Data/raw/master/US_AmericanCommunitySurvey/US_ACS_2017_10pct_sample.dta\"\n",
                ")\n",
                "\n",
                "data.sample(2)"
            ]
        },
        {
            "cell_type": "markdown",
            "metadata": {},
            "source": [
                "### Exercise 2\n",
                "\n",
                "For our exercises today, we'll focus on `age`, `sex`, `educ` (education), and `inctot` (total income). Subset your data to those variables, and quickly look at a sample of 10 rows."
            ]
        },
        {
            "cell_type": "code",
            "execution_count": 3,
            "metadata": {},
            "outputs": [
                {
                    "data": {
                        "text/html": [
                            "<div>\n",
                            "<style scoped>\n",
                            "    .dataframe tbody tr th:only-of-type {\n",
                            "        vertical-align: middle;\n",
                            "    }\n",
                            "\n",
                            "    .dataframe tbody tr th {\n",
                            "        vertical-align: top;\n",
                            "    }\n",
                            "\n",
                            "    .dataframe thead th {\n",
                            "        text-align: right;\n",
                            "    }\n",
                            "</style>\n",
                            "<table border=\"1\" class=\"dataframe\">\n",
                            "  <thead>\n",
                            "    <tr style=\"text-align: right;\">\n",
                            "      <th></th>\n",
                            "      <th>age</th>\n",
                            "      <th>sex</th>\n",
                            "      <th>educ</th>\n",
                            "      <th>inctot</th>\n",
                            "    </tr>\n",
                            "  </thead>\n",
                            "  <tbody>\n",
                            "    <tr>\n",
                            "      <th>280046</th>\n",
                            "      <td>61</td>\n",
                            "      <td>male</td>\n",
                            "      <td>5+ years of college</td>\n",
                            "      <td>210000</td>\n",
                            "    </tr>\n",
                            "    <tr>\n",
                            "      <th>5884</th>\n",
                            "      <td>52</td>\n",
                            "      <td>male</td>\n",
                            "      <td>grade 5, 6, 7, or 8</td>\n",
                            "      <td>30000</td>\n",
                            "    </tr>\n",
                            "    <tr>\n",
                            "      <th>220384</th>\n",
                            "      <td>41</td>\n",
                            "      <td>male</td>\n",
                            "      <td>1 year of college</td>\n",
                            "      <td>100000</td>\n",
                            "    </tr>\n",
                            "    <tr>\n",
                            "      <th>211152</th>\n",
                            "      <td>83</td>\n",
                            "      <td>female</td>\n",
                            "      <td>2 years of college</td>\n",
                            "      <td>7600</td>\n",
                            "    </tr>\n",
                            "    <tr>\n",
                            "      <th>56205</th>\n",
                            "      <td>53</td>\n",
                            "      <td>male</td>\n",
                            "      <td>1 year of college</td>\n",
                            "      <td>135400</td>\n",
                            "    </tr>\n",
                            "    <tr>\n",
                            "      <th>41168</th>\n",
                            "      <td>25</td>\n",
                            "      <td>male</td>\n",
                            "      <td>4 years of college</td>\n",
                            "      <td>25000</td>\n",
                            "    </tr>\n",
                            "    <tr>\n",
                            "      <th>21217</th>\n",
                            "      <td>20</td>\n",
                            "      <td>male</td>\n",
                            "      <td>1 year of college</td>\n",
                            "      <td>0</td>\n",
                            "    </tr>\n",
                            "    <tr>\n",
                            "      <th>79199</th>\n",
                            "      <td>7</td>\n",
                            "      <td>male</td>\n",
                            "      <td>nursery school to grade 4</td>\n",
                            "      <td>9999999</td>\n",
                            "    </tr>\n",
                            "    <tr>\n",
                            "      <th>248125</th>\n",
                            "      <td>10</td>\n",
                            "      <td>male</td>\n",
                            "      <td>nursery school to grade 4</td>\n",
                            "      <td>9999999</td>\n",
                            "    </tr>\n",
                            "    <tr>\n",
                            "      <th>156791</th>\n",
                            "      <td>66</td>\n",
                            "      <td>female</td>\n",
                            "      <td>4 years of college</td>\n",
                            "      <td>67000</td>\n",
                            "    </tr>\n",
                            "  </tbody>\n",
                            "</table>\n",
                            "</div>"
                        ],
                        "text/plain": [
                            "       age     sex                       educ   inctot\n",
                            "280046  61    male        5+ years of college   210000\n",
                            "5884    52    male        grade 5, 6, 7, or 8    30000\n",
                            "220384  41    male          1 year of college   100000\n",
                            "211152  83  female         2 years of college     7600\n",
                            "56205   53    male          1 year of college   135400\n",
                            "41168   25    male         4 years of college    25000\n",
                            "21217   20    male          1 year of college        0\n",
                            "79199    7    male  nursery school to grade 4  9999999\n",
                            "248125  10    male  nursery school to grade 4  9999999\n",
                            "156791  66  female         4 years of college    67000"
                        ]
                    },
                    "execution_count": 3,
                    "metadata": {},
                    "output_type": "execute_result"
                }
            ],
            "source": [
                "data_subset = data[[\"age\", \"sex\", \"educ\", \"inctot\"]]\n",
                "data_subset.sample(10)"
            ]
        },
        {
            "cell_type": "markdown",
            "metadata": {},
            "source": [
                "### Exercise 3\n",
                "\n",
                "As before, all the values of `9999999` have the potential to cause us real problems, so replace all the values of `inctot` that are `9999999` with `np.nan`. "
            ]
        },
        {
            "cell_type": "code",
            "execution_count": 4,
            "metadata": {},
            "outputs": [],
            "source": [
                "data_subset[\"inctot\"] = data_subset[\"inctot\"].replace(9999999, np.nan)"
            ]
        },
        {
            "cell_type": "markdown",
            "metadata": {},
            "source": [
                "### Exercise 4\n",
                "\n",
                "Attempt to calculate the average age of people in our data. What do you get? Why are you getting that error?\n",
                "\n",
                "You *should* get an error in trying to answer this question, but **PLEASE LEAVE THE CODE THAT GENERATES THIS ERROR COMMENTED OUT SO YOUR NOTEBOOK WILL RUN IN THE AUTOGRADER**. \n",
                "\n",
                "Then talk about the error in a markdown cell."
            ]
        },
        {
            "cell_type": "code",
            "execution_count": 5,
            "metadata": {},
            "outputs": [],
            "source": [
                "# data_subset[\"age\"].mean()"
            ]
        },
        {
            "cell_type": "code",
            "execution_count": 6,
            "metadata": {},
            "outputs": [
                {
                    "data": {
                        "text/plain": [
                            "CategoricalDtype(categories=['less than 1 year old', '1', '2', '3', '4', '5', '6', '7',\n",
                            "                  '8', '9', '10', '11', '12', '13', '14', '15', '16', '17',\n",
                            "                  '18', '19', '20', '21', '22', '23', '24', '25', '26', '27',\n",
                            "                  '28', '29', '30', '31', '32', '33', '34', '35', '36', '37',\n",
                            "                  '38', '39', '40', '41', '42', '43', '44', '45', '46', '47',\n",
                            "                  '48', '49', '50', '51', '52', '53', '54', '55', '56', '57',\n",
                            "                  '58', '59', '60', '61', '62', '63', '64', '65', '66', '67',\n",
                            "                  '68', '69', '70', '71', '72', '73', '74', '75', '76', '77',\n",
                            "                  '78', '79', '80', '81', '82', '83', '84', '85', '86', '87',\n",
                            "                  '88', '89', '90 (90+ in 1980 and 1990)', '91', '92', '93',\n",
                            "                  '94', '95', '96'],\n",
                            ", ordered=True, categories_dtype=object)"
                        ]
                    },
                    "execution_count": 6,
                    "metadata": {},
                    "output_type": "execute_result"
                }
            ],
            "source": [
                "data_subset[\"age\"].dtype"
            ]
        },
        {
            "cell_type": "markdown",
            "metadata": {},
            "source": [
                "><span style=\"color: #008080\">*When trying to directly calculate the average on the 'age' variable, I encountered the TypeError: 'Categorical' with dtype category does not support reduction 'mean.'*</span>\n",
                ">\n",
                "><span style=\"color: #008080\">*If we observe the type of this variable, we notice that it is a categorical variable, which contains strings. We need to be careful when converting it to an integer since we have the categories 'less than 1 year old' and '(90+ in 1980 and 1990).*</span>\n",
                ">\n",
                "><span style=\"color: #008080\">*One should consider some decision rules to calculate the mean. One option could be to eliminate these data points. Another option could be to replace 'less than 1 year old' with 0 and '(90+ in 1980 and 1990)' with 90. This decision depends on the distribution of the data and the researcher's criteria*</span>"
            ]
        },
        {
            "cell_type": "markdown",
            "metadata": {},
            "source": [
                "### Exercise 5\n",
                "\n",
                "We want to be able to calculate things using age, so we need it to be a numeric type. Check the current type of `age`, and look at all the values of `age` to figure out why it's categorical and not numeric. You should find two problematic categories. Store the values of these categories in `\"ex5_age_young\"` and `\"ex5_age_old\"` (once you find them, it should be clear which is which)."
            ]
        },
        {
            "cell_type": "markdown",
            "metadata": {},
            "source": [
                "><span style=\"color: #008080\">*As we saw in the previous exercise, our two problematic categories are **'less than 1 year old'** and **'(90+ in 1980 and 1990)**.*</span>"
            ]
        },
        {
            "cell_type": "code",
            "execution_count": 7,
            "metadata": {},
            "outputs": [],
            "source": [
                "results[\"ex5_age_young\"] = \"less than 1 year old\"\n",
                "results[\"ex5_age_old\"] = \"90 (90+ in 1980 and 1990)\""
            ]
        },
        {
            "cell_type": "markdown",
            "metadata": {},
            "source": [
                "### Exercise 6\n",
                "\n",
                "In order to convert `age` into a numeric variable, we need to replace those problematic entries with values that `pandas` can later convert into numbers. Pick appropriate substitutions for the existing values and replace the current values. \n",
                "\n",
                "**Hint 1:** Categorical variables act like strings, so you might want to use string methods! \n",
                "\n",
                "**Hint 2:** Remember that characters like parentheses, pluses, asterisks, etc. are special in Python strings, and you have to escape them if you want them to be interpreted literally!\n",
                "\n",
                "**Hint 3:** Because the US Census has been conducted regularly for hundreds of years but exactly how the census has been conducted have occasionally changed, variables are sometimes coded in a way that might be interpreted in different ways for different census years. For example, hypothetically, one might write `90 (90+ in 1980 and 1990)` if the Censuses conducted in 1980 and 1990 used to top-code age at 90 (any values *over* 90 were just coded as 90), but more recent Censuses no longer top-coded age and recorded ages over 90 as the respondents actual age."
            ]
        },
        {
            "cell_type": "markdown",
            "metadata": {},
            "source": [
                "### Exercise 7\n",
                "\n",
                "Now convert age from a categorical to numeric. Calculate the average age amoung this group, and store it in `\"ex7_avg_age\"`."
            ]
        },
        {
            "cell_type": "markdown",
            "metadata": {},
            "source": [
                "### Exercise 8\n",
                "\n",
                "Let's now filter out anyone in our data whose age is less than 18. Note that before made `age` a numeric variable, we couldn't do this! Again, calculate the average age and this time store it in `\"ex8_avg_age\"`. \n",
                "\n",
                "Use this sample of people 18 and over for all subsequent exercises."
            ]
        },
        {
            "cell_type": "markdown",
            "metadata": {},
            "source": [
                "### Exercise 9\n",
                "\n",
                "Create an indicator variable for whether each person has *at least* a college Bachelor's degree called `college_degree`. Use this variable to calculate the number of people in the dataset with a college degree. You may assume that to get a college degree you need to complete at least 4 years of college. Save the result as `\"ex9_num_college\"`."
            ]
        },
        {
            "cell_type": "markdown",
            "metadata": {},
            "source": [
                "### Exercise 10\n",
                "\n",
                "Let's examine how the educational gender gap. Use `pd.crosstab` to create a cross-tabulation of `sex` and `college_degree`. `pd.crosstab` will give you the number of people who have each combination of `sex` and `college_degree` (so in this case, it will give us a 2x2 table with Male and Female as rows, and `college_degree` True and False as columns, or vice versa. "
            ]
        },
        {
            "cell_type": "markdown",
            "metadata": {},
            "source": [
                "### Exercise 11\n",
                "\n",
                "Counts are kind of hard to interpret. `pd.crosstab` can also normalize values to give percentages. Look at the `pd.crosstab` help file to figure out how to normalize the values in the table. Normalize them so that you get the share of men with and without college degree, and the share of women with and without college degrees.\n",
                "\n",
                "Store the share (between 0 and 1) of men with college degrees in `\"ex11_share_male_w_degrees\"`, and the share of women with degrees in `\"ex11_share_female_w_degrees\"`."
            ]
        },
        {
            "cell_type": "markdown",
            "metadata": {},
            "source": [
                "### Exercise 12\n",
                "\n",
                "Now, let's recreate that table for people who are 40 and over and people under 40. Over time, what does this suggest about the absolute difference in the share of men and women earning college degrees? Has it gotten larger, stayed the same, or gotten smaller? Store your answer (either `\"the absolute difference has increased\"` or `\"the absolute difference has decreased\"`) in `\"ex12_comparing\"`."
            ]
        },
        {
            "cell_type": "markdown",
            "metadata": {},
            "source": [
                "### Exercise 13\n",
                "\n",
                "In words, what is causing the change noted in Exercise 12 (i.e., looking at the tables above, tell me a story about Men and Women's College attainment)."
            ]
        },
        {
            "cell_type": "markdown",
            "metadata": {},
            "source": [
                "## Check results"
            ]
        },
        {
            "cell_type": "code",
            "execution_count": 8,
            "metadata": {},
            "outputs": [
                {
                    "name": "stdout",
                    "output_type": "stream",
                    "text": [
                        "{'ex5_age_young': 'less than 1 year old', 'ex5_age_old': '90 (90+ in 1980 and 1990)'}\n"
                    ]
                }
            ],
            "source": [
                "print(results)"
            ]
        },
        {
            "cell_type": "code",
            "execution_count": 9,
            "metadata": {},
            "outputs": [],
            "source": [
                "assert set(results.keys()) == {\n",
                "    \"ex5_age_young\",\n",
                "    \"ex5_age_old\"\n",
                "    # \"ex7_avg_age\",\n",
                "    # \"ex8_avg_age\",\n",
                "    # \"ex9_num_college\",\n",
                "    # \"ex11_share_male_w_degrees\",\n",
                "    # \"ex11_share_female_w_degrees\",\n",
                "    # \"ex12_comparing\",\n",
                "}"
            ]
        },
        {
            "cell_type": "markdown",
            "metadata": {},
            "source": [
                "## Want More Practice?\n",
                "\n",
                "Calculate the educational racial gap in the United States for White Americans, Black Americans, Hispanic Americans, and other groups. \n",
                "\n",
                "Note that to do these calculations, you'll have to deal with the fact that unlike most Americans, the American Census Bureau treats \"Hispanic\" not as a racial category, but a linguistic one. As a result, the racial category \"White\" in `race` actually includes most Hispanic Americans. For this analysis, we wish to work with the mutually exclusive categories of \"White, non-Hispanic\", \"White, Hispanic\", \"Black (Hispanic or non-Hispanic)\", and a category for everyone else. "
            ]
        }
    ],
    "metadata": {
        "kernelspec": {
            "display_name": "Python 3.10.6 ('base')",
            "language": "python",
            "name": "python3"
        },
        "language_info": {
            "codemirror_mode": {
                "name": "ipython",
                "version": 3
            },
            "file_extension": ".py",
            "mimetype": "text/x-python",
            "name": "python",
            "nbconvert_exporter": "python",
            "pygments_lexer": "ipython3",
            "version": "3.11.5"
        },
        "vscode": {
            "interpreter": {
                "hash": "718fed28bf9f8c7851519acf2fb923cd655120b36de3b67253eeb0428bd33d2d"
            }
        }
    },
    "nbformat": 4,
    "nbformat_minor": 4
}
