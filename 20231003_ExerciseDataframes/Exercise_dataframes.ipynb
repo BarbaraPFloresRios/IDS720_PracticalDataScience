{
 "cells": [
  {
   "cell_type": "markdown",
   "metadata": {},
   "source": [
    "# Estimating Labor Market Returns to Education\n",
    "\n",
    "<span style=\"color: #008080\">*Bárbara Flores*</span>\n",
    "\n",
    "In this exercise, we're going to use data from the [American Communities Survey (ACS)](https://usa.ipums.org/usa/acs.shtml) to study the relationship betwen educational attainment and wages. The ACS is a survey conducted by the United States Census Bureau (though it is not \"The Census,\" which is a counting of every person in the United States that takes place every 10 years) to measure numerous features of the US population. The data we will be working with includes about 100 variables from the 2017 ACS survey, and is a 10% sample of the ACS (which itself is a 1% sample of the US population, so we're working with about a 0.1% sample of the United States). \n",
    "\n",
    "This data comes from [IPUMS](https://usa.ipums.org/usa/), which provides a very useful tool for getting subsets of major survey datasets, not just from the US, but [from government statistical agencies the world over](https://international.ipums.org/international-action/sample_details).\n",
    "\n",
    "This is *real* data, meaning that you are being provided the data as it is provided by IPUMS. Documentation for all variables used in this data can be found [here](https://usa.ipums.org/usa-action/variables/group) (you can either search by variable name to figure out the meaning of a variable in this data, or search for something you want to see if a variable with the right name is in this data). \n",
    "\n",
    "Within this data is information on both the educational background and current earnings of a representative sample of Americans. We will now use this data to estimate the labor-market returns to graduating high school and college, and to learn something about the meaning of an educational degree. "
   ]
  },
  {
   "cell_type": "markdown",
   "metadata": {},
   "source": [
    "## Gradescope Autograding\n",
    "\n",
    "Please follow [all standard guidance](https://www.practicaldatascience.org/html/autograder_guidelines.html) for submitting this assignment to the Gradescope autograder, including storing your solutions in a dictionary called `results` and ensuring your notebook runs from the start to completion without any errors.\n",
    "\n",
    "For this assignment, please name your file `exercise_dataframes.ipynb` before uploading.\n",
    "\n",
    "You can check that you have answers for all questions in your `results` dictionary with this code:\n",
    "\n",
    "```python\n",
    "assert set(results.keys()) == {\n",
    "    \"ex2_num_obs\",\n",
    "    \"ex3_num_vars\",\n",
    "    \"ex8_updated_num_obs\",\n",
    "    \"ex9_updated_num_obs\",\n",
    "    \"ex11_grade12_income\",\n",
    "    \"ex12_college_income\",\n",
    "    \"ex12_college_income_pct\",\n",
    "    \"ex14_high_school_dropout\",\n",
    "    \"ex15_grade_9\",\n",
    "    \"ex15_grade_10\",\n",
    "    \"ex15_grade_11\",\n",
    "    \"ex15_grade_12\",\n",
    "    \"ex15_4_years_of_college\",\n",
    "    \"ex15_graduate\",\n",
    "}\n",
    "```\n",
    "\n",
    "### Submission Limits\n",
    "\n",
    "Please remember that you are **only allowed three submissions to the autograder.** Your last submission (if you submit 3 or fewer times), or your third submission (if you submit more than 3 times) will determine your grade Submissions that error out will **not** count against this total.\n"
   ]
  },
  {
   "cell_type": "code",
   "execution_count": 1,
   "metadata": {},
   "outputs": [],
   "source": [
    "results = dict()"
   ]
  },
  {
   "cell_type": "markdown",
   "metadata": {},
   "source": [
    "## Exercises"
   ]
  },
  {
   "cell_type": "markdown",
   "metadata": {},
   "source": [
    "### Exercise 1\n",
    "\n",
    "Data for these [exercises can be found here](https://github.com/nickeubank/MIDS_Data/tree/master/US_AmericanCommunitySurvey). \n",
    "\n",
    "Import `US_ACS_2017_10pct_sample.dta` into a pandas DataFrame (read it directly from a URL to help the autograder, please). \n",
    "\n",
    "This can be done with the command `pd.read_stata`, which will read in files created in the program Stata (and which uses the file suffix `.dta`). This is a format commonly used by social scientists."
   ]
  },
  {
   "cell_type": "code",
   "execution_count": 2,
   "metadata": {},
   "outputs": [
    {
     "data": {
      "text/html": [
       "<div>\n",
       "<style scoped>\n",
       "    .dataframe tbody tr th:only-of-type {\n",
       "        vertical-align: middle;\n",
       "    }\n",
       "\n",
       "    .dataframe tbody tr th {\n",
       "        vertical-align: top;\n",
       "    }\n",
       "\n",
       "    .dataframe thead th {\n",
       "        text-align: right;\n",
       "    }\n",
       "</style>\n",
       "<table border=\"1\" class=\"dataframe\">\n",
       "  <thead>\n",
       "    <tr style=\"text-align: right;\">\n",
       "      <th></th>\n",
       "      <th>year</th>\n",
       "      <th>datanum</th>\n",
       "      <th>serial</th>\n",
       "      <th>cbserial</th>\n",
       "      <th>numprec</th>\n",
       "      <th>subsamp</th>\n",
       "      <th>hhwt</th>\n",
       "      <th>hhtype</th>\n",
       "      <th>cluster</th>\n",
       "      <th>adjust</th>\n",
       "      <th>...</th>\n",
       "      <th>migcounty1</th>\n",
       "      <th>migmet131</th>\n",
       "      <th>vetdisab</th>\n",
       "      <th>diffrem</th>\n",
       "      <th>diffphys</th>\n",
       "      <th>diffmob</th>\n",
       "      <th>diffcare</th>\n",
       "      <th>diffsens</th>\n",
       "      <th>diffeye</th>\n",
       "      <th>diffhear</th>\n",
       "    </tr>\n",
       "  </thead>\n",
       "  <tbody>\n",
       "    <tr>\n",
       "      <th>0</th>\n",
       "      <td>2017</td>\n",
       "      <td>1</td>\n",
       "      <td>177686</td>\n",
       "      <td>2.017001e+12</td>\n",
       "      <td>9</td>\n",
       "      <td>64</td>\n",
       "      <td>55</td>\n",
       "      <td>female householder, no husband present</td>\n",
       "      <td>2.017002e+12</td>\n",
       "      <td>1.011189</td>\n",
       "      <td>...</td>\n",
       "      <td>0</td>\n",
       "      <td>not in identifiable area</td>\n",
       "      <td>n/a</td>\n",
       "      <td>n/a</td>\n",
       "      <td>n/a</td>\n",
       "      <td>n/a</td>\n",
       "      <td>n/a</td>\n",
       "      <td>no vision or hearing difficulty</td>\n",
       "      <td>no</td>\n",
       "      <td>no</td>\n",
       "    </tr>\n",
       "    <tr>\n",
       "      <th>1</th>\n",
       "      <td>2017</td>\n",
       "      <td>1</td>\n",
       "      <td>1200045</td>\n",
       "      <td>2.017001e+12</td>\n",
       "      <td>6</td>\n",
       "      <td>79</td>\n",
       "      <td>25</td>\n",
       "      <td>male householder, no wife present</td>\n",
       "      <td>2.017012e+12</td>\n",
       "      <td>1.011189</td>\n",
       "      <td>...</td>\n",
       "      <td>0</td>\n",
       "      <td>not in identifiable area</td>\n",
       "      <td>n/a</td>\n",
       "      <td>no cognitive difficulty</td>\n",
       "      <td>no ambulatory difficulty</td>\n",
       "      <td>no independent living difficulty</td>\n",
       "      <td>no</td>\n",
       "      <td>no vision or hearing difficulty</td>\n",
       "      <td>no</td>\n",
       "      <td>no</td>\n",
       "    </tr>\n",
       "    <tr>\n",
       "      <th>2</th>\n",
       "      <td>2017</td>\n",
       "      <td>1</td>\n",
       "      <td>70831</td>\n",
       "      <td>2.017000e+12</td>\n",
       "      <td>1 person record</td>\n",
       "      <td>36</td>\n",
       "      <td>57</td>\n",
       "      <td>male householder, living alone</td>\n",
       "      <td>2.017001e+12</td>\n",
       "      <td>1.011189</td>\n",
       "      <td>...</td>\n",
       "      <td>0</td>\n",
       "      <td>not in identifiable area</td>\n",
       "      <td>n/a</td>\n",
       "      <td>has cognitive difficulty</td>\n",
       "      <td>no ambulatory difficulty</td>\n",
       "      <td>no independent living difficulty</td>\n",
       "      <td>no</td>\n",
       "      <td>no vision or hearing difficulty</td>\n",
       "      <td>no</td>\n",
       "      <td>no</td>\n",
       "    </tr>\n",
       "    <tr>\n",
       "      <th>3</th>\n",
       "      <td>2017</td>\n",
       "      <td>1</td>\n",
       "      <td>557128</td>\n",
       "      <td>2.017001e+12</td>\n",
       "      <td>2</td>\n",
       "      <td>10</td>\n",
       "      <td>98</td>\n",
       "      <td>married-couple family household</td>\n",
       "      <td>2.017006e+12</td>\n",
       "      <td>1.011189</td>\n",
       "      <td>...</td>\n",
       "      <td>0</td>\n",
       "      <td>not in identifiable area</td>\n",
       "      <td>n/a</td>\n",
       "      <td>no cognitive difficulty</td>\n",
       "      <td>no ambulatory difficulty</td>\n",
       "      <td>no independent living difficulty</td>\n",
       "      <td>no</td>\n",
       "      <td>no vision or hearing difficulty</td>\n",
       "      <td>no</td>\n",
       "      <td>no</td>\n",
       "    </tr>\n",
       "    <tr>\n",
       "      <th>4</th>\n",
       "      <td>2017</td>\n",
       "      <td>1</td>\n",
       "      <td>614890</td>\n",
       "      <td>2.017001e+12</td>\n",
       "      <td>4</td>\n",
       "      <td>96</td>\n",
       "      <td>54</td>\n",
       "      <td>married-couple family household</td>\n",
       "      <td>2.017006e+12</td>\n",
       "      <td>1.011189</td>\n",
       "      <td>...</td>\n",
       "      <td>0</td>\n",
       "      <td>not in identifiable area</td>\n",
       "      <td>n/a</td>\n",
       "      <td>n/a</td>\n",
       "      <td>n/a</td>\n",
       "      <td>n/a</td>\n",
       "      <td>n/a</td>\n",
       "      <td>no vision or hearing difficulty</td>\n",
       "      <td>no</td>\n",
       "      <td>no</td>\n",
       "    </tr>\n",
       "  </tbody>\n",
       "</table>\n",
       "<p>5 rows × 104 columns</p>\n",
       "</div>"
      ],
      "text/plain": [
       "   year  datanum   serial      cbserial          numprec subsamp  hhwt  \\\n",
       "0  2017        1   177686  2.017001e+12                9      64    55   \n",
       "1  2017        1  1200045  2.017001e+12                6      79    25   \n",
       "2  2017        1    70831  2.017000e+12  1 person record      36    57   \n",
       "3  2017        1   557128  2.017001e+12                2      10    98   \n",
       "4  2017        1   614890  2.017001e+12                4      96    54   \n",
       "\n",
       "                                   hhtype       cluster    adjust  ...  \\\n",
       "0  female householder, no husband present  2.017002e+12  1.011189  ...   \n",
       "1       male householder, no wife present  2.017012e+12  1.011189  ...   \n",
       "2          male householder, living alone  2.017001e+12  1.011189  ...   \n",
       "3         married-couple family household  2.017006e+12  1.011189  ...   \n",
       "4         married-couple family household  2.017006e+12  1.011189  ...   \n",
       "\n",
       "   migcounty1                 migmet131 vetdisab                   diffrem  \\\n",
       "0           0  not in identifiable area      n/a                       n/a   \n",
       "1           0  not in identifiable area      n/a   no cognitive difficulty   \n",
       "2           0  not in identifiable area      n/a  has cognitive difficulty   \n",
       "3           0  not in identifiable area      n/a   no cognitive difficulty   \n",
       "4           0  not in identifiable area      n/a                       n/a   \n",
       "\n",
       "                   diffphys                           diffmob diffcare  \\\n",
       "0                       n/a                               n/a      n/a   \n",
       "1  no ambulatory difficulty  no independent living difficulty       no   \n",
       "2  no ambulatory difficulty  no independent living difficulty       no   \n",
       "3  no ambulatory difficulty  no independent living difficulty       no   \n",
       "4                       n/a                               n/a      n/a   \n",
       "\n",
       "                          diffsens  diffeye  diffhear  \n",
       "0  no vision or hearing difficulty       no        no  \n",
       "1  no vision or hearing difficulty       no        no  \n",
       "2  no vision or hearing difficulty       no        no  \n",
       "3  no vision or hearing difficulty       no        no  \n",
       "4  no vision or hearing difficulty       no        no  \n",
       "\n",
       "[5 rows x 104 columns]"
      ]
     },
     "execution_count": 2,
     "metadata": {},
     "output_type": "execute_result"
    }
   ],
   "source": [
    "import pandas as pd\n",
    "\n",
    "acs = pd.read_stata(\n",
    "    \"https://github.com/nickeubank/MIDS_Data/raw/master/US_AmericanCommunitySurvey/US_ACS_2017_10pct_sample.dta\"\n",
    ")\n",
    "acs.head()"
   ]
  },
  {
   "cell_type": "markdown",
   "metadata": {},
   "source": [
    "## Getting to Know Your Data\n",
    "\n",
    "When you get a new dataset like this, it's good to start by trying to get a feel for its contents and organization. Toy datasets you sometimes get in classes are often very small, and easy to look at, but this is a pretty large dataset, so you can't just open it up and get a good sense of it. Here are some ways to get to know your data. "
   ]
  },
  {
   "cell_type": "markdown",
   "metadata": {},
   "source": [
    "### Exercise 2\n",
    "\n",
    "How many observations are in your data? Store the answer in your `results` dictionary with the key `\"ex2_num_obs\"`."
   ]
  },
  {
   "cell_type": "code",
   "execution_count": 3,
   "metadata": {},
   "outputs": [
    {
     "name": "stdout",
     "output_type": "stream",
     "text": [
      "We have 319,004 observations in the dataset\n"
     ]
    }
   ],
   "source": [
    "ex2_num_obs = acs.shape[0]\n",
    "results[\"ex2_num_obs\"] = ex2_num_obs\n",
    "\n",
    "print(f\"We have {ex2_num_obs:,} observations in the dataset\")"
   ]
  },
  {
   "cell_type": "markdown",
   "metadata": {},
   "source": [
    "### Exercise 3\n",
    "\n",
    "How many variables are in your data? Store the answer in your `results` dictionary with the key `\"ex3_num_vars\"`."
   ]
  },
  {
   "cell_type": "code",
   "execution_count": 4,
   "metadata": {},
   "outputs": [
    {
     "name": "stdout",
     "output_type": "stream",
     "text": [
      "We have 104 variables in the dataset\n"
     ]
    }
   ],
   "source": [
    "ex3_num_vars = acs.shape[1]\n",
    "results[\"ex3_num_vars\"] = ex3_num_vars\n",
    "\n",
    "print(f\"We have {ex3_num_vars} variables in the dataset\")"
   ]
  },
  {
   "cell_type": "markdown",
   "metadata": {},
   "source": [
    "### Exercise 4\n",
    "\n",
    " Let's see what variables are in this dataset. First, try to see them all using the command:\n",
    "\n",
    "\n",
    "```python\n",
    "acs.columns\n",
    "```"
   ]
  },
  {
   "cell_type": "markdown",
   "metadata": {},
   "source": [
    "As you will see, `python` doesn't like to print out all the different variables when there are this many in a dataset. \n",
    "\n",
    "To get everything printed out, we can loop over all the columns and print them one at a time with the command:\n",
    "\n",
    "```\n",
    "for c in acs.columns: print(c)\n",
    "```\n",
    "\n",
    "It's definitely a bit of a hack, but honestly a pretty useful one!"
   ]
  },
  {
   "cell_type": "code",
   "execution_count": 5,
   "metadata": {},
   "outputs": [
    {
     "data": {
      "text/plain": [
       "Index(['year', 'datanum', 'serial', 'cbserial', 'numprec', 'subsamp', 'hhwt',\n",
       "       'hhtype', 'cluster', 'adjust',\n",
       "       ...\n",
       "       'migcounty1', 'migmet131', 'vetdisab', 'diffrem', 'diffphys', 'diffmob',\n",
       "       'diffcare', 'diffsens', 'diffeye', 'diffhear'],\n",
       "      dtype='object', length=104)"
      ]
     },
     "execution_count": 5,
     "metadata": {},
     "output_type": "execute_result"
    }
   ],
   "source": [
    "acs.columns"
   ]
  },
  {
   "cell_type": "code",
   "execution_count": 6,
   "metadata": {},
   "outputs": [
    {
     "name": "stdout",
     "output_type": "stream",
     "text": [
      "year\n",
      "datanum\n",
      "serial\n",
      "cbserial\n",
      "numprec\n",
      "subsamp\n",
      "hhwt\n",
      "hhtype\n",
      "cluster\n",
      "adjust\n",
      "cpi99\n",
      "region\n",
      "stateicp\n",
      "statefip\n",
      "countyicp\n",
      "countyfip\n",
      "metro\n",
      "city\n",
      "citypop\n",
      "strata\n",
      "gq\n",
      "farm\n",
      "ownershp\n",
      "ownershpd\n",
      "mortgage\n",
      "mortgag2\n",
      "mortamt1\n",
      "mortamt2\n",
      "respmode\n",
      "pernum\n",
      "cbpernum\n",
      "perwt\n",
      "slwt\n",
      "famunit\n",
      "sex\n",
      "age\n",
      "marst\n",
      "birthyr\n",
      "race\n",
      "raced\n",
      "hispan\n",
      "hispand\n",
      "bpl\n",
      "bpld\n",
      "citizen\n",
      "yrnatur\n",
      "yrimmig\n",
      "language\n",
      "languaged\n",
      "speakeng\n",
      "hcovany\n",
      "hcovpriv\n",
      "hinsemp\n",
      "hinspur\n",
      "hinstri\n",
      "hcovpub\n",
      "hinscaid\n",
      "hinscare\n",
      "hinsva\n",
      "hinsihs\n",
      "school\n",
      "educ\n",
      "educd\n",
      "gradeatt\n",
      "gradeattd\n",
      "schltype\n",
      "degfield\n",
      "degfieldd\n",
      "degfield2\n",
      "degfield2d\n",
      "empstat\n",
      "empstatd\n",
      "labforce\n",
      "occ\n",
      "ind\n",
      "classwkr\n",
      "classwkrd\n",
      "looking\n",
      "availble\n",
      "inctot\n",
      "ftotinc\n",
      "incwage\n",
      "incbus00\n",
      "incss\n",
      "incwelfr\n",
      "incinvst\n",
      "incretir\n",
      "incsupp\n",
      "incother\n",
      "incearn\n",
      "poverty\n",
      "migrate1\n",
      "migrate1d\n",
      "migplac1\n",
      "migcounty1\n",
      "migmet131\n",
      "vetdisab\n",
      "diffrem\n",
      "diffphys\n",
      "diffmob\n",
      "diffcare\n",
      "diffsens\n",
      "diffeye\n",
      "diffhear\n"
     ]
    }
   ],
   "source": [
    "for c in acs.columns:\n",
    "    print(c)"
   ]
  },
  {
   "cell_type": "markdown",
   "metadata": {},
   "source": [
    "### Exercise 5\n",
    "\n",
    "That's a *lot* of variables, and definitely more than we need. In general, life is easier when working with these kinds of huge datasets if you can narrow down the number of variables a little. In this exercise, we will be looking at the relationship between education and wages, we need variables for: \n",
    "\n",
    "- Age\n",
    "- Income\n",
    "- Education\n",
    "- Employment status (is the person actually working)\n",
    "\n",
    "These quantities of interest correspond to the following variables in our data: `age`, `inctot`, `educ`, and `empstat`. \n",
    "\n",
    "Subset your data to just those variables. "
   ]
  },
  {
   "cell_type": "code",
   "execution_count": 7,
   "metadata": {},
   "outputs": [
    {
     "data": {
      "text/html": [
       "<div>\n",
       "<style scoped>\n",
       "    .dataframe tbody tr th:only-of-type {\n",
       "        vertical-align: middle;\n",
       "    }\n",
       "\n",
       "    .dataframe tbody tr th {\n",
       "        vertical-align: top;\n",
       "    }\n",
       "\n",
       "    .dataframe thead th {\n",
       "        text-align: right;\n",
       "    }\n",
       "</style>\n",
       "<table border=\"1\" class=\"dataframe\">\n",
       "  <thead>\n",
       "    <tr style=\"text-align: right;\">\n",
       "      <th></th>\n",
       "      <th>age</th>\n",
       "      <th>inctot</th>\n",
       "      <th>educ</th>\n",
       "      <th>empstat</th>\n",
       "    </tr>\n",
       "  </thead>\n",
       "  <tbody>\n",
       "    <tr>\n",
       "      <th>0</th>\n",
       "      <td>4</td>\n",
       "      <td>9999999</td>\n",
       "      <td>nursery school to grade 4</td>\n",
       "      <td>n/a</td>\n",
       "    </tr>\n",
       "    <tr>\n",
       "      <th>1</th>\n",
       "      <td>17</td>\n",
       "      <td>6000</td>\n",
       "      <td>grade 11</td>\n",
       "      <td>employed</td>\n",
       "    </tr>\n",
       "    <tr>\n",
       "      <th>2</th>\n",
       "      <td>63</td>\n",
       "      <td>6150</td>\n",
       "      <td>4 years of college</td>\n",
       "      <td>employed</td>\n",
       "    </tr>\n",
       "    <tr>\n",
       "      <th>3</th>\n",
       "      <td>66</td>\n",
       "      <td>14000</td>\n",
       "      <td>grade 12</td>\n",
       "      <td>not in labor force</td>\n",
       "    </tr>\n",
       "    <tr>\n",
       "      <th>4</th>\n",
       "      <td>1</td>\n",
       "      <td>9999999</td>\n",
       "      <td>n/a or no schooling</td>\n",
       "      <td>n/a</td>\n",
       "    </tr>\n",
       "  </tbody>\n",
       "</table>\n",
       "</div>"
      ],
      "text/plain": [
       "  age   inctot                       educ             empstat\n",
       "0   4  9999999  nursery school to grade 4                 n/a\n",
       "1  17     6000                   grade 11            employed\n",
       "2  63     6150         4 years of college            employed\n",
       "3  66    14000                   grade 12  not in labor force\n",
       "4   1  9999999        n/a or no schooling                 n/a"
      ]
     },
     "execution_count": 7,
     "metadata": {},
     "output_type": "execute_result"
    }
   ],
   "source": [
    "acs_subset = acs[[\"age\", \"inctot\", \"educ\", \"empstat\"]]\n",
    "acs_subset.head()"
   ]
  },
  {
   "cell_type": "markdown",
   "metadata": {},
   "source": [
    "### Exercise 6 \n",
    "\n",
    "Now that we have a more manageable number of variables, it's often very useful to look at a handful of rows of your data. The easiest way to do this is probably the `.head()` method (which will show you the first five rows), or the `tail()` method, which will show you the last five rows. \n",
    "\n",
    "But to get a good sense of your data, it's often better to use the `sample()` command, which returns a random set of rows. As the first and last rows are sometimes not representative, a random set of rows can be very helpful. Try looking at a random sample of 20 rows (note: you don't have to run `.sample()` ten times to get ten rows. Look at the `.sample` help file if you're stuck. "
   ]
  },
  {
   "cell_type": "code",
   "execution_count": 8,
   "metadata": {},
   "outputs": [
    {
     "data": {
      "text/html": [
       "<div>\n",
       "<style scoped>\n",
       "    .dataframe tbody tr th:only-of-type {\n",
       "        vertical-align: middle;\n",
       "    }\n",
       "\n",
       "    .dataframe tbody tr th {\n",
       "        vertical-align: top;\n",
       "    }\n",
       "\n",
       "    .dataframe thead th {\n",
       "        text-align: right;\n",
       "    }\n",
       "</style>\n",
       "<table border=\"1\" class=\"dataframe\">\n",
       "  <thead>\n",
       "    <tr style=\"text-align: right;\">\n",
       "      <th></th>\n",
       "      <th>age</th>\n",
       "      <th>inctot</th>\n",
       "      <th>educ</th>\n",
       "      <th>empstat</th>\n",
       "    </tr>\n",
       "  </thead>\n",
       "  <tbody>\n",
       "    <tr>\n",
       "      <th>93018</th>\n",
       "      <td>36</td>\n",
       "      <td>92000</td>\n",
       "      <td>4 years of college</td>\n",
       "      <td>employed</td>\n",
       "    </tr>\n",
       "    <tr>\n",
       "      <th>297455</th>\n",
       "      <td>10</td>\n",
       "      <td>9999999</td>\n",
       "      <td>nursery school to grade 4</td>\n",
       "      <td>n/a</td>\n",
       "    </tr>\n",
       "    <tr>\n",
       "      <th>179198</th>\n",
       "      <td>40</td>\n",
       "      <td>30000</td>\n",
       "      <td>grade 12</td>\n",
       "      <td>employed</td>\n",
       "    </tr>\n",
       "    <tr>\n",
       "      <th>137578</th>\n",
       "      <td>29</td>\n",
       "      <td>0</td>\n",
       "      <td>grade 12</td>\n",
       "      <td>unemployed</td>\n",
       "    </tr>\n",
       "    <tr>\n",
       "      <th>116741</th>\n",
       "      <td>94</td>\n",
       "      <td>36900</td>\n",
       "      <td>1 year of college</td>\n",
       "      <td>not in labor force</td>\n",
       "    </tr>\n",
       "    <tr>\n",
       "      <th>116132</th>\n",
       "      <td>21</td>\n",
       "      <td>17200</td>\n",
       "      <td>1 year of college</td>\n",
       "      <td>employed</td>\n",
       "    </tr>\n",
       "    <tr>\n",
       "      <th>148598</th>\n",
       "      <td>3</td>\n",
       "      <td>9999999</td>\n",
       "      <td>n/a or no schooling</td>\n",
       "      <td>n/a</td>\n",
       "    </tr>\n",
       "    <tr>\n",
       "      <th>37460</th>\n",
       "      <td>60</td>\n",
       "      <td>107000</td>\n",
       "      <td>4 years of college</td>\n",
       "      <td>employed</td>\n",
       "    </tr>\n",
       "    <tr>\n",
       "      <th>299209</th>\n",
       "      <td>14</td>\n",
       "      <td>9999999</td>\n",
       "      <td>grade 5, 6, 7, or 8</td>\n",
       "      <td>n/a</td>\n",
       "    </tr>\n",
       "    <tr>\n",
       "      <th>273610</th>\n",
       "      <td>65</td>\n",
       "      <td>78400</td>\n",
       "      <td>5+ years of college</td>\n",
       "      <td>employed</td>\n",
       "    </tr>\n",
       "    <tr>\n",
       "      <th>312108</th>\n",
       "      <td>85</td>\n",
       "      <td>8900</td>\n",
       "      <td>4 years of college</td>\n",
       "      <td>not in labor force</td>\n",
       "    </tr>\n",
       "    <tr>\n",
       "      <th>254047</th>\n",
       "      <td>91</td>\n",
       "      <td>7200</td>\n",
       "      <td>grade 10</td>\n",
       "      <td>not in labor force</td>\n",
       "    </tr>\n",
       "    <tr>\n",
       "      <th>185325</th>\n",
       "      <td>67</td>\n",
       "      <td>15300</td>\n",
       "      <td>grade 12</td>\n",
       "      <td>not in labor force</td>\n",
       "    </tr>\n",
       "    <tr>\n",
       "      <th>39945</th>\n",
       "      <td>22</td>\n",
       "      <td>8000</td>\n",
       "      <td>4 years of college</td>\n",
       "      <td>employed</td>\n",
       "    </tr>\n",
       "    <tr>\n",
       "      <th>50708</th>\n",
       "      <td>41</td>\n",
       "      <td>100100</td>\n",
       "      <td>4 years of college</td>\n",
       "      <td>employed</td>\n",
       "    </tr>\n",
       "    <tr>\n",
       "      <th>239902</th>\n",
       "      <td>47</td>\n",
       "      <td>65000</td>\n",
       "      <td>5+ years of college</td>\n",
       "      <td>employed</td>\n",
       "    </tr>\n",
       "    <tr>\n",
       "      <th>189942</th>\n",
       "      <td>37</td>\n",
       "      <td>54000</td>\n",
       "      <td>grade 12</td>\n",
       "      <td>employed</td>\n",
       "    </tr>\n",
       "    <tr>\n",
       "      <th>228002</th>\n",
       "      <td>1</td>\n",
       "      <td>9999999</td>\n",
       "      <td>n/a or no schooling</td>\n",
       "      <td>n/a</td>\n",
       "    </tr>\n",
       "    <tr>\n",
       "      <th>10131</th>\n",
       "      <td>18</td>\n",
       "      <td>0</td>\n",
       "      <td>grade 12</td>\n",
       "      <td>not in labor force</td>\n",
       "    </tr>\n",
       "    <tr>\n",
       "      <th>290396</th>\n",
       "      <td>16</td>\n",
       "      <td>0</td>\n",
       "      <td>grade 10</td>\n",
       "      <td>not in labor force</td>\n",
       "    </tr>\n",
       "  </tbody>\n",
       "</table>\n",
       "</div>"
      ],
      "text/plain": [
       "       age   inctot                       educ             empstat\n",
       "93018   36    92000         4 years of college            employed\n",
       "297455  10  9999999  nursery school to grade 4                 n/a\n",
       "179198  40    30000                   grade 12            employed\n",
       "137578  29        0                   grade 12          unemployed\n",
       "116741  94    36900          1 year of college  not in labor force\n",
       "116132  21    17200          1 year of college            employed\n",
       "148598   3  9999999        n/a or no schooling                 n/a\n",
       "37460   60   107000         4 years of college            employed\n",
       "299209  14  9999999        grade 5, 6, 7, or 8                 n/a\n",
       "273610  65    78400        5+ years of college            employed\n",
       "312108  85     8900         4 years of college  not in labor force\n",
       "254047  91     7200                   grade 10  not in labor force\n",
       "185325  67    15300                   grade 12  not in labor force\n",
       "39945   22     8000         4 years of college            employed\n",
       "50708   41   100100         4 years of college            employed\n",
       "239902  47    65000        5+ years of college            employed\n",
       "189942  37    54000                   grade 12            employed\n",
       "228002   1  9999999        n/a or no schooling                 n/a\n",
       "10131   18        0                   grade 12  not in labor force\n",
       "290396  16        0                   grade 10  not in labor force"
      ]
     },
     "execution_count": 8,
     "metadata": {},
     "output_type": "execute_result"
    }
   ],
   "source": [
    "acs_subset.sample(20)"
   ]
  },
  {
   "cell_type": "markdown",
   "metadata": {},
   "source": [
    "### Exercise 7\n",
    "\n",
    "Do you see any immediate problems? What issues do you see? (Please do answer in markdown)"
   ]
  },
  {
   "cell_type": "markdown",
   "metadata": {},
   "source": [
    "><span style=\"color: #008080\">*For more information, we will also look at the **info** function to get an idea of whether there are null values and the type of each data.*</span>"
   ]
  },
  {
   "cell_type": "code",
   "execution_count": 9,
   "metadata": {},
   "outputs": [
    {
     "name": "stdout",
     "output_type": "stream",
     "text": [
      "<class 'pandas.core.frame.DataFrame'>\n",
      "RangeIndex: 319004 entries, 0 to 319003\n",
      "Data columns (total 4 columns):\n",
      " #   Column   Non-Null Count   Dtype   \n",
      "---  ------   --------------   -----   \n",
      " 0   age      319004 non-null  category\n",
      " 1   inctot   319004 non-null  int32   \n",
      " 2   educ     319004 non-null  category\n",
      " 3   empstat  319004 non-null  category\n",
      "dtypes: category(3), int32(1)\n",
      "memory usage: 2.1 MB\n"
     ]
    }
   ],
   "source": [
    "acs_subset.info()"
   ]
  },
  {
   "cell_type": "markdown",
   "metadata": {},
   "source": [
    "><span style=\"color: #008080\">*While observing a sample of the data, we can notice some issues that we might encounter when analyzing the information:*</span>\n",
    ">\n",
    "><span style=\"color: #008080\">*- Regarding the variable **'inctot'**, in many cases, we have the value '9999999', which is an integer. This value likely indicates that the data is missing for the respective record. The problem it presents is that if we attempt to calculate statistics such as mean or median, we will obtain a value that is not real and will be inflated by this record.*</span>\n",
    ">\n",
    "><span style=\"color: #008080\">*- The **'educ'** variable, which represents educational levels, is currently in text format and has varied formatting.*</span>\n",
    ">\n",
    "><span style=\"color: #008080\">*- The *'empstat'* variable has values marked as 'n/a,' which are considered as an additional category. Depending on the analysis we want to perform or the assumptions we make, we may wish to either remove these data or transform the variable.*</span>\n"
   ]
  },
  {
   "cell_type": "markdown",
   "metadata": {},
   "source": [
    "### Exercise 8 \n",
    "\n",
    "One problem is that many people seem to have incomes of $9,999,999. Moreover, people with those incomes seem to be very young children. \n",
    "\n",
    "What you are seeing is one method (a relatively old one) for representing missing data. In this case, the value 9999999 is being used as a **sentinel value** — a way to denote missing data that was used back in the day when there was no way to add a special data type for mossing data. In this case, it identifies observations where the person is too young to work, so their income value is missing. \n",
    "\n",
    "So let's begin by dropping anyone who has `inctot` equal to 9999999.\n",
    "\n",
    "After dropping, how many observations do you have? Save your answer in your `results` dictionary under the key `\"ex8_updated_num_obs\"`"
   ]
  },
  {
   "cell_type": "code",
   "execution_count": 10,
   "metadata": {},
   "outputs": [
    {
     "name": "stdout",
     "output_type": "stream",
     "text": [
      "After removing observations with 'inctot' equal to 9999999 from the dataset, we obtain 265,103 observations\n"
     ]
    }
   ],
   "source": [
    "# We created a new dataset that does not include values for anyone with inctot equal to 9999999.\n",
    "acs_subset_no_missing_income = acs_subset[acs_subset[\"inctot\"] != 9999999]\n",
    "ex8_updated_num_obs = acs_subset_no_missing_income.shape[0]\n",
    "results[\"ex8_updated_num_obs\"] = ex8_updated_num_obs\n",
    "\n",
    "print(\n",
    "    f\"After removing observations with 'inctot' equal to 9999999 from the dataset, we obtain {ex8_updated_num_obs:,} observations\"\n",
    ")"
   ]
  },
  {
   "cell_type": "markdown",
   "metadata": {},
   "source": [
    "### Exercise 9\n",
    "\n",
    "OK, the other potential problem is that our data includes lots of people who are unemployed and people who are not in the labor force (this means they not only don't have a job, but also aren't looking for a job). For this analysis, we want to focus on the wages of people who are currently employed. So subset the dataset for the people for whom `empstat` is equal to \"employed\". \n",
    "\n",
    "Note that our decision to only look at people who are employed impacts how we should interpret the relationship we estimate between education and income. Because we are only looking at employed people, we will be estimating the relationship between education and income *for people who are employed*. That means that if education affects the *likelihood* someone is employed, we won't capture that in this analysis.\n",
    "\n",
    "(You might also want to run `.sample()` after this just to make sure you were successful in your subsetting).\n",
    "\n",
    "After this subsetting, how many observations do you have? Save your answer in your `results` dictionary under the key `\"ex9_updated_num_obs\"`"
   ]
  },
  {
   "cell_type": "code",
   "execution_count": 11,
   "metadata": {},
   "outputs": [
    {
     "name": "stdout",
     "output_type": "stream",
     "text": [
      "       age  inctot                 educ   empstat\n",
      "170763  64   10000  5+ years of college  employed\n",
      "222466  56   20000   4 years of college  employed\n",
      "281611  58   24000  5+ years of college  employed\n",
      "272511  41  150000  5+ years of college  employed\n",
      "76431   58   28500    1 year of college  employed\n",
      "297742  43   12000  n/a or no schooling  employed\n",
      "186597  60   60000   4 years of college  employed\n",
      "64329   25   30000             grade 12  employed\n",
      "243668  52   64000   2 years of college  employed\n",
      "5888    28   48000             grade 12  employed\n"
     ]
    }
   ],
   "source": [
    "acs_subset_employed = acs_subset_no_missing_income[\n",
    "    acs_subset_no_missing_income[\"empstat\"] == \"employed\"\n",
    "]\n",
    "print(acs_subset_employed.sample(10))"
   ]
  },
  {
   "cell_type": "code",
   "execution_count": 12,
   "metadata": {},
   "outputs": [
    {
     "name": "stdout",
     "output_type": "stream",
     "text": [
      "After selecting only employed individuals from our dataset, we obtain 148,758 observations.\n"
     ]
    }
   ],
   "source": [
    "ex9_updated_num_obs = acs_subset_employed.shape[0]\n",
    "results[\"ex9_updated_num_obs\"] = ex9_updated_num_obs\n",
    "\n",
    "print(\n",
    "    f\"After selecting only employed individuals from our dataset, we obtain {ex9_updated_num_obs:,} observations.\"\n",
    ")"
   ]
  },
  {
   "cell_type": "markdown",
   "metadata": {},
   "source": [
    "### Exercise 10\n",
    "\n",
    "Now let's turn to education. The `educ` variable seems to have a lot of discrete values. Let's see what values exist, and their distribution, using the `value_counts()` method. This is an *extremely* useful tool you'll use a lot! Try the following code (modified for the name of your dataset, of course):\n",
    "\n",
    "```python\n",
    "acs[\"educ\"].value_counts()\n",
    "```"
   ]
  },
  {
   "cell_type": "code",
   "execution_count": 13,
   "metadata": {},
   "outputs": [
    {
     "name": "stdout",
     "output_type": "stream",
     "text": [
      "If we observe the number of records per educational level in our dataset (after removing individuals without income and employment), we obtain:\n"
     ]
    },
    {
     "data": {
      "text/plain": [
       "educ\n",
       "n/a or no schooling           1291\n",
       "nursery school to grade 4      468\n",
       "grade 5, 6, 7, or 8           2092\n",
       "grade 9                       1290\n",
       "grade 10                      1910\n",
       "grade 11                      2747\n",
       "grade 12                     47815\n",
       "1 year of college            22899\n",
       "2 years of college           14077\n",
       "4 years of college           33174\n",
       "5+ years of college          20995\n",
       "Name: count, dtype: int64"
      ]
     },
     "execution_count": 13,
     "metadata": {},
     "output_type": "execute_result"
    }
   ],
   "source": [
    "print(\n",
    "    \"If we observe the number of records per educational level in our dataset (after removing individuals without income and employment), we obtain:\"\n",
    ")\n",
    "acs_subset_employed[\"educ\"].value_counts().sort_index()"
   ]
  },
  {
   "cell_type": "markdown",
   "metadata": {},
   "source": [
    "### Exercise 11\n",
    "\n",
    "There are a lot of values in here, so let's just check a couple. What is the average value of `inctot` for people whose highest grade level is \"grade 12\" (in the US, that is someone who has graduated high school)?\n",
    "\n",
    "Save your answer in your `results` dictionary under the key `\"ex11_grade12_income\"`."
   ]
  },
  {
   "cell_type": "code",
   "execution_count": 14,
   "metadata": {},
   "outputs": [
    {
     "name": "stdout",
     "output_type": "stream",
     "text": [
      "The average income for people whose highest grade level is 'grade 12' in this dataset, considering employed individuals with income, is: 38,958\n",
      "It's worth mentioning that the operation performed earlier was possible using the <= sign because 'educ' is a category with defined and ordered levels\n"
     ]
    }
   ],
   "source": [
    "ex11_grade12_income = acs_subset_employed[acs_subset_employed[\"educ\"] == \"grade 12\"][\n",
    "    \"inctot\"\n",
    "].mean()\n",
    "results[\"ex11_grade12_income\"] = ex11_grade12_income\n",
    "\n",
    "print(\n",
    "    f\"The average income for people whose highest grade level is 'grade 12' in this dataset, considering employed individuals with income, is: {round(ex11_grade12_income):,}\"\n",
    ")\n",
    "print(\n",
    "    \"It's worth mentioning that the operation performed earlier was possible using the <= sign because 'educ' is a category with defined and ordered levels\"\n",
    ")"
   ]
  },
  {
   "cell_type": "markdown",
   "metadata": {},
   "source": [
    "### Exercise 12\n",
    "\n",
    "What is the average income of someone who has completed an undergraduate degree but not done any postgraduate education (\"4 years of college\")? \n",
    "\n",
    "Save your answer in your `results` dictionary under the key `\"ex12_college_income\"`.\n",
    "\n",
    "In percentage terms, how much does an employed college graduate earn as compared to someone who is only a high school graduate? Use the reference category that gives an answer above 100.\n",
    "\n",
    "Store your answer in `\"ex12_college_income_pct\"`. Put your answer in percentage terms (so 100 implies they earn the same amount).\n",
    "\n",
    "*Make sure to interpret your result in words when you print it out!*"
   ]
  },
  {
   "cell_type": "code",
   "execution_count": 15,
   "metadata": {},
   "outputs": [
    {
     "name": "stdout",
     "output_type": "stream",
     "text": [
      "The average income for people who has completed an undergraduate degree but not done any postgraduate education in this dataset,\n",
      "considering employed individuals with income, is: 75,485\n",
      "\n",
      "An employed college graduate earns 1.94 times more than someone who is only a high school graduate for this dataset.\n",
      "\n",
      "We can see that for this sample, there is a clear effect on the level of education of individuals and their average income\n",
      "Individuals with a completed undergraduate degree have an average income that is twice as high as that average of those with 12 or fewer years of schooling\n"
     ]
    }
   ],
   "source": [
    "ex12_college_income = acs_subset_employed[\n",
    "    acs_subset_employed[\"educ\"] == \"4 years of college\"\n",
    "][\"inctot\"].mean()\n",
    "\n",
    "ex12_college_income_pct = 100 * ex12_college_income / ex11_grade12_income\n",
    "\n",
    "results[\"ex12_college_income\"] = ex12_college_income\n",
    "results[\"ex12_college_income_pct\"] = ex12_college_income_pct\n",
    "\n",
    "print(\n",
    "    f\"The average income for people who has completed an undergraduate degree but not done any postgraduate education in this dataset,\\nconsidering employed individuals with income, is: {round(ex12_college_income):,}\"\n",
    ")\n",
    "print(\n",
    "    f\"\\nAn employed college graduate earns {round(ex12_college_income_pct)/100} times more than someone who is only a high school graduate for this dataset.\"\n",
    ")\n",
    "print(\n",
    "    \"\\nWe can see that for this sample, there is a clear effect on the level of education of individuals and their average income\"\n",
    ")\n",
    "print(\n",
    "    \"Individuals with a completed undergraduate degree have an average income that is twice as high as that average of those with 12 or fewer years of schooling\"\n",
    ")"
   ]
  },
  {
   "cell_type": "markdown",
   "metadata": {},
   "source": [
    "\n",
    "### Exercise 13\n",
    "What does that suggest is the value of getting a college degree after graduating high school?"
   ]
  },
  {
   "cell_type": "markdown",
   "metadata": {},
   "source": [
    "><span style=\"color: #008080\">*As mentioned in the previous question, there seems to be a clear effect on the income a person can generate and their level of education. Individuals with a completed undergraduate degree have an average income that is twice as high as that average of those with 12 or fewer years of schooling*</span>\n",
    ">\n",
    "><span style=\"color: #008080\">*However, it's important to have in mind that correlation does not always imply causation. It could also be noted that individuals with access to university education often come from families with a higher socioeconomic status, and therefore, they have more opportunities when it comes to finding employment.*</span>"
   ]
  },
  {
   "cell_type": "markdown",
   "metadata": {},
   "source": [
    "### Exercise 14\n",
    "\n",
    "What is the average income for someone who has not finished high school? What does that suggest is the value of a high school diploma? (Treat `n/a or no schooling` as having no formal schooling, not as missing).\n",
    "\n",
    "**Hint:** You may find the [.isin()](https://pandas.pydata.org/pandas-docs/stable/reference/api/pandas.DataFrame.isin.html) method to be really helpful here.\n",
    "\n",
    "Save your answer in your `results` dictionary under the key `\"ex14_high_school_dropout\"`."
   ]
  },
  {
   "cell_type": "code",
   "execution_count": 16,
   "metadata": {},
   "outputs": [
    {
     "name": "stdout",
     "output_type": "stream",
     "text": [
      "As mentioned before, 'educ' is a category with predefined levels, where 'na' is already considered as the lowest level.\n",
      "So, when using the '<' sign, we are already taking those cases into consideration.\n",
      "\n",
      "The average income for someone who has not finished high school in this dataset,\n",
      "considering employed individuals with income, is: 26,226\n",
      "We can see how not completing high school is also a factor that negatively affects the average income a person can earn.\n"
     ]
    }
   ],
   "source": [
    "ex14_high_school_dropout = acs_subset_employed[\n",
    "    acs_subset_employed[\"educ\"] < \"grade 12\"\n",
    "][\"inctot\"].mean()\n",
    "results[\"ex14_high_school_dropout\"] = ex14_high_school_dropout\n",
    "print(\n",
    "    \"As mentioned before, 'educ' is a category with predefined levels, where 'na' is already considered as the lowest level.\\nSo, when using the '<' sign, we are already taking those cases into consideration.\"\n",
    ")\n",
    "print(\n",
    "    f\"\\nThe average income for someone who has not finished high school in this dataset,\\nconsidering employed individuals with income, is: {round(ex14_high_school_dropout):,}\"\n",
    ")\n",
    "\n",
    "print(\n",
    "    \"We can see how not completing high school is also a factor that negatively affects the average income a person can earn.\"\n",
    ")"
   ]
  },
  {
   "cell_type": "markdown",
   "metadata": {},
   "source": [
    "### Exercise 15 \n",
    "\n",
    "Complete the following table (storing values under the provided keys where listed):\n",
    "\n",
    "- Average income for someone who only completed 9th grade (`ex15_grade_9`): _________\n",
    "- Average income for someone who only completed 10th grade (`ex15_grade_10`): _________\n",
    "- Average income for someone who only completed 11th grade (`ex15_grade_11`): _________\n",
    "- Average income for someone who finished high school (12th grade) but never started college (`ex15_grade_12`): _________\n",
    "- Average income for someone who completed 4 year of college (in the US, this corresponds to getting an undergraduate degree), but has no post-graduate education (no more than 4 years, `ex15_4_years_of_college`): _________\n",
    "- Average income for someone who has some graduate education (more than 4 years, `ex15_graduate`): _________"
   ]
  },
  {
   "cell_type": "code",
   "execution_count": 17,
   "metadata": {},
   "outputs": [
    {
     "name": "stdout",
     "output_type": "stream",
     "text": [
      "- Average income for someone who only completed 9th grade (`ex15_grade_9`): 27,172\n",
      "- Average income for someone who only completed 10th grade (`ex15_grade_10`): 23,019\n",
      "- Average income for someone who only completed 11th grade (`ex15_grade_11`): 21,542\n",
      "- Average income for someone who finished high school (12th grade) but never started college (`ex15_grade_12`): 38,958\n",
      "- Average income for someone who completed 4 year of college (in the US, this corresponds to getting an undergraduate degree),\n",
      "but has no post-graduate education (no more than 4 years, `ex15_4_years_of_college`): 75,485\n",
      "- Average income for someone who has some graduate education (more than 4 years, `ex15_graduate`): 110,013\n"
     ]
    }
   ],
   "source": [
    "ex15_grade_9 = acs_subset_employed[acs_subset_employed[\"educ\"] == \"grade 9\"][\n",
    "    \"inctot\"\n",
    "].mean()\n",
    "ex15_grade_10 = acs_subset_employed[acs_subset_employed[\"educ\"] == \"grade 10\"][\n",
    "    \"inctot\"\n",
    "].mean()\n",
    "ex15_grade_11 = acs_subset_employed[acs_subset_employed[\"educ\"] == \"grade 11\"][\n",
    "    \"inctot\"\n",
    "].mean()\n",
    "ex15_grade_12 = acs_subset_employed[acs_subset_employed[\"educ\"] == \"grade 12\"][\n",
    "    \"inctot\"\n",
    "].mean()\n",
    "ex15_4_years_of_college = acs_subset_employed[\n",
    "    acs_subset_employed[\"educ\"] == \"4 years of college\"\n",
    "][\"inctot\"].mean()\n",
    "ex15_graduate = acs_subset_employed[acs_subset_employed[\"educ\"] > \"4 years of college\"][\n",
    "    \"inctot\"\n",
    "].mean()\n",
    "\n",
    "\n",
    "print(\n",
    "    f\"- Average income for someone who only completed 9th grade (`ex15_grade_9`): {round(ex15_grade_9):,}\"\n",
    ")\n",
    "print(\n",
    "    f\"- Average income for someone who only completed 10th grade (`ex15_grade_10`): {round(ex15_grade_10):,}\"\n",
    ")\n",
    "print(\n",
    "    f\"- Average income for someone who only completed 11th grade (`ex15_grade_11`): {round(ex15_grade_11):,}\"\n",
    ")\n",
    "print(\n",
    "    f\"- Average income for someone who finished high school (12th grade) but never started college (`ex15_grade_12`): {round(ex15_grade_12):,}\"\n",
    ")\n",
    "print(\n",
    "    f\"- Average income for someone who completed 4 year of college (in the US, this corresponds to getting an undergraduate degree),\\nbut has no post-graduate education (no more than 4 years, `ex15_4_years_of_college`): {round(ex15_4_years_of_college):,}\"\n",
    ")\n",
    "print(\n",
    "    f\"- Average income for someone who has some graduate education (more than 4 years, `ex15_graduate`): {round(ex15_graduate):,}\"\n",
    ")\n",
    "\n",
    "results[\"ex15_grade_9\"] = ex15_grade_9\n",
    "results[\"ex15_grade_10\"] = ex15_grade_10\n",
    "results[\"ex15_grade_11\"] = ex15_grade_11\n",
    "results[\"ex15_grade_12\"] = ex15_grade_12\n",
    "results[\"ex15_4_years_of_college\"] = ex15_4_years_of_college\n",
    "results[\"ex15_graduate\"] = ex15_graduate"
   ]
  },
  {
   "cell_type": "markdown",
   "metadata": {},
   "source": [
    "### Exercise 16 \n",
    "\n",
    "Why do you think there is no benefit from moving from grade 9 to grade 10, or grade 10 to grade 11, but there is a huge benefit to moving from grade 11 to graduating high school (grade 12)?\n",
    "\n",
    "(Think carefully before reading ahead!)"
   ]
  },
  {
   "cell_type": "markdown",
   "metadata": {},
   "source": [
    "><span style=\"color: #008080\">*As mentioned in the statement, there doesn't seem to be a significant effect of one more year of schooling per se when it comes to income, but there is when completing high school or completing four years of college.*</span>\n",
    ">\n",
    "><span style=\"color: #008080\">*From my perspective, completing high school is related to the type of job you can access. There are jobs that require, at a minimum, a high school diploma. Therefore, having this milestone completed allows you to access more job opportunities.*</span>\n",
    ">\n",
    "><span style=\"color: #008080\">*For example, in my country, even to work in a cleaning position in an organization such as a public school, it is required to have completed 12 years of schooling. This implies that many people without a completed high school education end up accessing informal jobs that are not regulated and have lower wages. At least, that is the reality I am familiar with in my country, and I would expect that something similar might happen in the United States.*</span>"
   ]
  },
  {
   "cell_type": "markdown",
   "metadata": {},
   "source": [
    "## Take-aways\n",
    "\n",
    "Congratulations! You just discovered \"the sheepskin effect!\": people with degrees tend to earn substantially more than people who have *almost* as much education, but don't have an actual degree. \n",
    "\n",
    "In economics, this is viewed as evidence that the reason employers pay people with high school degrees more than those without degree is *not* that they think those who graduated high school have learned specific, useful skills. If that were the case, we would expect employee earnings to rise with every year of high school, since in each year of high school we learn more. \n",
    "\n",
    "Instead, this suggests employees pay high school graduates more because they think *the kind of people* who can finish high school are the *kind of people* who are likely to succeed at their jobs. Finishing high school, in other words, isn't about accumulating specific knowledge; it's about showing that you *are the kind of person* who can rise to the challenge of finishing high school, also suggesting you are also the kind of person who can succeed as an employee. \n",
    "\n",
    "(Obviously, this does not tell us whether that is an *accurate* inference, just that that seems to be how employeers think.) \n",
    "\n",
    "In other words, in the eyes of employers, a high school degree is a *signal* about the kind of person you are, not certification that you've learned a specific set of skills (an idea that earned [Michael Spence](https://en.wikipedia.org/wiki/Michael_Spence) a Nobel Prize in Economics). "
   ]
  },
  {
   "cell_type": "markdown",
   "metadata": {},
   "source": [
    "## Check results"
   ]
  },
  {
   "cell_type": "code",
   "execution_count": 18,
   "metadata": {},
   "outputs": [
    {
     "data": {
      "text/plain": [
       "{'ex2_num_obs': 319004,\n",
       " 'ex3_num_vars': 104,\n",
       " 'ex8_updated_num_obs': 265103,\n",
       " 'ex9_updated_num_obs': 148758,\n",
       " 'ex11_grade12_income': 38957.76068179442,\n",
       " 'ex12_college_income': 75485.05293301983,\n",
       " 'ex12_college_income_pct': 193.7612727527617,\n",
       " 'ex14_high_school_dropout': 26226.45692998571,\n",
       " 'ex15_grade_9': 27171.907751937986,\n",
       " 'ex15_grade_10': 23018.795811518325,\n",
       " 'ex15_grade_11': 21541.68693119767,\n",
       " 'ex15_grade_12': 38957.76068179442,\n",
       " 'ex15_4_years_of_college': 75485.05293301983,\n",
       " 'ex15_graduate': 110013.2213384139}"
      ]
     },
     "execution_count": 18,
     "metadata": {},
     "output_type": "execute_result"
    }
   ],
   "source": [
    "results"
   ]
  },
  {
   "cell_type": "code",
   "execution_count": 19,
   "metadata": {},
   "outputs": [],
   "source": [
    "assert set(results.keys()) == {\n",
    "    \"ex2_num_obs\",\n",
    "    \"ex3_num_vars\",\n",
    "    \"ex8_updated_num_obs\",\n",
    "    \"ex9_updated_num_obs\",\n",
    "    \"ex11_grade12_income\",\n",
    "    \"ex12_college_income\",\n",
    "    \"ex12_college_income_pct\",\n",
    "    \"ex14_high_school_dropout\",\n",
    "    \"ex15_grade_9\",\n",
    "    \"ex15_grade_10\",\n",
    "    \"ex15_grade_11\",\n",
    "    \"ex15_grade_12\",\n",
    "    \"ex15_4_years_of_college\",\n",
    "    \"ex15_graduate\",\n",
    "}"
   ]
  }
 ],
 "metadata": {
  "kernelspec": {
   "display_name": "Python 3.10.2 ('ds')",
   "language": "python",
   "name": "python3"
  },
  "language_info": {
   "codemirror_mode": {
    "name": "ipython",
    "version": 3
   },
   "file_extension": ".py",
   "mimetype": "text/x-python",
   "name": "python",
   "nbconvert_exporter": "python",
   "pygments_lexer": "ipython3",
   "version": "3.11.5"
  },
  "vscode": {
   "interpreter": {
    "hash": "b9e56a7b23b1fac2eea1a993b805ed5c611aea1439c1f46315b23590ab6d3ba0"
   }
  }
 },
 "nbformat": 4,
 "nbformat_minor": 4
}
