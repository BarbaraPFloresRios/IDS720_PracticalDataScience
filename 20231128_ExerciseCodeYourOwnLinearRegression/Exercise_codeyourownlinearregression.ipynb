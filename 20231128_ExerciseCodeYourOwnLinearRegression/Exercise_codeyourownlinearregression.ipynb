{
 "cells": [
  {
   "cell_type": "markdown",
   "metadata": {},
   "source": [
    "# Coding Your Own Linear Regression Model\n",
    "\n",
    "<span style=\"color: #008080\">*Aarya Desai*</span>\n",
    "\n",
    "<span style=\"color: #008080\">*Bárbara Flores*</span>\n",
    "\n",
    "One task that you will almost certainly be required to do other data science courses (especially if you are a MIDS student) is to write up some of your statistical / machine learning models from scratch. This can be a very valuable exercise, as it ensures that you understand what is actually going on behind the scenes of the models you use ever day, and that you don't just think of them as \"black boxes\". \n",
    "\n",
    "To get a little practice doing this, today you will be coding up your own linear regression model! \n",
    "\n",
    "(If you are using this site but aren't actually in this class, you are welcome to skip this exercise if you'd like -- this is more about practicing Python in anticipation of the requirements of other courses than developing your applied data science skills.) \n",
    "\n",
    "There are, broadly speaking, two approaches you can take to coding up your own model: \n",
    "\n",
    "1. you can write the model by defining a new function, or \n",
    "2. you can write the model by defining a new class with associated methods (making a model that works the way a model works in `scikit-learn`). \n",
    "\n",
    "Whether you do 1 or 2 is very much a matter of choice and style. Approach one, for example, is more consistent with what is called a *functional* style of programming, while approach two is more consistent with an *object-oriented* style of programming. Python can readily support both approaches, so either would work fine. \n",
    "\n",
    "In these exercises, however, I will ask you to use approach number 2 as this *tends* to be the more difficult approach, and so practicing approach 2 will be extra useful in preparing you for other classes (HA! Pun...). In particular, our goal is to implement a linear regression model that has the same \"initialize-fit-predict-score\" API (application programming interface -- a fancy name for the methods a class supports) as `scikit-learn` models. That means your model should be able to do all of the following:\n",
    "\n",
    "1. **Initialize** a new model. \n",
    "2. **Fit** a linear model when given a numpy vector (`y`) and a numpy matrix (`X`) with the syntax `my_model.fit(X, y)`. \n",
    "3. **Predict** values when given a new `numpy` matrix (`X_test`) with the syntax `my_model.predict(X_test)`. \n",
    "4. Return the **model coefficients** through the property `my_model.coefficients` (not quite what is used in `sklearn`, but let's use that interface). \n",
    "\n",
    "Also, bear in mind that throughout these exercises, we'll be working in `numpy` instead of `pandas`, just as we do in `scikit-learn`. So assume that before using your model, your user has already converted their data from `pandas` into `numpy` arrays. "
   ]
  },
  {
   "cell_type": "markdown",
   "metadata": {},
   "source": [
    "**(1)** Define a new Class called `MyLinearModel` with methods for `__init__`, `fit`, `predict`, and an attribute for `coefficients`. For now, we don't need any initialization *arguments*, just an `__init__` function. \n",
    "\n",
    "As you get your code outline going, start by just having each method `pass`:\n",
    "\n",
    "```python\n",
    "def my_method(self):\n",
    "    pass\n",
    "```\n",
    "\n",
    "This will allow your methods to run without errors (they just don't do anything). Then we can double back to each method to get them working one by one."
   ]
  },
  {
   "cell_type": "code",
   "execution_count": 1,
   "metadata": {},
   "outputs": [],
   "source": [
    "import pandas as pd\n",
    "import statsmodels.api as sm\n",
    "import numpy as np\n",
    "import warnings\n",
    "\n",
    "pd.set_option(\"mode.copy_on_write\", True)\n",
    "warnings.simplefilter(action=\"ignore\", category=FutureWarning)"
   ]
  },
  {
   "cell_type": "code",
   "execution_count": 2,
   "metadata": {},
   "outputs": [],
   "source": [
    "class MyLinearModel:\n",
    "    def __init__(self):\n",
    "        self.coefficients = None\n",
    "\n",
    "    def fit(self):\n",
    "        pass\n",
    "\n",
    "    def predict(self):\n",
    "        pass"
   ]
  },
  {
   "cell_type": "markdown",
   "metadata": {},
   "source": [
    "**(2)** Now define your `fit` method. This is the method that should actually run your linear regression. In case you've forgotten your linear algebra, remember that for linear regressions, $\\beta = (X'X)^{-1}X'Y$, a fact you can see explained in detail on page four [here](https://www.stat.purdue.edu/~boli/stat512/lectures/topic3.pdf).\n",
    "\n",
    "Note that once you have written the code to do a linear regression, you'll need to put your outputs (your coefficents) somewhere. I recommend making an attribute for your class where you can store your coefficients. \n",
    "\n",
    "(As a reminder: the normal multiply operator (`*`) in `numpy` implies scalar multiplication. Use `@` for matrix multiplication). \n",
    "\n",
    "**HINT:** Remember that linear regressions require a vector of 1s in the `X` matrix. As the package writer, you get to decide whether users are expected to provide a matrix `X` that already has a vector of 1s, or whether you expect the user to provide a matrix `X` that doesn't have a vector of 1s (in which case you will need to add a vector of 1s before you fit the model)."
   ]
  },
  {
   "cell_type": "markdown",
   "metadata": {},
   "source": [
    "><span style=\"color: #008080\">*In the following code, we modify the fit method to calculate the beta values of our model and store them in the coefficients attribute. It's worth mentioning that in this package, we expect the user to provide a matrix X that doesn't include a vector of 1s. Therefore, we automatically add a vector of 1s before fitting the model.*</span>"
   ]
  },
  {
   "cell_type": "code",
   "execution_count": 3,
   "metadata": {},
   "outputs": [],
   "source": [
    "class MyLinearModel:\n",
    "    def __init__(self, y, X):\n",
    "        self.y = y\n",
    "        self.X = X\n",
    "        self.coefficients = None\n",
    "\n",
    "    def fit(self):\n",
    "        ones_column = np.ones((self.X.shape[0], 1))\n",
    "        X_with_ones = np.concatenate((ones_column, self.X), axis=1)\n",
    "        self.coefficients = (\n",
    "            np.linalg.inv(X_with_ones.T @\n",
    "                          X_with_ones) @ (X_with_ones.T) @ self.y\n",
    "        )\n",
    "\n",
    "    def predict(self):\n",
    "        pass"
   ]
  },
  {
   "cell_type": "markdown",
   "metadata": {},
   "source": [
    "**(3)** As you write code, it is good to test your code as you work. With that in mind, let's create some toy data. First, create a 100 x 2 matrix where each column is normally distributed. Then create a vector `y` that is a linear combination of those two columns **plus** a vector of normally distributed noise **and** a constant term. \n",
    "\n",
    "In other words, we want to create data where we *know* exactly what coefficients we should see so when we test our regression, we know if the results are accurate!"
   ]
  },
  {
   "cell_type": "markdown",
   "metadata": {},
   "source": [
    "><span style=\"color: #008080\">*In the next code, we created a matrix of dimensions 100 x 2, with values drawn from a normal distribution with a mean of 0 and a standard deviation of 1.*</span>\n",
    ">\n",
    "><span style=\"color: #008080\">*Next, we introduced a vector of normally distributed noise with a mean of 0 and a standard deviation of 0.5.*</span>\n",
    ">\n",
    "><span style=\"color: #008080\">*Finally, we created our target variable y with a constant/intercept of 5, a Beta1 of 3, and a Beta2 of -2, using the matrix and noise vectors in a linear combination*</span>"
   ]
  },
  {
   "cell_type": "code",
   "execution_count": 4,
   "metadata": {},
   "outputs": [],
   "source": [
    "np.random.seed(42)  # For reproducibility\n",
    "\n",
    "# Generate a 100 x 2 matrix where each column is normally distributed\n",
    "X = np.random.normal(size=(100, 2))\n",
    "\n",
    "# Vector of normally distributed noise with a standard deviation of 0.5 and mean of 0\n",
    "noise = np.random.normal(scale=0.5, size=100)\n",
    "\n",
    "# Define the coefficients for the linear combination\n",
    "constant = 5\n",
    "coefficient_1 = 3\n",
    "coefficient_2 = -2\n",
    "\n",
    "# Create the vector y as a linear combination of the columns of X, noise, and the constant term\n",
    "y = constant + coefficient_1 * X[:, 0] + coefficient_2 * X[:, 1] + noise"
   ]
  },
  {
   "cell_type": "markdown",
   "metadata": {},
   "source": [
    "**(4)** Now test whether you `fit` method generates the correct coefficients. Remember the choice you made in Question 2 about whether your package expects the users' `X` matrix to include a vector of 1s when you test!"
   ]
  },
  {
   "cell_type": "markdown",
   "metadata": {},
   "source": [
    "><span style=\"color: #008080\">*In the following code, we fit our model with our matrices y and X. Given the construction of our model, our matrix X does not include the column of 1s, as our fit method takes care of adding it.*</span>\n",
    ">\n",
    "><span style=\"color: #008080\">*Finally, we obtain that the estimation of our coefficients is: Intercept = 4.94, B1 = 3.052, B2 = -2.028. (Recall that our initial values were 5, 3, and -2 for these coefficients, so our model seems to be performing well.)*</span>"
   ]
  },
  {
   "cell_type": "code",
   "execution_count": 5,
   "metadata": {},
   "outputs": [
    {
     "data": {
      "text/plain": [
       "array([ 5.04639669,  3.09536017, -2.08607105])"
      ]
     },
     "execution_count": 5,
     "metadata": {},
     "output_type": "execute_result"
    }
   ],
   "source": [
    "test_MyLinearModel = MyLinearModel(y, X)\n",
    "test_MyLinearModel.fit()\n",
    "test_MyLinearModel.coefficients"
   ]
  },
  {
   "cell_type": "markdown",
   "metadata": {},
   "source": [
    "**(5)** Now let's make the statisticians proud, and in addition to storing the coefficients, let's store the standard errors for our estimated coefficients as another attribute. Recall that the simplest method of calculating the variance covariance matrix for $\\beta$ is using the formula $\\sigma^2 (X'X)^{-1}$, where $\\sigma^2$ is the variance of the error terms of your regression. The standard errors for your coefficient estimates will be the diagonal values of that matrix. See page six [here](https://www.stat.purdue.edu/~boli/stat512/lectures/topic3.pdf) for a full derivation. "
   ]
  },
  {
   "cell_type": "markdown",
   "metadata": {},
   "source": [
    "><span style=\"color: #008080\">*In the following code, we add to the fit method of our class, the calculation of the standard error matrix, and we store it in the std_err attribute.*</span>"
   ]
  },
  {
   "cell_type": "code",
   "execution_count": 6,
   "metadata": {},
   "outputs": [],
   "source": [
    "class MyLinearModel:\n",
    "    def __init__(self, y, X):\n",
    "        self.y = y\n",
    "        self.X = X\n",
    "        self.coefficients = None\n",
    "        self.std_err = None\n",
    "\n",
    "    def fit(self):\n",
    "        # Calculation of coefficients.\n",
    "        ones_column = np.ones((self.X.shape[0], 1))\n",
    "        X_with_ones = np.concatenate((ones_column, self.X), axis=1)\n",
    "        self.coefficients = (\n",
    "            np.linalg.inv(X_with_ones.T @\n",
    "                          X_with_ones) @ (X_with_ones.T) @ self.y\n",
    "        )\n",
    "\n",
    "        # Calculation of standard errors.\n",
    "        y_pred = X_with_ones @ self.coefficients\n",
    "        variance = np.sum((self.y - y_pred) ** 2) / (len(y) - 1)\n",
    "\n",
    "        covariance = variance * np.linalg.inv((X_with_ones.T @ X_with_ones))\n",
    "        self.std_err = np.diag(covariance) ** 0.5\n",
    "\n",
    "    def predict(self):\n",
    "        pass"
   ]
  },
  {
   "cell_type": "markdown",
   "metadata": {},
   "source": [
    "><span style=\"color: #008080\">*Let's see the values we obtain for our toy data.*</span>"
   ]
  },
  {
   "cell_type": "code",
   "execution_count": 7,
   "metadata": {},
   "outputs": [
    {
     "data": {
      "text/plain": [
       "array([0.05346841, 0.06217237, 0.05329986])"
      ]
     },
     "execution_count": 7,
     "metadata": {},
     "output_type": "execute_result"
    }
   ],
   "source": [
    "test_MyLinearModel = MyLinearModel(y, X)\n",
    "test_MyLinearModel.fit()\n",
    "test_MyLinearModel.std_err"
   ]
  },
  {
   "cell_type": "markdown",
   "metadata": {},
   "source": [
    "**(6)** Now let's also add an R-squared attribute to the model."
   ]
  },
  {
   "cell_type": "markdown",
   "metadata": {},
   "source": [
    "><span style=\"color: #008080\">*In the following code, we have made modifications to the `MyLinearModel` class. We added the R-squared attribute to the model, calculated the standard error matrix, and stored it in the `std_err` attribute. Additionally, we modified the `fit` method to include the calculation of the R-squared value. After fitting the model and calculating the standard error matrix, you can access the R-squared value using the `r_squared` attribute. To use the updated `MyLinearModel` class, create an instance of it, call the `fit` method, and then access the `std_err` and `r_squared` attributes as needed.*</span>"
   ]
  },
  {
   "cell_type": "code",
   "execution_count": 8,
   "metadata": {},
   "outputs": [],
   "source": [
    "class MyLinearModel:\n",
    "    def __init__(self, y, X):\n",
    "        self.y = y\n",
    "        self.X = X\n",
    "        self.coefficients = None\n",
    "        self.std_err = None\n",
    "        self.r_squared = None\n",
    "\n",
    "    def fit(self):\n",
    "        # Calculation of coefficients.\n",
    "        ones_column = np.ones((self.X.shape[0], 1))\n",
    "        X_with_ones = np.concatenate((ones_column, self.X), axis=1)\n",
    "        self.coefficients = (\n",
    "            np.linalg.inv(X_with_ones.T @\n",
    "                          X_with_ones) @ (X_with_ones.T) @ self.y\n",
    "        )\n",
    "\n",
    "        # Calculation of standard errors.\n",
    "        y_pred = X_with_ones @ self.coefficients\n",
    "        variance = np.sum((self.y - y_pred) ** 2) / (len(self.y) - 1)\n",
    "\n",
    "        covariance = variance * np.linalg.inv((X_with_ones.T @ X_with_ones))\n",
    "        self.std_err = np.diag(covariance) ** 0.5\n",
    "\n",
    "        # Calculation of R-squared.\n",
    "        ss_total = np.sum((self.y - np.mean(self.y)) ** 2)\n",
    "        ss_residual = np.sum((self.y - y_pred) ** 2)\n",
    "        self.r_squared = 1 - (ss_residual / ss_total)\n",
    "\n",
    "    def predict(self):\n",
    "        pass"
   ]
  },
  {
   "cell_type": "markdown",
   "metadata": {},
   "source": [
    "><span style=\"color: #008080\">*Testing with toy data.*</span>"
   ]
  },
  {
   "cell_type": "code",
   "execution_count": 9,
   "metadata": {},
   "outputs": [
    {
     "data": {
      "text/plain": [
       "0.9751732435985402"
      ]
     },
     "execution_count": 9,
     "metadata": {},
     "output_type": "execute_result"
    }
   ],
   "source": [
    "test_MyLinearModel = MyLinearModel(y, X)\n",
    "test_MyLinearModel.fit()\n",
    "test_MyLinearModel.r_squared"
   ]
  },
  {
   "cell_type": "markdown",
   "metadata": {},
   "source": [
    "**(7)** Now we'll go ahead and cheat a little. Use `statsmodels` to fit your model with your toy data to ensure your standard errors and r-squared are correct!"
   ]
  },
  {
   "cell_type": "markdown",
   "metadata": {},
   "source": [
    "><span style=\"color: #008080\">*To compare our results, we use the statsmodels library. To make the evaluation comparable with our class, we utilize the add_constant() method, which adds the intercept column of ones before fitting the model.*</span>\n",
    ">\n",
    "><span style=\"color: #008080\">*When comparing the values obtained by our MyLinearModel class with those obtained by the statsmodels_model, we observe that we obtain the same results for the coefficients Beta, standard errors (std err), and R-squared.*</span>"
   ]
  },
  {
   "cell_type": "code",
   "execution_count": 10,
   "metadata": {},
   "outputs": [
    {
     "name": "stdout",
     "output_type": "stream",
     "text": [
      "                            OLS Regression Results                            \n",
      "==============================================================================\n",
      "Dep. Variable:                      y   R-squared:                       0.975\n",
      "Model:                            OLS   Adj. R-squared:                  0.975\n",
      "Method:                 Least Squares   F-statistic:                     1905.\n",
      "Date:                Tue, 28 Nov 2023   Prob (F-statistic):           1.42e-78\n",
      "Time:                        21:10:11   Log-Likelihood:                -77.799\n",
      "No. Observations:                 100   AIC:                             161.6\n",
      "Df Residuals:                      97   BIC:                             169.4\n",
      "Df Model:                           2                                         \n",
      "Covariance Type:            nonrobust                                         \n",
      "==============================================================================\n",
      "                 coef    std err          t      P>|t|      [0.025      0.975]\n",
      "------------------------------------------------------------------------------\n",
      "const          5.0464      0.054     93.423      0.000       4.939       5.154\n",
      "x1             3.0954      0.063     49.281      0.000       2.971       3.220\n",
      "x2            -2.0861      0.054    -38.741      0.000      -2.193      -1.979\n",
      "==============================================================================\n",
      "Omnibus:                        4.136   Durbin-Watson:                   2.212\n",
      "Prob(Omnibus):                  0.126   Jarque-Bera (JB):                3.956\n",
      "Skew:                           0.266   Prob(JB):                        0.138\n",
      "Kurtosis:                       3.817   Cond. No.                         1.23\n",
      "==============================================================================\n",
      "\n",
      "Notes:\n",
      "[1] Standard Errors assume that the covariance matrix of the errors is correctly specified.\n"
     ]
    }
   ],
   "source": [
    "X_test = sm.add_constant(X)\n",
    "statsmodels_model = sm.OLS(y, X_test)\n",
    "statsmodels_model_results = statsmodels_model.fit()\n",
    "\n",
    "print(statsmodels_model_results.summary())"
   ]
  },
  {
   "cell_type": "markdown",
   "metadata": {},
   "source": [
    "**(8)** Now implement `predict`! Then test it against your original `X` data -- do you get back something very close to your true `y`?"
   ]
  },
  {
   "cell_type": "code",
   "execution_count": 11,
   "metadata": {},
   "outputs": [],
   "source": [
    "class MyLinearModel:\n",
    "    def __init__(self, y, X):\n",
    "        self.y = y\n",
    "        self.X = X\n",
    "        self.coefficients = None\n",
    "        self.std_err = None\n",
    "        self.r_squared = None\n",
    "\n",
    "    def fit(self):\n",
    "        # Calculation of coefficients.\n",
    "        ones_column = np.ones((self.X.shape[0], 1))\n",
    "        X_with_ones = np.concatenate((ones_column, self.X), axis=1)\n",
    "        self.coefficients = (\n",
    "            np.linalg.inv(X_with_ones.T @\n",
    "                          X_with_ones) @ (X_with_ones.T) @ self.y\n",
    "        )\n",
    "\n",
    "        # Calculation of standard errors.\n",
    "        y_pred = X_with_ones @ self.coefficients\n",
    "        variance = np.sum((self.y - y_pred) ** 2) / (len(self.y) - 1)\n",
    "\n",
    "        covariance = variance * np.linalg.inv((X_with_ones.T @ X_with_ones))\n",
    "        self.std_err = np.diag(covariance) ** 0.5\n",
    "\n",
    "        # Calculation of R-squared.\n",
    "        ss_total = np.sum((self.y - np.mean(self.y)) ** 2)\n",
    "        ss_residual = np.sum((self.y - y_pred) ** 2)\n",
    "        self.r_squared = 1 - (ss_residual / ss_total)\n",
    "\n",
    "    def predict(self, new_X):\n",
    "        # Ensure new_X has the ones column added for the intercept\n",
    "        ones_column = np.ones((new_X.shape[0], 1))\n",
    "        X_with_ones = np.concatenate((ones_column, new_X), axis=1)\n",
    "        # Calculation of standard errors.\n",
    "        y_pred = X_with_ones @ self.coefficients\n",
    "        return y_pred"
   ]
  },
  {
   "cell_type": "markdown",
   "metadata": {},
   "source": [
    "><span style=\"color: #008080\">The above code redefines the class `MyLinearModel` that represents a linear regression model. Here, we have added an additional method called `predict` that predicts the target variable `y` using the fitted model. </span>\n",
    "\n",
    "><span style=\"color: #008080\">To use this class, create an instance of `MyLinearModel` with the target variable `y` and feature matrix `X` (which we have done in the following code chunk). Then, call the `fit` method to fit the model and calculate the coefficients, standard errors, and R-squared value. Finally, you can use the `predict` method to make predictions based on the fitted model.</span>"
   ]
  },
  {
   "cell_type": "code",
   "execution_count": 12,
   "metadata": {},
   "outputs": [
    {
     "name": "stdout",
     "output_type": "stream",
     "text": [
      "True: 6.95\tPredicted: 6.87\n",
      "True: 4.18\tPredicted: 3.87\n",
      "True: 5.31\tPredicted: 4.81\n",
      "True: 8.73\tPredicted: 8.33\n",
      "True: 1.82\tPredicted: 2.46\n",
      "True: 4.07\tPredicted: 4.58\n",
      "True: 9.81\tPredicted: 9.79\n",
      "True: 1.21\tPredicted: 0.88\n",
      "True: 1.59\tPredicted: 1.26\n",
      "True: 7.03\tPredicted: 5.18\n",
      "True: 10.13\tPredicted: 10.05\n",
      "True: 8.62\tPredicted: 8.23\n",
      "True: 3.62\tPredicted: 3.13\n",
      "True: 1.12\tPredicted: 0.70\n",
      "True: 3.62\tPredicted: 3.80\n",
      "True: -0.13\tPredicted: -0.68\n",
      "True: 6.69\tPredicted: 7.21\n",
      "True: 9.79\tPredicted: 10.14\n",
      "True: 9.30\tPredicted: 9.78\n",
      "True: 0.66\tPredicted: 0.52\n",
      "True: 8.03\tPredicted: 6.97\n",
      "True: 4.32\tPredicted: 5.32\n",
      "True: 2.35\tPredicted: 1.97\n",
      "True: 0.70\tPredicted: 1.42\n",
      "True: 9.32\tPredicted: 9.79\n",
      "True: 7.29\tPredicted: 6.85\n",
      "True: 1.78\tPredicted: 1.68\n",
      "True: 5.69\tPredicted: 6.29\n",
      "True: 2.74\tPredicted: 3.09\n",
      "True: 4.38\tPredicted: 4.04\n",
      "True: 3.57\tPredicted: 3.95\n",
      "True: 4.18\tPredicted: 4.12\n",
      "True: 4.75\tPredicted: 4.73\n",
      "True: 2.45\tPredicted: 2.73\n",
      "True: 8.45\tPredicted: 7.51\n",
      "True: 3.33\tPredicted: 2.96\n",
      "True: 0.75\tPredicted: 1.67\n",
      "True: -4.41\tPredicted: -4.78\n",
      "True: 5.53\tPredicted: 5.94\n",
      "True: 9.68\tPredicted: 9.48\n",
      "True: 3.23\tPredicted: 3.62\n",
      "True: 10.41\tPredicted: 10.70\n",
      "True: 3.83\tPredicted: 3.59\n",
      "True: 7.52\tPredicted: 7.19\n",
      "True: 1.78\tPredicted: 2.34\n",
      "True: 3.19\tPredicted: 3.33\n",
      "True: 3.31\tPredicted: 3.56\n",
      "True: 6.42\tPredicted: 6.89\n",
      "True: 6.25\tPredicted: 5.42\n",
      "True: 5.69\tPredicted: 5.55\n",
      "True: 0.96\tPredicted: 1.54\n",
      "True: 6.04\tPredicted: 5.66\n",
      "True: 4.77\tPredicted: 3.70\n",
      "True: 10.83\tPredicted: 10.52\n",
      "True: 5.16\tPredicted: 6.00\n",
      "True: -0.95\tPredicted: -0.84\n",
      "True: 0.89\tPredicted: 0.09\n",
      "True: 3.47\tPredicted: 3.82\n",
      "True: 7.46\tPredicted: 7.38\n",
      "True: 7.31\tPredicted: 7.02\n",
      "True: 8.73\tPredicted: 9.39\n",
      "True: 11.98\tPredicted: 12.31\n",
      "True: 0.76\tPredicted: 2.29\n",
      "True: 2.65\tPredicted: 3.16\n",
      "True: 6.18\tPredicted: 6.41\n",
      "True: -0.41\tPredicted: 0.10\n",
      "True: 1.68\tPredicted: 0.77\n",
      "True: -1.57\tPredicted: -1.03\n",
      "True: 3.07\tPredicted: 3.29\n",
      "True: 9.97\tPredicted: 10.13\n",
      "True: 3.79\tPredicted: 3.02\n",
      "True: -0.91\tPredicted: -0.31\n",
      "True: 4.80\tPredicted: 4.22\n",
      "True: 3.94\tPredicted: 3.97\n",
      "True: 5.48\tPredicted: 6.04\n",
      "True: 5.29\tPredicted: 5.10\n",
      "True: 2.59\tPredicted: 2.46\n",
      "True: 7.01\tPredicted: 7.44\n",
      "True: 9.68\tPredicted: 9.83\n",
      "True: -0.08\tPredicted: -0.01\n",
      "True: 0.56\tPredicted: 0.39\n",
      "True: 10.45\tPredicted: 10.34\n",
      "True: 7.86\tPredicted: 7.17\n",
      "True: 3.05\tPredicted: 3.63\n",
      "True: 6.84\tPredicted: 5.86\n",
      "True: 2.99\tPredicted: 3.99\n",
      "True: 4.01\tPredicted: 4.10\n",
      "True: 4.47\tPredicted: 4.18\n",
      "True: 2.27\tPredicted: 2.05\n",
      "True: -1.55\tPredicted: -1.45\n",
      "True: 8.49\tPredicted: 8.77\n",
      "True: 0.58\tPredicted: 0.73\n",
      "True: 2.61\tPredicted: 2.87\n",
      "True: 6.99\tPredicted: 6.66\n",
      "True: 5.67\tPredicted: 5.59\n",
      "True: 1.60\tPredicted: 1.88\n",
      "True: 8.58\tPredicted: 8.31\n",
      "True: 4.90\tPredicted: 4.78\n",
      "True: 2.45\tPredicted: 1.99\n",
      "True: 7.78\tPredicted: 7.61\n"
     ]
    }
   ],
   "source": [
    "test_MyLinearModel = MyLinearModel(y, X)\n",
    "test_MyLinearModel.fit()\n",
    "predictions = test_MyLinearModel.predict(X)\n",
    "\n",
    "for true_value, predicted_value in zip(y, predictions):\n",
    "    print(f\"True: {true_value:.2f}\\tPredicted: {predicted_value:.2f}\")"
   ]
  },
  {
   "cell_type": "code",
   "execution_count": 17,
   "metadata": {},
   "outputs": [
    {
     "data": {
      "image/png": "[encoded data removed]",
      "text/plain": [
       "<Figure size 800x600 with 1 Axes>"
      ]
     },
     "metadata": {},
     "output_type": "display_data"
    }
   ],
   "source": [
    "import matplotlib.pyplot as plt\n",
    "\n",
    "# Plotting true against predicted values from above\n",
    "\n",
    "plt.figure(figsize=(8, 6))\n",
    "plt.scatter(y, predictions, color=\"blue\")\n",
    "plt.plot(\n",
    "    [min(y), max(y)], [min(y), max(y)], color=\"red\", linestyle=\"--\"\n",
    ")  # Diagonal line for reference\n",
    "plt.xlabel(\"True Values\")\n",
    "plt.ylabel(\"Predicted Values\")\n",
    "plt.title(\"True vs Predicted Values\")\n",
    "plt.grid(True)\n",
    "plt.show()"
   ]
  },
  {
   "cell_type": "markdown",
   "metadata": {},
   "source": [
    "><span style=\"color: #008080\"> From the above results, the true vs. predicted numbers presented before the graph, it is difficult to interpret how far apart the true and predicted values are after implementing predict. Thus, to get a better understanding of the same, we plotted the true and predicted values against each other. </span>\n",
    ">\n",
    "><span style=\"color: #008080\">The scatter plot illustrates the relationship between true and predicted values of a model. Each point represents a true-predicted pair, and their proximity to the red dashed line signifies the accuracy of predictions. The closer the points align with the diagonal line, the more accurate the model predictions are. In this case, the majority of points cluster near the line, indicating a strong alignment between true and predicted values. This suggests that the model performs well in capturing the underlying patterns in the data and making accurate predictions. </span>"
   ]
  },
  {
   "cell_type": "markdown",
   "metadata": {},
   "source": [
    "**(9)** Finally, create the *option* of fitting the model with or without a constant term. In other words, create an option so that, if the user passes a numpy array *without* a constant term, your code will add a vector of 1s before fitting the model. As in `scikit-learn`, make this an option you set during initialization. "
   ]
  },
  {
   "cell_type": "code",
   "execution_count": 14,
   "metadata": {},
   "outputs": [],
   "source": [
    "class MyLinearModel:\n",
    "    def __init__(self, y, X, fit_intercept=True):\n",
    "        self.y = y\n",
    "        self.X = X\n",
    "        self.fit_intercept = fit_intercept\n",
    "        self.coefficients = None\n",
    "        self.std_err = None\n",
    "        self.r_squared = None\n",
    "\n",
    "    def fit(self):\n",
    "        if self.fit_intercept:\n",
    "            ones_column = np.ones((self.X.shape[0], 1))\n",
    "            X_with_ones = np.concatenate((ones_column, self.X), axis=1)\n",
    "        else:\n",
    "            X_with_ones = self.X\n",
    "\n",
    "        self.coefficients = (\n",
    "            np.linalg.inv(X_with_ones.T @\n",
    "                          X_with_ones) @ (X_with_ones.T) @ self.y\n",
    "        )\n",
    "\n",
    "        y_pred = X_with_ones @ self.coefficients\n",
    "        variance = np.sum((self.y - y_pred) ** 2) / (len(self.y) - 1)\n",
    "\n",
    "        covariance = variance * np.linalg.inv((X_with_ones.T @ X_with_ones))\n",
    "        self.std_err = np.diag(covariance) ** 0.5\n",
    "\n",
    "        ss_total = np.sum((self.y - np.mean(self.y)) ** 2)\n",
    "        ss_residual = np.sum((self.y - y_pred) ** 2)\n",
    "        self.r_squared = 1 - (ss_residual / ss_total)\n",
    "\n",
    "    def predict(self, new_X):\n",
    "        if self.fit_intercept:\n",
    "            ones_column = np.ones((new_X.shape[0], 1))\n",
    "            X_with_ones = np.concatenate((ones_column, new_X), axis=1)\n",
    "        else:\n",
    "            X_with_ones = new_X\n",
    "\n",
    "        y_pred = X_with_ones @ self.coefficients\n",
    "        return y_pred"
   ]
  },
  {
   "cell_type": "markdown",
   "metadata": {},
   "source": [
    "><span style=\"color: #008080\"> In the above code, we have added the option to fit the model with or without a constant term. If the user passes a numpy array without a constant term, the code will add a vector of 1s before fitting the model. </span>\n",
    ">\n",
    "><span style=\"color: #008080\">To use this class, we will be using the same test datasets that we have been using thus far. Then, we call the `fit` method to fit the model and calculate the coefficients, standard errors, and R-squared value. However, the additional attribute we will be using when we `.fit()` the model this time will be `fit_intercept = True` and `fit_intercept = False`.</span>"
   ]
  },
  {
   "cell_type": "code",
   "execution_count": 21,
   "metadata": {},
   "outputs": [
    {
     "name": "stdout",
     "output_type": "stream",
     "text": [
      "Coefficients (with intercept):\n",
      "Intercept: 5.05 (Standard Error: 0.05)\n",
      "Feature_1: 3.10 (Standard Error: 0.06)\n",
      "Feature_2: -2.09 (Standard Error: 0.05)\n",
      "\n",
      "Coefficients (without intercept):\n",
      "Feature_1: 2.30 (Standard Error: 0.59)\n",
      "Feature_2: -1.89 (Standard Error: 0.51)\n"
     ]
    }
   ],
   "source": [
    "# Fit the model with intercept\n",
    "model_with_intercept = MyLinearModel(y, X, fit_intercept=True)\n",
    "model_with_intercept.fit()\n",
    "predictions_with_intercept = model_with_intercept.predict(X)\n",
    "\n",
    "# Display coefficients with labels for the model with intercept\n",
    "feature_names_with_intercept = [\"Intercept\",\n",
    "                                \"Feature_1\", \"Feature_2\", \"Feature_3\"]\n",
    "coefficients_with_intercept = model_with_intercept.coefficients\n",
    "std_err_with_intercept = model_with_intercept.std_err\n",
    "\n",
    "print(\"Coefficients (with intercept):\")\n",
    "for feature_name, coef, std_err in zip(\n",
    "    feature_names_with_intercept, coefficients_with_intercept, std_err_with_intercept\n",
    "):\n",
    "    print(f\"{feature_name}: {coef:.2f} (Standard Error: {std_err:.2f})\")\n",
    "\n",
    "# Fit the model without intercept\n",
    "model_without_intercept = MyLinearModel(y, X, fit_intercept=False)\n",
    "model_without_intercept.fit()\n",
    "predictions_without_intercept = model_without_intercept.predict(X)\n",
    "\n",
    "# Display coefficients with labels for the model without intercept\n",
    "feature_names_without_intercept = [\"Feature_1\", \"Feature_2\", \"Feature_3\"]\n",
    "coefficients_without_intercept = model_without_intercept.coefficients\n",
    "std_err_without_intercept = model_without_intercept.std_err\n",
    "\n",
    "print(\"\\nCoefficients (without intercept):\")\n",
    "for feature_name, coef, std_err in zip(\n",
    "    feature_names_without_intercept,\n",
    "    coefficients_without_intercept,\n",
    "    std_err_without_intercept,\n",
    "):\n",
    "    print(f\"{feature_name}: {coef:.2f} (Standard Error: {std_err:.2f})\")"
   ]
  },
  {
   "cell_type": "markdown",
   "metadata": {},
   "source": [
    "><span style=\"color: #008080\"> As seen from the above results, this additional attribute of `fit_intercept` is working well and we now have the option to fit the model with or without a constant term! </span>"
   ]
  }
 ],
 "metadata": {
  "kernelspec": {
   "display_name": "Python 3",
   "language": "python",
   "name": "python3"
  },
  "language_info": {
   "codemirror_mode": {
    "name": "ipython",
    "version": 3
   },
   "file_extension": ".py",
   "mimetype": "text/x-python",
   "name": "python",
   "nbconvert_exporter": "python",
   "pygments_lexer": "ipython3",
   "version": "3.11.5"
  }
 },
 "nbformat": 4,
 "nbformat_minor": 4
}
