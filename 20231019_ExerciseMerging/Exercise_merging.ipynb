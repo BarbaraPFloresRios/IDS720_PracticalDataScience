{
    "cells": [
        {
            "cell_type": "markdown",
            "metadata": {},
            "source": [
                "# Merging Data to Understand the Relationship between Drug Legalization and Violent Crime\n",
                "\n",
                "\n",
                "><span style=\"color: #9370DB\">*Bárbara Flores*</span>"
            ]
        },
        {
            "cell_type": "markdown",
            "metadata": {},
            "source": [
                "In recent years, many US states have decided to legalize the use of marijuana. \n",
                "\n",
                "When these ideas were first proposed, there were many theories about the relationship between crime and the \"War on Drugs\" (the term given to US efforts to arrest drug users and dealers over the past several decades). \n",
                "\n",
                "In this exercise, we're going to test a few of those theories using drug arrest data from the state of California. \n",
                "\n",
                "Though California has passed a number of laws lessening penalities for marijuana possession over the years, arguably the biggest changes were in  2010, when the state changed the penalty for possessing a small amount of marijuana from a criminal crime to a \"civil\" penality (meaning those found guilty only had to pay a fine, not go to jail), though possessing, selling, or producing larger quantities remained illegal. Then in 2016, the state fully legalized marijuana for recreational use, not only making possession of small amounts legal, but also creating a regulatory system for producing marijuana for sale. \n",
                "\n",
                "Proponents of drug legalization have long argued that the war on drugs contributes to violent crime by creating an opportunity for drug dealers and organized crime to sell and distribute drugs, a business which tends to generate violence when gangs battle over territory. According to this theory, with drug legalization, we should see violent crime decrease after legalization in places where drug arrests had previously been common. \n",
                "\n",
                "**To be clear,** this is far from the only argument for drug legalization! It is simply the argument we are well positioned to analyze today. "
            ]
        },
        {
            "cell_type": "markdown",
            "metadata": {},
            "source": [
                "\n",
                "## Gradescope Autograding\n",
                "\n",
                "Please follow [all standard guidance](https://www.practicaldatascience.org/html/autograder_guidelines.html) for submitting this assignment to the Gradescope autograder, including storing your solutions in a dictionary called `results` and ensuring your notebook runs from the start to completion without any errors.\n",
                "\n",
                "For this assignment, please name your file `exercise_merging.ipynb` before uploading.\n",
                "\n",
                "You can check that you have answers for all questions in your `results` dictionary with this code:\n",
                "\n",
                "```python\n",
                "assert set(results.keys()) == {\n",
                "    \"ex6_validate_keyword\",\n",
                "    \"ex10_merged_successfully\",\n",
                "    \"ex16_num_obs\",\n",
                "    \"ex17_drug_change\",\n",
                "    \"ex18_violent_change\",\n",
                "    \"ex21_diffindiff\",\n",
                "    \"ex23_diffindiff_proportionate\",\n",
                "}\n",
                "```\n",
                "\n",
                "\n",
                "### Submission Limits\n",
                "\n",
                "Please remember that you are **only allowed three submissions to the autograder.** Your last submission (if you submit 3 or fewer times), or your third submission (if you submit more than 3 times) will determine your grade Submissions that error out will **not** count against this total."
            ]
        },
        {
            "cell_type": "markdown",
            "metadata": {},
            "source": [
                "## Pre-Legalization Analysis\n",
                "\n",
                "### Exercise 1\n",
                "We will begin by examining [county-level data on arrests from California in 2009](https://github.com/nickeubank/practicaldatascience/tree/master/Example_Data/ca). This data is derived directly from data hosted by the [Office of the California State Attorney General](https://openjustice.doj.ca.gov/data), but please follow the github link above and download and import the file `ca_arrests_2009.csv` (don't try and get it directly from the State Attorney General's office). "
            ]
        },
        {
            "cell_type": "code",
            "execution_count": 1,
            "metadata": {},
            "outputs": [],
            "source": [
                "import pandas as pd\n",
                "\n",
                "pd.set_option(\"mode.copy_on_write\", True)\n",
                "\n",
                "# Download the data\n",
                "ca_arrests_2009 = pd.read_csv(\n",
                "    \"https://raw.githubusercontent.com/nickeubank/practicaldatascience/master\"\n",
                "    \"/Example_Data/ca/ca_arrests_2009.csv\"\n",
                ")"
            ]
        },
        {
            "cell_type": "markdown",
            "metadata": {},
            "source": [
                "### Exercise 2\n",
                "Use your data exploration skills to get a feel for this data. If you need to, you can find the [original codebook here](https://github.com/nickeubank/practicaldatascience/blob/master/Example_Data/ca/arrests_codebook.pdf) (This data is a version of that data, but collapsed to one observation per county.)"
            ]
        },
        {
            "cell_type": "code",
            "execution_count": 2,
            "metadata": {},
            "outputs": [
                {
                    "data": {
                        "text/html": [
                            "<div>\n",
                            "<style scoped>\n",
                            "    .dataframe tbody tr th:only-of-type {\n",
                            "        vertical-align: middle;\n",
                            "    }\n",
                            "\n",
                            "    .dataframe tbody tr th {\n",
                            "        vertical-align: top;\n",
                            "    }\n",
                            "\n",
                            "    .dataframe thead th {\n",
                            "        text-align: right;\n",
                            "    }\n",
                            "</style>\n",
                            "<table border=\"1\" class=\"dataframe\">\n",
                            "  <thead>\n",
                            "    <tr style=\"text-align: right;\">\n",
                            "      <th></th>\n",
                            "      <th>Unnamed: 0</th>\n",
                            "      <th>COUNTY</th>\n",
                            "      <th>VIOLENT</th>\n",
                            "      <th>PROPERTY</th>\n",
                            "      <th>F_DRUGOFF</th>\n",
                            "      <th>F_SEXOFF</th>\n",
                            "      <th>F_ALLOTHER</th>\n",
                            "      <th>F_TOTAL</th>\n",
                            "      <th>M_TOTAL</th>\n",
                            "      <th>S_TOTAL</th>\n",
                            "    </tr>\n",
                            "  </thead>\n",
                            "  <tbody>\n",
                            "    <tr>\n",
                            "      <th>11</th>\n",
                            "      <td>1693</td>\n",
                            "      <td>Humboldt County</td>\n",
                            "      <td>503</td>\n",
                            "      <td>440</td>\n",
                            "      <td>747</td>\n",
                            "      <td>54</td>\n",
                            "      <td>394</td>\n",
                            "      <td>2138</td>\n",
                            "      <td>7460</td>\n",
                            "      <td>420</td>\n",
                            "    </tr>\n",
                            "    <tr>\n",
                            "      <th>12</th>\n",
                            "      <td>1694</td>\n",
                            "      <td>Imperial County</td>\n",
                            "      <td>599</td>\n",
                            "      <td>779</td>\n",
                            "      <td>730</td>\n",
                            "      <td>28</td>\n",
                            "      <td>449</td>\n",
                            "      <td>2585</td>\n",
                            "      <td>6739</td>\n",
                            "      <td>69</td>\n",
                            "    </tr>\n",
                            "    <tr>\n",
                            "      <th>9</th>\n",
                            "      <td>1691</td>\n",
                            "      <td>Fresno County</td>\n",
                            "      <td>4377</td>\n",
                            "      <td>3514</td>\n",
                            "      <td>3508</td>\n",
                            "      <td>305</td>\n",
                            "      <td>3253</td>\n",
                            "      <td>14957</td>\n",
                            "      <td>31710</td>\n",
                            "      <td>377</td>\n",
                            "    </tr>\n",
                            "    <tr>\n",
                            "      <th>56</th>\n",
                            "      <td>1738</td>\n",
                            "      <td>Yolo County</td>\n",
                            "      <td>585</td>\n",
                            "      <td>634</td>\n",
                            "      <td>614</td>\n",
                            "      <td>39</td>\n",
                            "      <td>662</td>\n",
                            "      <td>2534</td>\n",
                            "      <td>5426</td>\n",
                            "      <td>73</td>\n",
                            "    </tr>\n",
                            "    <tr>\n",
                            "      <th>6</th>\n",
                            "      <td>1688</td>\n",
                            "      <td>Contra Costa County</td>\n",
                            "      <td>2976</td>\n",
                            "      <td>3532</td>\n",
                            "      <td>2895</td>\n",
                            "      <td>189</td>\n",
                            "      <td>2069</td>\n",
                            "      <td>11661</td>\n",
                            "      <td>18539</td>\n",
                            "      <td>50</td>\n",
                            "    </tr>\n",
                            "  </tbody>\n",
                            "</table>\n",
                            "</div>"
                        ],
                        "text/plain": [
                            "    Unnamed: 0               COUNTY  VIOLENT  PROPERTY  F_DRUGOFF  F_SEXOFF  \\\n",
                            "11        1693      Humboldt County      503       440        747        54   \n",
                            "12        1694      Imperial County      599       779        730        28   \n",
                            "9         1691        Fresno County     4377      3514       3508       305   \n",
                            "56        1738          Yolo County      585       634        614        39   \n",
                            "6         1688  Contra Costa County     2976      3532       2895       189   \n",
                            "\n",
                            "    F_ALLOTHER  F_TOTAL  M_TOTAL  S_TOTAL  \n",
                            "11         394     2138     7460      420  \n",
                            "12         449     2585     6739       69  \n",
                            "9         3253    14957    31710      377  \n",
                            "56         662     2534     5426       73  \n",
                            "6         2069    11661    18539       50  "
                        ]
                    },
                    "execution_count": 2,
                    "metadata": {},
                    "output_type": "execute_result"
                }
            ],
            "source": [
                "# Explore the data\n",
                "ca_arrests_2009.sample(5)"
            ]
        },
        {
            "cell_type": "code",
            "execution_count": 3,
            "metadata": {},
            "outputs": [
                {
                    "name": "stdout",
                    "output_type": "stream",
                    "text": [
                        "<class 'pandas.core.frame.DataFrame'>\n",
                        "RangeIndex: 58 entries, 0 to 57\n",
                        "Data columns (total 10 columns):\n",
                        " #   Column      Non-Null Count  Dtype \n",
                        "---  ------      --------------  ----- \n",
                        " 0   Unnamed: 0  58 non-null     int64 \n",
                        " 1   COUNTY      58 non-null     object\n",
                        " 2   VIOLENT     58 non-null     int64 \n",
                        " 3   PROPERTY    58 non-null     int64 \n",
                        " 4   F_DRUGOFF   58 non-null     int64 \n",
                        " 5   F_SEXOFF    58 non-null     int64 \n",
                        " 6   F_ALLOTHER  58 non-null     int64 \n",
                        " 7   F_TOTAL     58 non-null     int64 \n",
                        " 8   M_TOTAL     58 non-null     int64 \n",
                        " 9   S_TOTAL     58 non-null     int64 \n",
                        "dtypes: int64(9), object(1)\n",
                        "memory usage: 4.7+ KB\n"
                    ]
                }
            ],
            "source": [
                "ca_arrests_2009.info()"
            ]
        },
        {
            "cell_type": "code",
            "execution_count": 4,
            "metadata": {},
            "outputs": [
                {
                    "data": {
                        "text/html": [
                            "<div>\n",
                            "<style scoped>\n",
                            "    .dataframe tbody tr th:only-of-type {\n",
                            "        vertical-align: middle;\n",
                            "    }\n",
                            "\n",
                            "    .dataframe tbody tr th {\n",
                            "        vertical-align: top;\n",
                            "    }\n",
                            "\n",
                            "    .dataframe thead th {\n",
                            "        text-align: right;\n",
                            "    }\n",
                            "</style>\n",
                            "<table border=\"1\" class=\"dataframe\">\n",
                            "  <thead>\n",
                            "    <tr style=\"text-align: right;\">\n",
                            "      <th></th>\n",
                            "      <th>Unnamed: 0</th>\n",
                            "      <th>VIOLENT</th>\n",
                            "      <th>PROPERTY</th>\n",
                            "      <th>F_DRUGOFF</th>\n",
                            "      <th>F_SEXOFF</th>\n",
                            "      <th>F_ALLOTHER</th>\n",
                            "      <th>F_TOTAL</th>\n",
                            "      <th>M_TOTAL</th>\n",
                            "      <th>S_TOTAL</th>\n",
                            "    </tr>\n",
                            "  </thead>\n",
                            "  <tbody>\n",
                            "    <tr>\n",
                            "      <th>count</th>\n",
                            "      <td>58.000000</td>\n",
                            "      <td>58.000000</td>\n",
                            "      <td>58.000000</td>\n",
                            "      <td>58.000000</td>\n",
                            "      <td>58.000000</td>\n",
                            "      <td>58.000000</td>\n",
                            "      <td>58.000000</td>\n",
                            "      <td>58.000000</td>\n",
                            "      <td>58.000000</td>\n",
                            "    </tr>\n",
                            "    <tr>\n",
                            "      <th>mean</th>\n",
                            "      <td>1710.500000</td>\n",
                            "      <td>2133.827586</td>\n",
                            "      <td>2187.775862</td>\n",
                            "      <td>2046.275862</td>\n",
                            "      <td>142.913793</td>\n",
                            "      <td>1531.293103</td>\n",
                            "      <td>8042.086207</td>\n",
                            "      <td>16727.948276</td>\n",
                            "      <td>520.517241</td>\n",
                            "    </tr>\n",
                            "    <tr>\n",
                            "      <th>std</th>\n",
                            "      <td>16.886879</td>\n",
                            "      <td>4937.729079</td>\n",
                            "      <td>4949.115636</td>\n",
                            "      <td>4591.867960</td>\n",
                            "      <td>303.184460</td>\n",
                            "      <td>3270.993593</td>\n",
                            "      <td>17992.225337</td>\n",
                            "      <td>34113.762098</td>\n",
                            "      <td>1562.044019</td>\n",
                            "    </tr>\n",
                            "    <tr>\n",
                            "      <th>min</th>\n",
                            "      <td>1682.000000</td>\n",
                            "      <td>8.000000</td>\n",
                            "      <td>4.000000</td>\n",
                            "      <td>2.000000</td>\n",
                            "      <td>1.000000</td>\n",
                            "      <td>1.000000</td>\n",
                            "      <td>16.000000</td>\n",
                            "      <td>83.000000</td>\n",
                            "      <td>0.000000</td>\n",
                            "    </tr>\n",
                            "    <tr>\n",
                            "      <th>25%</th>\n",
                            "      <td>1696.250000</td>\n",
                            "      <td>194.000000</td>\n",
                            "      <td>141.250000</td>\n",
                            "      <td>135.500000</td>\n",
                            "      <td>14.000000</td>\n",
                            "      <td>146.500000</td>\n",
                            "      <td>637.250000</td>\n",
                            "      <td>1541.500000</td>\n",
                            "      <td>10.500000</td>\n",
                            "    </tr>\n",
                            "    <tr>\n",
                            "      <th>50%</th>\n",
                            "      <td>1710.500000</td>\n",
                            "      <td>536.500000</td>\n",
                            "      <td>518.500000</td>\n",
                            "      <td>532.000000</td>\n",
                            "      <td>39.000000</td>\n",
                            "      <td>474.000000</td>\n",
                            "      <td>2084.500000</td>\n",
                            "      <td>6267.000000</td>\n",
                            "      <td>73.000000</td>\n",
                            "    </tr>\n",
                            "    <tr>\n",
                            "      <th>75%</th>\n",
                            "      <td>1724.750000</td>\n",
                            "      <td>2204.000000</td>\n",
                            "      <td>2338.750000</td>\n",
                            "      <td>1860.500000</td>\n",
                            "      <td>117.750000</td>\n",
                            "      <td>1993.500000</td>\n",
                            "      <td>8677.500000</td>\n",
                            "      <td>16417.250000</td>\n",
                            "      <td>386.000000</td>\n",
                            "    </tr>\n",
                            "    <tr>\n",
                            "      <th>max</th>\n",
                            "      <td>1739.000000</td>\n",
                            "      <td>35319.000000</td>\n",
                            "      <td>34630.000000</td>\n",
                            "      <td>32193.000000</td>\n",
                            "      <td>2041.000000</td>\n",
                            "      <td>23524.000000</td>\n",
                            "      <td>127707.000000</td>\n",
                            "      <td>238608.000000</td>\n",
                            "      <td>11049.000000</td>\n",
                            "    </tr>\n",
                            "  </tbody>\n",
                            "</table>\n",
                            "</div>"
                        ],
                        "text/plain": [
                            "        Unnamed: 0       VIOLENT      PROPERTY     F_DRUGOFF     F_SEXOFF  \\\n",
                            "count    58.000000     58.000000     58.000000     58.000000    58.000000   \n",
                            "mean   1710.500000   2133.827586   2187.775862   2046.275862   142.913793   \n",
                            "std      16.886879   4937.729079   4949.115636   4591.867960   303.184460   \n",
                            "min    1682.000000      8.000000      4.000000      2.000000     1.000000   \n",
                            "25%    1696.250000    194.000000    141.250000    135.500000    14.000000   \n",
                            "50%    1710.500000    536.500000    518.500000    532.000000    39.000000   \n",
                            "75%    1724.750000   2204.000000   2338.750000   1860.500000   117.750000   \n",
                            "max    1739.000000  35319.000000  34630.000000  32193.000000  2041.000000   \n",
                            "\n",
                            "         F_ALLOTHER        F_TOTAL        M_TOTAL       S_TOTAL  \n",
                            "count     58.000000      58.000000      58.000000     58.000000  \n",
                            "mean    1531.293103    8042.086207   16727.948276    520.517241  \n",
                            "std     3270.993593   17992.225337   34113.762098   1562.044019  \n",
                            "min        1.000000      16.000000      83.000000      0.000000  \n",
                            "25%      146.500000     637.250000    1541.500000     10.500000  \n",
                            "50%      474.000000    2084.500000    6267.000000     73.000000  \n",
                            "75%     1993.500000    8677.500000   16417.250000    386.000000  \n",
                            "max    23524.000000  127707.000000  238608.000000  11049.000000  "
                        ]
                    },
                    "execution_count": 4,
                    "metadata": {},
                    "output_type": "execute_result"
                }
            ],
            "source": [
                "ca_arrests_2009.describe()"
            ]
        },
        {
            "cell_type": "markdown",
            "metadata": {},
            "source": [
                "><span style=\"color: #9370DB\">*When looking at our database of county-level data on arrests from California in 2009, we see that this database has 10 columns and 58 records. 9 of its variables are numerical (int64), and 1 variable is represented by a string, the county name.*</span>"
            ]
        },
        {
            "cell_type": "markdown",
            "metadata": {},
            "source": [
                "### Exercise 3\n",
                "Figuring out what county has the most violent arrests isn't very meaningful if we don't normalize for size. A county with 10 people and 10 arrests for violent crimes is obviously worse than a county with 1,000,000 people an 11 arrests for violent crime. \n",
                "\n",
                "To address this, also import `nhgis_county_populations.csv` from [the directory we're working from](https://github.com/nickeubank/practicaldatascience/tree/master/Example_Data/ca)."
            ]
        },
        {
            "cell_type": "code",
            "execution_count": 5,
            "metadata": {},
            "outputs": [
                {
                    "data": {
                        "text/html": [
                            "<div>\n",
                            "<style scoped>\n",
                            "    .dataframe tbody tr th:only-of-type {\n",
                            "        vertical-align: middle;\n",
                            "    }\n",
                            "\n",
                            "    .dataframe tbody tr th {\n",
                            "        vertical-align: top;\n",
                            "    }\n",
                            "\n",
                            "    .dataframe thead th {\n",
                            "        text-align: right;\n",
                            "    }\n",
                            "</style>\n",
                            "<table border=\"1\" class=\"dataframe\">\n",
                            "  <thead>\n",
                            "    <tr style=\"text-align: right;\">\n",
                            "      <th></th>\n",
                            "      <th>Unnamed: 0</th>\n",
                            "      <th>YEAR</th>\n",
                            "      <th>STATE</th>\n",
                            "      <th>COUNTY</th>\n",
                            "      <th>total_population</th>\n",
                            "    </tr>\n",
                            "  </thead>\n",
                            "  <tbody>\n",
                            "    <tr>\n",
                            "      <th>4222</th>\n",
                            "      <td>1001</td>\n",
                            "      <td>2013-2017</td>\n",
                            "      <td>Kentucky</td>\n",
                            "      <td>Bourbon County</td>\n",
                            "      <td>20017</td>\n",
                            "    </tr>\n",
                            "    <tr>\n",
                            "      <th>2657</th>\n",
                            "      <td>2657</td>\n",
                            "      <td>2005-2009</td>\n",
                            "      <td>Texas</td>\n",
                            "      <td>King County</td>\n",
                            "      <td>233</td>\n",
                            "    </tr>\n",
                            "    <tr>\n",
                            "      <th>4801</th>\n",
                            "      <td>1580</td>\n",
                            "      <td>2013-2017</td>\n",
                            "      <td>Missouri</td>\n",
                            "      <td>Schuyler County</td>\n",
                            "      <td>4450</td>\n",
                            "    </tr>\n",
                            "    <tr>\n",
                            "      <th>375</th>\n",
                            "      <td>375</td>\n",
                            "      <td>2005-2009</td>\n",
                            "      <td>Florida</td>\n",
                            "      <td>St. Lucie County</td>\n",
                            "      <td>255984</td>\n",
                            "    </tr>\n",
                            "    <tr>\n",
                            "      <th>2138</th>\n",
                            "      <td>2138</td>\n",
                            "      <td>2005-2009</td>\n",
                            "      <td>Oklahoma</td>\n",
                            "      <td>Caddo County</td>\n",
                            "      <td>29505</td>\n",
                            "    </tr>\n",
                            "  </tbody>\n",
                            "</table>\n",
                            "</div>"
                        ],
                        "text/plain": [
                            "      Unnamed: 0       YEAR     STATE            COUNTY  total_population\n",
                            "4222        1001  2013-2017  Kentucky    Bourbon County             20017\n",
                            "2657        2657  2005-2009     Texas       King County               233\n",
                            "4801        1580  2013-2017  Missouri   Schuyler County              4450\n",
                            "375          375  2005-2009   Florida  St. Lucie County            255984\n",
                            "2138        2138  2005-2009  Oklahoma      Caddo County             29505"
                        ]
                    },
                    "execution_count": 5,
                    "metadata": {},
                    "output_type": "execute_result"
                }
            ],
            "source": [
                "nhgis_county_populations = pd.read_csv(\n",
                "    \"https://raw.githubusercontent.com/nickeubank/practicaldatascience/master\"\n",
                "    \"/Example_Data/ca/nhgis_county_populations.csv\"\n",
                ")\n",
                "nhgis_county_populations.sample(5)"
            ]
        },
        {
            "cell_type": "markdown",
            "metadata": {},
            "source": [
                "### Exercise 4\n",
                "Use your data exploration skills to get used to this data, and figure out how it relates to your 2009 arrest data. "
            ]
        },
        {
            "cell_type": "code",
            "execution_count": 6,
            "metadata": {},
            "outputs": [
                {
                    "data": {
                        "text/plain": [
                            "YEAR\n",
                            "2005-2009    58\n",
                            "2013-2017    58\n",
                            "Name: count, dtype: int64"
                        ]
                    },
                    "execution_count": 6,
                    "metadata": {},
                    "output_type": "execute_result"
                }
            ],
            "source": [
                "nhgis_county_populations[nhgis_county_populations[\"STATE\"] == \"California\"][\n",
                "    \"YEAR\"\n",
                "].value_counts()"
            ]
        },
        {
            "cell_type": "markdown",
            "metadata": {},
            "source": [
                "><span style=\"color: #9370DB\">*If we filter by the state of California, we can see that we also have information for 58 counties. This information is available for the periods 2005-2009 and 2013-2017. In order to merge this information with our ca_arrests_2009 database, we will filter nhgis_county_populations by the state of California and the year 2005-2009, and then we will use the county name as the key for the join.*</span>"
            ]
        },
        {
            "cell_type": "code",
            "execution_count": 7,
            "metadata": {},
            "outputs": [
                {
                    "data": {
                        "text/html": [
                            "<div>\n",
                            "<style scoped>\n",
                            "    .dataframe tbody tr th:only-of-type {\n",
                            "        vertical-align: middle;\n",
                            "    }\n",
                            "\n",
                            "    .dataframe tbody tr th {\n",
                            "        vertical-align: top;\n",
                            "    }\n",
                            "\n",
                            "    .dataframe thead th {\n",
                            "        text-align: right;\n",
                            "    }\n",
                            "</style>\n",
                            "<table border=\"1\" class=\"dataframe\">\n",
                            "  <thead>\n",
                            "    <tr style=\"text-align: right;\">\n",
                            "      <th></th>\n",
                            "      <th>Unnamed: 0</th>\n",
                            "      <th>YEAR</th>\n",
                            "      <th>STATE</th>\n",
                            "      <th>COUNTY</th>\n",
                            "      <th>total_population</th>\n",
                            "    </tr>\n",
                            "  </thead>\n",
                            "  <tbody>\n",
                            "    <tr>\n",
                            "      <th>205</th>\n",
                            "      <td>205</td>\n",
                            "      <td>2005-2009</td>\n",
                            "      <td>California</td>\n",
                            "      <td>Madera County</td>\n",
                            "      <td>144794</td>\n",
                            "    </tr>\n",
                            "    <tr>\n",
                            "      <th>207</th>\n",
                            "      <td>207</td>\n",
                            "      <td>2005-2009</td>\n",
                            "      <td>California</td>\n",
                            "      <td>Mariposa County</td>\n",
                            "      <td>17865</td>\n",
                            "    </tr>\n",
                            "    <tr>\n",
                            "      <th>195</th>\n",
                            "      <td>195</td>\n",
                            "      <td>2005-2009</td>\n",
                            "      <td>California</td>\n",
                            "      <td>Fresno County</td>\n",
                            "      <td>890750</td>\n",
                            "    </tr>\n",
                            "    <tr>\n",
                            "      <th>203</th>\n",
                            "      <td>203</td>\n",
                            "      <td>2005-2009</td>\n",
                            "      <td>California</td>\n",
                            "      <td>Lassen County</td>\n",
                            "      <td>34428</td>\n",
                            "    </tr>\n",
                            "    <tr>\n",
                            "      <th>240</th>\n",
                            "      <td>240</td>\n",
                            "      <td>2005-2009</td>\n",
                            "      <td>California</td>\n",
                            "      <td>Tuolumne County</td>\n",
                            "      <td>55761</td>\n",
                            "    </tr>\n",
                            "  </tbody>\n",
                            "</table>\n",
                            "</div>"
                        ],
                        "text/plain": [
                            "     Unnamed: 0       YEAR       STATE           COUNTY  total_population\n",
                            "205         205  2005-2009  California    Madera County            144794\n",
                            "207         207  2005-2009  California  Mariposa County             17865\n",
                            "195         195  2005-2009  California    Fresno County            890750\n",
                            "203         203  2005-2009  California    Lassen County             34428\n",
                            "240         240  2005-2009  California  Tuolumne County             55761"
                        ]
                    },
                    "execution_count": 7,
                    "metadata": {},
                    "output_type": "execute_result"
                }
            ],
            "source": [
                "nhgis_county_populations_ca_2005_2009 = nhgis_county_populations[\n",
                "    (nhgis_county_populations[\"STATE\"] == \"California\")\n",
                "    & (nhgis_county_populations[\"YEAR\"] == \"2005-2009\")\n",
                "]\n",
                "\n",
                "nhgis_county_populations_ca_2005_2009.sample(5)"
            ]
        },
        {
            "cell_type": "markdown",
            "metadata": {},
            "source": [
                "### Exercise 5\n",
                "\n",
                "Once you feel like you have a good sense of the relation between our arrest and population data, merge the two datasets."
            ]
        },
        {
            "cell_type": "code",
            "execution_count": 8,
            "metadata": {},
            "outputs": [
                {
                    "data": {
                        "text/html": [
                            "<div>\n",
                            "<style scoped>\n",
                            "    .dataframe tbody tr th:only-of-type {\n",
                            "        vertical-align: middle;\n",
                            "    }\n",
                            "\n",
                            "    .dataframe tbody tr th {\n",
                            "        vertical-align: top;\n",
                            "    }\n",
                            "\n",
                            "    .dataframe thead th {\n",
                            "        text-align: right;\n",
                            "    }\n",
                            "</style>\n",
                            "<table border=\"1\" class=\"dataframe\">\n",
                            "  <thead>\n",
                            "    <tr style=\"text-align: right;\">\n",
                            "      <th></th>\n",
                            "      <th>Unnamed: 0_x</th>\n",
                            "      <th>COUNTY</th>\n",
                            "      <th>VIOLENT</th>\n",
                            "      <th>PROPERTY</th>\n",
                            "      <th>F_DRUGOFF</th>\n",
                            "      <th>F_SEXOFF</th>\n",
                            "      <th>F_ALLOTHER</th>\n",
                            "      <th>F_TOTAL</th>\n",
                            "      <th>M_TOTAL</th>\n",
                            "      <th>S_TOTAL</th>\n",
                            "      <th>Unnamed: 0_y</th>\n",
                            "      <th>YEAR</th>\n",
                            "      <th>STATE</th>\n",
                            "      <th>total_population</th>\n",
                            "    </tr>\n",
                            "  </thead>\n",
                            "  <tbody>\n",
                            "    <tr>\n",
                            "      <th>46</th>\n",
                            "      <td>1728</td>\n",
                            "      <td>Siskiyou County</td>\n",
                            "      <td>189</td>\n",
                            "      <td>145</td>\n",
                            "      <td>180</td>\n",
                            "      <td>9</td>\n",
                            "      <td>163</td>\n",
                            "      <td>686</td>\n",
                            "      <td>1786</td>\n",
                            "      <td>8</td>\n",
                            "      <td>232.0</td>\n",
                            "      <td>2005-2009</td>\n",
                            "      <td>California</td>\n",
                            "      <td>44404.0</td>\n",
                            "    </tr>\n",
                            "    <tr>\n",
                            "      <th>34</th>\n",
                            "      <td>1716</td>\n",
                            "      <td>San Benito County</td>\n",
                            "      <td>209</td>\n",
                            "      <td>140</td>\n",
                            "      <td>111</td>\n",
                            "      <td>20</td>\n",
                            "      <td>141</td>\n",
                            "      <td>621</td>\n",
                            "      <td>1460</td>\n",
                            "      <td>27</td>\n",
                            "      <td>220.0</td>\n",
                            "      <td>2005-2009</td>\n",
                            "      <td>California</td>\n",
                            "      <td>54752.0</td>\n",
                            "    </tr>\n",
                            "    <tr>\n",
                            "      <th>0</th>\n",
                            "      <td>1682</td>\n",
                            "      <td>Alameda County</td>\n",
                            "      <td>4318</td>\n",
                            "      <td>4640</td>\n",
                            "      <td>5749</td>\n",
                            "      <td>260</td>\n",
                            "      <td>3502</td>\n",
                            "      <td>18469</td>\n",
                            "      <td>37247</td>\n",
                            "      <td>431</td>\n",
                            "      <td>186.0</td>\n",
                            "      <td>2005-2009</td>\n",
                            "      <td>California</td>\n",
                            "      <td>1457095.0</td>\n",
                            "    </tr>\n",
                            "    <tr>\n",
                            "      <th>9</th>\n",
                            "      <td>1691</td>\n",
                            "      <td>Fresno County</td>\n",
                            "      <td>4377</td>\n",
                            "      <td>3514</td>\n",
                            "      <td>3508</td>\n",
                            "      <td>305</td>\n",
                            "      <td>3253</td>\n",
                            "      <td>14957</td>\n",
                            "      <td>31710</td>\n",
                            "      <td>377</td>\n",
                            "      <td>195.0</td>\n",
                            "      <td>2005-2009</td>\n",
                            "      <td>California</td>\n",
                            "      <td>890750.0</td>\n",
                            "    </tr>\n",
                            "    <tr>\n",
                            "      <th>40</th>\n",
                            "      <td>1722</td>\n",
                            "      <td>San Mateo County</td>\n",
                            "      <td>1446</td>\n",
                            "      <td>1527</td>\n",
                            "      <td>1487</td>\n",
                            "      <td>97</td>\n",
                            "      <td>935</td>\n",
                            "      <td>5492</td>\n",
                            "      <td>13119</td>\n",
                            "      <td>520</td>\n",
                            "      <td>226.0</td>\n",
                            "      <td>2005-2009</td>\n",
                            "      <td>California</td>\n",
                            "      <td>701886.0</td>\n",
                            "    </tr>\n",
                            "  </tbody>\n",
                            "</table>\n",
                            "</div>"
                        ],
                        "text/plain": [
                            "    Unnamed: 0_x             COUNTY  VIOLENT  PROPERTY  F_DRUGOFF  F_SEXOFF  \\\n",
                            "46          1728    Siskiyou County      189       145        180         9   \n",
                            "34          1716  San Benito County      209       140        111        20   \n",
                            "0           1682     Alameda County     4318      4640       5749       260   \n",
                            "9           1691      Fresno County     4377      3514       3508       305   \n",
                            "40          1722   San Mateo County     1446      1527       1487        97   \n",
                            "\n",
                            "    F_ALLOTHER  F_TOTAL  M_TOTAL  S_TOTAL  Unnamed: 0_y       YEAR  \\\n",
                            "46         163      686     1786        8         232.0  2005-2009   \n",
                            "34         141      621     1460       27         220.0  2005-2009   \n",
                            "0         3502    18469    37247      431         186.0  2005-2009   \n",
                            "9         3253    14957    31710      377         195.0  2005-2009   \n",
                            "40         935     5492    13119      520         226.0  2005-2009   \n",
                            "\n",
                            "         STATE  total_population  \n",
                            "46  California           44404.0  \n",
                            "34  California           54752.0  \n",
                            "0   California         1457095.0  \n",
                            "9   California          890750.0  \n",
                            "40  California          701886.0  "
                        ]
                    },
                    "execution_count": 8,
                    "metadata": {},
                    "output_type": "execute_result"
                }
            ],
            "source": [
                "ca_arrests_2009_whith_population = pd.merge(\n",
                "    ca_arrests_2009, nhgis_county_populations_ca_2005_2009, how=\"left\", on=\"COUNTY\"\n",
                ")\n",
                "ca_arrests_2009_whith_population.sample(5)"
            ]
        },
        {
            "cell_type": "markdown",
            "metadata": {},
            "source": [
                "### Exercise 6\n",
                "\n",
                "When merging data, the result will only be meaningful if your understanding of how the data sets you are merging relate to one another are correct. In some ways, this is obvious — for example, if the variable(s) that you are using to merge observations in the two datasets or to actually identifying observations that should be linked, then obviously merging using those variables will create a meaningless new dataset.\n",
                "\n",
                "But other properties that matter are often more subtle. For example, it's important to figure out whether your merge is a `1-to-1` merge (meaning there is only one observation of the variable you're merging on in both datasets), a `1-to-many` merge (meaning there is only one observation of the variable you're merging on in the first dataset, but multiple observations in the second), or a `many-to-many` merge (something you almost never do). \n",
                "\n",
                "Being correct in your assumptions about these things is *very* important. If you think there's only one observation per value of your merging variable in each dataset, but there are in fact 2, you'll end up with two observations for each value after the merge. Moreover, not only is the structure of your data now a mess, but the fact you were wrong means you didn't understand something about your data. \n",
                "\n",
                "So before running a merge, it is critical to answer the following questions:\n",
                "\n",
                "a) What variable(s) do you think will be consistent across these two datasets you can use for merging? \n",
                "\n",
                "b) Do you think there will be exactly 1 observation for each value of this variable(s) in your arrest data?\n",
                "\n",
                "c) Do you think there will be exactly 1 observation for each value of this variable(s) in your population data?\n",
                "\n",
                "So in markdown, answer these three questions for this data.\n",
                "\n",
                "\n",
                "Then also specify the type of merge you were hoping to accomplish as one of the following strings — `\"one-to-one\"`, `\"one-to-many\"`, `\"many-to-one\"`, or `\"many-to-many\"` — in your `results` dictionary under the key `\"ex6_validate_keyword\"`. Assume that the first dataset we are talking about (e.g., the `one` in `one-to-many`, if that were your selection) is your arrests data and the second dataset (e.g., the `many` in `one-to-many`, if that were your selection)."
            ]
        },
        {
            "cell_type": "markdown",
            "metadata": {},
            "source": [
                "><span style=\"color: #9370DB\">a) What variable(s) do you think will be consistent across these two datasets you can use for merging?</span>\n",
                ">\n",
                "><span style=\"color: #9370DB\">*As mentioned in the previous question, the variable that is consistent and would allow merging both datasets is 'COUNTY.*</span>\n",
                ">\n",
                "><span style=\"color: #9370DB\">b) Do you think there will be exactly 1 observation for each value of this variable(s) in your arrest data?</span>\n",
                ">\n",
                "><span style=\"color: #9370DB\">*While exploring our arrest dataset before, we found that there is one record for each county in our arrest dataset.*</span>\n",
                ">\n",
                "><span style=\"color: #9370DB\">c) Do you think there will be exactly 1 observation for each value of this variable(s) in your population data?</span>\n",
                ">\n",
                "><span style=\"color: #9370DB\">*As we observed earlier, in our population data dataset, we have 2 observations for each county (in addition to having information for all states). However, our goal, to facilitate calculations, is to work with 1-to-1 data. For this purpose, the dataset was filtered for California and the period 2005-2009.\"*</span>"
            ]
        },
        {
            "cell_type": "code",
            "execution_count": 9,
            "metadata": {},
            "outputs": [],
            "source": [
                "results = dict()\n",
                "results[\"ex6_validate_keyword\"] = \"one-to-one\""
            ]
        },
        {
            "cell_type": "markdown",
            "metadata": {},
            "source": [
                "## Merge Validation\n",
                "\n",
                "Because of the importance of answering these questions accurately, `pandas` provides a utility for *validating* these assumptions when you do a merge: the `validate` keyword! Validate will accept `\"1:1\"`, `\"1:m\"`, `\"m:1\"`, and `\"m:m\"`. It will then check to make sure your merge matches the type of merge you think it is. I *highly* recommend always using this option (...and not just because I'm the one who added `validate` to pandas).\n",
                "\n",
                "*Note:* `validate` only actually tests if observations are unique when a `1` is specified; if you do a `1:1` merge but pass `validate=\"1:m\"`, `validate=\"m:1\"`, or `validate=\"m:m\"`, you won't get an error — a one-to-many merge that turns out to be a one-to-one isn't nearly as dangerous as a one-to-one merge that turns out to be one-to-many.\n",
                "\n",
                "### Exercise 7\n",
                "\n",
                "Repeat the merge you conducted above, but this time use the `validate` to make sure your assumptions about the data were correct. If you find that you made a mistake, revise your data until the merge you think is correct actually takes place.\n",
                "\n",
                "To aid the autograder, please make sure to comment out any code that generates an error."
            ]
        },
        {
            "cell_type": "code",
            "execution_count": 10,
            "metadata": {},
            "outputs": [],
            "source": [
                "ca_arrests_2009_whith_population = pd.merge(\n",
                "    ca_arrests_2009,\n",
                "    nhgis_county_populations_ca_2005_2009,\n",
                "    how=\"left\",\n",
                "    on=\"COUNTY\",\n",
                "    validate=\"1:1\",\n",
                ")"
            ]
        },
        {
            "cell_type": "markdown",
            "metadata": {},
            "source": [
                "><span style=\"color: #9370DB\">*Since we had previously filtered our dataset nhgis_county_populations for the state of California and the period 2005-2009, when performing the merge, if we obtain a 1:1 match*</span>\n"
            ]
        },
        {
            "cell_type": "markdown",
            "metadata": {},
            "source": [
                "### Exercise 8\n",
                "\n",
                "Were your assumptions about the data correct? If not, what had you (implicitly) assumed when you did your merge in Exercise 5 that turned out not to be correct?"
            ]
        },
        {
            "cell_type": "markdown",
            "metadata": {},
            "source": [
                "><span style=\"color: #9370DB\">*It is important to validate the data before merging two datasets since one-to-many merges can lead to unexpected results. Since the data had been inspected and then filtered by state and period, we did not encounter that issue.*</span>"
            ]
        },
        {
            "cell_type": "markdown",
            "metadata": {},
            "source": [
                "## Merge Diagnostics\n",
                "\n",
                "### Exercise 9\n",
                "\n",
                "Checking whether you are doing a 1-to-1, many-to-1, 1-to-many, or many-to-many merge is only the first type of diagnostic test you should run on *every* merge you conduct. The second test is to see if you data merged successfully!\n",
                "\n",
                "To help with this, the `merge` function in pandas offers a keyword option called `indicator`. If you set `indicator` to `True`, then pandas will add a column to the result of your merge called `_merge`. This variable will tell you, for each observation in your merged data, whether: \n",
                "\n",
                "- that observation came from a successful merge of both datasets, \n",
                "- if that observation was in the left dataset (the first one you passed) but not the right dataset (the second one you passed), or \n",
                "- if that observation was in the right dataset but not the left. \n",
                "\n",
                "This allows you to quickly identify failed merges!\n",
                "\n",
                "For example, suppose you had the following data:"
            ]
        },
        {
            "cell_type": "code",
            "execution_count": 11,
            "metadata": {},
            "outputs": [
                {
                    "data": {
                        "text/html": [
                            "<div>\n",
                            "<style scoped>\n",
                            "    .dataframe tbody tr th:only-of-type {\n",
                            "        vertical-align: middle;\n",
                            "    }\n",
                            "\n",
                            "    .dataframe tbody tr th {\n",
                            "        vertical-align: top;\n",
                            "    }\n",
                            "\n",
                            "    .dataframe thead th {\n",
                            "        text-align: right;\n",
                            "    }\n",
                            "</style>\n",
                            "<table border=\"1\" class=\"dataframe\">\n",
                            "  <thead>\n",
                            "    <tr style=\"text-align: right;\">\n",
                            "      <th></th>\n",
                            "      <th>key</th>\n",
                            "      <th>df1_var</th>\n",
                            "    </tr>\n",
                            "  </thead>\n",
                            "  <tbody>\n",
                            "    <tr>\n",
                            "      <th>0</th>\n",
                            "      <td>key1</td>\n",
                            "      <td>1</td>\n",
                            "    </tr>\n",
                            "    <tr>\n",
                            "      <th>1</th>\n",
                            "      <td>key2</td>\n",
                            "      <td>2</td>\n",
                            "    </tr>\n",
                            "  </tbody>\n",
                            "</table>\n",
                            "</div>"
                        ],
                        "text/plain": [
                            "    key  df1_var\n",
                            "0  key1        1\n",
                            "1  key2        2"
                        ]
                    },
                    "execution_count": 11,
                    "metadata": {},
                    "output_type": "execute_result"
                }
            ],
            "source": [
                "import pandas as pd\n",
                "import numpy as np\n",
                "\n",
                "pd.set_option(\"mode.copy_on_write\", True)\n",
                "\n",
                "df1 = pd.DataFrame({\"key\": [\"key1\", \"key2\"], \"df1_var\": [1, 2]})\n",
                "df1"
            ]
        },
        {
            "cell_type": "code",
            "execution_count": 12,
            "metadata": {},
            "outputs": [
                {
                    "data": {
                        "text/html": [
                            "<div>\n",
                            "<style scoped>\n",
                            "    .dataframe tbody tr th:only-of-type {\n",
                            "        vertical-align: middle;\n",
                            "    }\n",
                            "\n",
                            "    .dataframe tbody tr th {\n",
                            "        vertical-align: top;\n",
                            "    }\n",
                            "\n",
                            "    .dataframe thead th {\n",
                            "        text-align: right;\n",
                            "    }\n",
                            "</style>\n",
                            "<table border=\"1\" class=\"dataframe\">\n",
                            "  <thead>\n",
                            "    <tr style=\"text-align: right;\">\n",
                            "      <th></th>\n",
                            "      <th>key</th>\n",
                            "      <th>df2_var</th>\n",
                            "    </tr>\n",
                            "  </thead>\n",
                            "  <tbody>\n",
                            "    <tr>\n",
                            "      <th>0</th>\n",
                            "      <td>key1</td>\n",
                            "      <td>a</td>\n",
                            "    </tr>\n",
                            "    <tr>\n",
                            "      <th>1</th>\n",
                            "      <td>Key2</td>\n",
                            "      <td>b</td>\n",
                            "    </tr>\n",
                            "  </tbody>\n",
                            "</table>\n",
                            "</div>"
                        ],
                        "text/plain": [
                            "    key df2_var\n",
                            "0  key1       a\n",
                            "1  Key2       b"
                        ]
                    },
                    "execution_count": 12,
                    "metadata": {},
                    "output_type": "execute_result"
                }
            ],
            "source": [
                "df2 = pd.DataFrame({\"key\": [\"key1\", \"Key2\"], \"df2_var\": [\"a\", \"b\"]})\n",
                "df2"
            ]
        },
        {
            "cell_type": "markdown",
            "metadata": {},
            "source": [
                "Now suppose you *expected* that all observations should merge when you merge these datasets (because you hadn't noticed the typo in `df2` where `key2` has a capital `Key2`. If you just run a merge, it works without any problems:"
            ]
        },
        {
            "cell_type": "code",
            "execution_count": 13,
            "metadata": {},
            "outputs": [],
            "source": [
                "new_data = pd.merge(df1, df2, on=\"key\", how=\"outer\")"
            ]
        },
        {
            "cell_type": "markdown",
            "metadata": {},
            "source": [
                "And so you might carry on in life unaware your data is now corrupted: instead of two merged rows, you now have 3, only 1 of which merged correctly!"
            ]
        },
        {
            "cell_type": "code",
            "execution_count": 14,
            "metadata": {},
            "outputs": [
                {
                    "data": {
                        "text/html": [
                            "<div>\n",
                            "<style scoped>\n",
                            "    .dataframe tbody tr th:only-of-type {\n",
                            "        vertical-align: middle;\n",
                            "    }\n",
                            "\n",
                            "    .dataframe tbody tr th {\n",
                            "        vertical-align: top;\n",
                            "    }\n",
                            "\n",
                            "    .dataframe thead th {\n",
                            "        text-align: right;\n",
                            "    }\n",
                            "</style>\n",
                            "<table border=\"1\" class=\"dataframe\">\n",
                            "  <thead>\n",
                            "    <tr style=\"text-align: right;\">\n",
                            "      <th></th>\n",
                            "      <th>key</th>\n",
                            "      <th>df1_var</th>\n",
                            "      <th>df2_var</th>\n",
                            "    </tr>\n",
                            "  </thead>\n",
                            "  <tbody>\n",
                            "    <tr>\n",
                            "      <th>0</th>\n",
                            "      <td>key1</td>\n",
                            "      <td>1.0</td>\n",
                            "      <td>a</td>\n",
                            "    </tr>\n",
                            "    <tr>\n",
                            "      <th>1</th>\n",
                            "      <td>key2</td>\n",
                            "      <td>2.0</td>\n",
                            "      <td>NaN</td>\n",
                            "    </tr>\n",
                            "    <tr>\n",
                            "      <th>2</th>\n",
                            "      <td>Key2</td>\n",
                            "      <td>NaN</td>\n",
                            "      <td>b</td>\n",
                            "    </tr>\n",
                            "  </tbody>\n",
                            "</table>\n",
                            "</div>"
                        ],
                        "text/plain": [
                            "    key  df1_var df2_var\n",
                            "0  key1      1.0       a\n",
                            "1  key2      2.0     NaN\n",
                            "2  Key2      NaN       b"
                        ]
                    },
                    "execution_count": 14,
                    "metadata": {},
                    "output_type": "execute_result"
                }
            ],
            "source": [
                "new_data"
            ]
        },
        {
            "cell_type": "markdown",
            "metadata": {},
            "source": [
                "When what you really wanted was: "
            ]
        },
        {
            "cell_type": "code",
            "execution_count": 15,
            "metadata": {},
            "outputs": [
                {
                    "data": {
                        "text/html": [
                            "<div>\n",
                            "<style scoped>\n",
                            "    .dataframe tbody tr th:only-of-type {\n",
                            "        vertical-align: middle;\n",
                            "    }\n",
                            "\n",
                            "    .dataframe tbody tr th {\n",
                            "        vertical-align: top;\n",
                            "    }\n",
                            "\n",
                            "    .dataframe thead th {\n",
                            "        text-align: right;\n",
                            "    }\n",
                            "</style>\n",
                            "<table border=\"1\" class=\"dataframe\">\n",
                            "  <thead>\n",
                            "    <tr style=\"text-align: right;\">\n",
                            "      <th></th>\n",
                            "      <th>key</th>\n",
                            "      <th>df1_var</th>\n",
                            "      <th>df2_var</th>\n",
                            "    </tr>\n",
                            "  </thead>\n",
                            "  <tbody>\n",
                            "    <tr>\n",
                            "      <th>0</th>\n",
                            "      <td>key1</td>\n",
                            "      <td>1</td>\n",
                            "      <td>a</td>\n",
                            "    </tr>\n",
                            "    <tr>\n",
                            "      <th>1</th>\n",
                            "      <td>key2</td>\n",
                            "      <td>2</td>\n",
                            "      <td>b</td>\n",
                            "    </tr>\n",
                            "  </tbody>\n",
                            "</table>\n",
                            "</div>"
                        ],
                        "text/plain": [
                            "    key  df1_var df2_var\n",
                            "0  key1        1       a\n",
                            "1  key2        2       b"
                        ]
                    },
                    "execution_count": 15,
                    "metadata": {},
                    "output_type": "execute_result"
                }
            ],
            "source": [
                "df2_correct = df2.copy()\n",
                "df2_correct.loc[df2.key == \"Key2\", \"key\"] = \"key2\"\n",
                "pd.merge(df1, df2_correct, on=\"key\", how=\"outer\")"
            ]
        },
        {
            "cell_type": "markdown",
            "metadata": {},
            "source": [
                "(in a small dataset, you'd quickly see you have 1 row instead of 2, but if you have millions of rows, a couple missing won't be evident). \n",
                "\n",
                "But now suppose we use the `indicator` function:"
            ]
        },
        {
            "cell_type": "code",
            "execution_count": 16,
            "metadata": {},
            "outputs": [
                {
                    "data": {
                        "text/plain": [
                            "_merge\n",
                            "left_only     1\n",
                            "right_only    1\n",
                            "both          1\n",
                            "Name: count, dtype: int64"
                        ]
                    },
                    "execution_count": 16,
                    "metadata": {},
                    "output_type": "execute_result"
                }
            ],
            "source": [
                "new_data = pd.merge(df1, df2, on=\"key\", how=\"outer\", indicator=True)\n",
                "new_data._merge.value_counts()"
            ]
        },
        {
            "cell_type": "markdown",
            "metadata": {},
            "source": [
                "We could immediately see that only one observation merged correct, and that one row from each dataset failed to merge!\n",
                "\n",
                "Moreover, we can look at the failed merges:"
            ]
        },
        {
            "cell_type": "code",
            "execution_count": 17,
            "metadata": {},
            "outputs": [
                {
                    "data": {
                        "text/html": [
                            "<div>\n",
                            "<style scoped>\n",
                            "    .dataframe tbody tr th:only-of-type {\n",
                            "        vertical-align: middle;\n",
                            "    }\n",
                            "\n",
                            "    .dataframe tbody tr th {\n",
                            "        vertical-align: top;\n",
                            "    }\n",
                            "\n",
                            "    .dataframe thead th {\n",
                            "        text-align: right;\n",
                            "    }\n",
                            "</style>\n",
                            "<table border=\"1\" class=\"dataframe\">\n",
                            "  <thead>\n",
                            "    <tr style=\"text-align: right;\">\n",
                            "      <th></th>\n",
                            "      <th>key</th>\n",
                            "      <th>df1_var</th>\n",
                            "      <th>df2_var</th>\n",
                            "      <th>_merge</th>\n",
                            "    </tr>\n",
                            "  </thead>\n",
                            "  <tbody>\n",
                            "    <tr>\n",
                            "      <th>1</th>\n",
                            "      <td>key2</td>\n",
                            "      <td>2.0</td>\n",
                            "      <td>NaN</td>\n",
                            "      <td>left_only</td>\n",
                            "    </tr>\n",
                            "    <tr>\n",
                            "      <th>2</th>\n",
                            "      <td>Key2</td>\n",
                            "      <td>NaN</td>\n",
                            "      <td>b</td>\n",
                            "      <td>right_only</td>\n",
                            "    </tr>\n",
                            "  </tbody>\n",
                            "</table>\n",
                            "</div>"
                        ],
                        "text/plain": [
                            "    key  df1_var df2_var      _merge\n",
                            "1  key2      2.0     NaN   left_only\n",
                            "2  Key2      NaN       b  right_only"
                        ]
                    },
                    "execution_count": 17,
                    "metadata": {},
                    "output_type": "execute_result"
                }
            ],
            "source": [
                "new_data[new_data._merge != \"both\"]"
            ]
        },
        {
            "cell_type": "markdown",
            "metadata": {},
            "source": [
                "Allowing us to easily diagnose the problem. \n",
                "\n",
                "**Note:** The `pandas` merge function allows users to decide whether to keep only observations that merge (`how='inner'`), all the observations from the first dataset pasted to merge (`how='left'`), all the observations from the second dataset passed to merge (`how='right'`), or all observations (`how='outer'`):\n",
                "\n",
                "![join_types](https://nickeubank.github.io/practicaldatascience_book/_images/3.4.15_merge_types.png)\n",
                "\n",
                "But one danger to using the more restrictive options (like the default, `how='inner'`) is that the merge throws away all the observations that fail to merge, and while this may be the *eventual* goal of your analysis, it means that you don't get to see all the observations that failed to merge that maybe you thought *would* merge. In other words, it throws away the errors so you can't look at them!  \n",
                "\n",
                "So to use `indicator` effectively, you have to:\n",
                "\n",
                "- Not use `how=\"inner\"`, and\n",
                "- Check the values of `_merge` after your merge. "
            ]
        },
        {
            "cell_type": "markdown",
            "metadata": {},
            "source": [
                "### Exercise 10\n",
                "\n",
                "Now repeat your previous merge using *both* the `validate` keyword *and* the `indicator` keyword with `how='outer'`. \n",
                "\n",
                "How many observations successfully merged (were in both datasets)? Store the result in `results` under the key `\"ex10_merged_successfully\"`."
            ]
        },
        {
            "cell_type": "code",
            "execution_count": 18,
            "metadata": {},
            "outputs": [
                {
                    "data": {
                        "text/plain": [
                            "_merge\n",
                            "both          56\n",
                            "left_only      2\n",
                            "right_only     2\n",
                            "Name: count, dtype: int64"
                        ]
                    },
                    "execution_count": 18,
                    "metadata": {},
                    "output_type": "execute_result"
                }
            ],
            "source": [
                "ca_arrests_2009_whith_population = pd.merge(\n",
                "    ca_arrests_2009,\n",
                "    nhgis_county_populations_ca_2005_2009,\n",
                "    how=\"outer\",\n",
                "    on=\"COUNTY\",\n",
                "    validate=\"1:1\",\n",
                "    indicator=True,\n",
                ")\n",
                "\n",
                "ca_arrests_2009_whith_population._merge.value_counts()"
            ]
        },
        {
            "cell_type": "code",
            "execution_count": 19,
            "metadata": {},
            "outputs": [
                {
                    "data": {
                        "text/html": [
                            "<div>\n",
                            "<style scoped>\n",
                            "    .dataframe tbody tr th:only-of-type {\n",
                            "        vertical-align: middle;\n",
                            "    }\n",
                            "\n",
                            "    .dataframe tbody tr th {\n",
                            "        vertical-align: top;\n",
                            "    }\n",
                            "\n",
                            "    .dataframe thead th {\n",
                            "        text-align: right;\n",
                            "    }\n",
                            "</style>\n",
                            "<table border=\"1\" class=\"dataframe\">\n",
                            "  <thead>\n",
                            "    <tr style=\"text-align: right;\">\n",
                            "      <th></th>\n",
                            "      <th>Unnamed: 0_x</th>\n",
                            "      <th>COUNTY</th>\n",
                            "      <th>VIOLENT</th>\n",
                            "      <th>PROPERTY</th>\n",
                            "      <th>F_DRUGOFF</th>\n",
                            "      <th>F_SEXOFF</th>\n",
                            "      <th>F_ALLOTHER</th>\n",
                            "      <th>F_TOTAL</th>\n",
                            "      <th>M_TOTAL</th>\n",
                            "      <th>S_TOTAL</th>\n",
                            "      <th>Unnamed: 0_y</th>\n",
                            "      <th>YEAR</th>\n",
                            "      <th>STATE</th>\n",
                            "      <th>total_population</th>\n",
                            "      <th>_merge</th>\n",
                            "    </tr>\n",
                            "  </thead>\n",
                            "  <tbody>\n",
                            "    <tr>\n",
                            "      <th>7</th>\n",
                            "      <td>1689.0</td>\n",
                            "      <td>Del Norte County</td>\n",
                            "      <td>144.0</td>\n",
                            "      <td>104.0</td>\n",
                            "      <td>79.0</td>\n",
                            "      <td>13.0</td>\n",
                            "      <td>97.0</td>\n",
                            "      <td>437.0</td>\n",
                            "      <td>1268.0</td>\n",
                            "      <td>5.0</td>\n",
                            "      <td>NaN</td>\n",
                            "      <td>NaN</td>\n",
                            "      <td>NaN</td>\n",
                            "      <td>NaN</td>\n",
                            "      <td>left_only</td>\n",
                            "    </tr>\n",
                            "    <tr>\n",
                            "      <th>13</th>\n",
                            "      <td>1695.0</td>\n",
                            "      <td>Inyo County</td>\n",
                            "      <td>81.0</td>\n",
                            "      <td>44.0</td>\n",
                            "      <td>39.0</td>\n",
                            "      <td>3.0</td>\n",
                            "      <td>38.0</td>\n",
                            "      <td>205.0</td>\n",
                            "      <td>851.0</td>\n",
                            "      <td>1.0</td>\n",
                            "      <td>NaN</td>\n",
                            "      <td>NaN</td>\n",
                            "      <td>NaN</td>\n",
                            "      <td>NaN</td>\n",
                            "      <td>left_only</td>\n",
                            "    </tr>\n",
                            "    <tr>\n",
                            "      <th>58</th>\n",
                            "      <td>NaN</td>\n",
                            "      <td>DelNorte County</td>\n",
                            "      <td>NaN</td>\n",
                            "      <td>NaN</td>\n",
                            "      <td>NaN</td>\n",
                            "      <td>NaN</td>\n",
                            "      <td>NaN</td>\n",
                            "      <td>NaN</td>\n",
                            "      <td>NaN</td>\n",
                            "      <td>NaN</td>\n",
                            "      <td>193.0</td>\n",
                            "      <td>2005-2009</td>\n",
                            "      <td>California</td>\n",
                            "      <td>28729.0</td>\n",
                            "      <td>right_only</td>\n",
                            "    </tr>\n",
                            "    <tr>\n",
                            "      <th>59</th>\n",
                            "      <td>NaN</td>\n",
                            "      <td>Injo County</td>\n",
                            "      <td>NaN</td>\n",
                            "      <td>NaN</td>\n",
                            "      <td>NaN</td>\n",
                            "      <td>NaN</td>\n",
                            "      <td>NaN</td>\n",
                            "      <td>NaN</td>\n",
                            "      <td>NaN</td>\n",
                            "      <td>NaN</td>\n",
                            "      <td>199.0</td>\n",
                            "      <td>2005-2009</td>\n",
                            "      <td>California</td>\n",
                            "      <td>17438.0</td>\n",
                            "      <td>right_only</td>\n",
                            "    </tr>\n",
                            "  </tbody>\n",
                            "</table>\n",
                            "</div>"
                        ],
                        "text/plain": [
                            "    Unnamed: 0_x            COUNTY  VIOLENT  PROPERTY  F_DRUGOFF  F_SEXOFF  \\\n",
                            "7         1689.0  Del Norte County    144.0     104.0       79.0      13.0   \n",
                            "13        1695.0       Inyo County     81.0      44.0       39.0       3.0   \n",
                            "58           NaN   DelNorte County      NaN       NaN        NaN       NaN   \n",
                            "59           NaN       Injo County      NaN       NaN        NaN       NaN   \n",
                            "\n",
                            "    F_ALLOTHER  F_TOTAL  M_TOTAL  S_TOTAL  Unnamed: 0_y       YEAR  \\\n",
                            "7         97.0    437.0   1268.0      5.0           NaN        NaN   \n",
                            "13        38.0    205.0    851.0      1.0           NaN        NaN   \n",
                            "58         NaN      NaN      NaN      NaN         193.0  2005-2009   \n",
                            "59         NaN      NaN      NaN      NaN         199.0  2005-2009   \n",
                            "\n",
                            "         STATE  total_population      _merge  \n",
                            "7          NaN               NaN   left_only  \n",
                            "13         NaN               NaN   left_only  \n",
                            "58  California           28729.0  right_only  \n",
                            "59  California           17438.0  right_only  "
                        ]
                    },
                    "execution_count": 19,
                    "metadata": {},
                    "output_type": "execute_result"
                }
            ],
            "source": [
                "ca_arrests_2009_whith_population[ca_arrests_2009_whith_population._merge != \"both\"]"
            ]
        },
        {
            "cell_type": "code",
            "execution_count": 20,
            "metadata": {},
            "outputs": [
                {
                    "name": "stdout",
                    "output_type": "stream",
                    "text": [
                        "There were 56 observations that successfully merged (were in both datasets)\n"
                    ]
                }
            ],
            "source": [
                "ex10_merged_successfully = ca_arrests_2009_whith_population[\n",
                "    ca_arrests_2009_whith_population._merge == \"both\"\n",
                "].shape[0]\n",
                "results[\"ex10_merged_successfully\"] = ex10_merged_successfully\n",
                "\n",
                "print(\n",
                "    f\"There were {ex10_merged_successfully} observations that successfully merged (were in both datasets)\"\n",
                ")"
            ]
        },
        {
            "cell_type": "markdown",
            "metadata": {},
            "source": [
                "### Exercise 11\n",
                "\n",
                "You *should* be able to get to the point that all counties in our arrest data merge with population data. If that did not happen, can you figure out why that did not happen? Can you fix the data so that all arrest data merges with population data?"
            ]
        },
        {
            "cell_type": "markdown",
            "metadata": {},
            "source": [
                "><span style=\"color: #9370DB\">*While I thought the issues of merging the database had been resolved by considering the filtering by period and state, it turned out that 2 of the counties were spelled differently in both datasets. Therefore, using them as keys when merging the datasets did not result in a merge for these 2 counties.*</span>\n",
                ">\n",
                "><span style=\"color: #9370DB\">*This demonstrates how careful we must be when working with dataset merges, as there are many reasons why errors in our calculations could occur.*</span>\n",
                ">\n",
                "><span style=\"color: #9370DB\">*The `validate`, `indicator`, and `value_counts` functions are useful for diagnosing what is happening with the union of our data.*</span>"
            ]
        },
        {
            "cell_type": "code",
            "execution_count": 22,
            "metadata": {},
            "outputs": [],
            "source": [
                "ca_arrests_2009_whith_population = pd.merge(\n",
                "    ca_arrests_2009,\n",
                "    nhgis_county_populations_ca_2005_2009,\n",
                "    how=\"outer\",\n",
                "    on=\"COUNTY\",\n",
                "    validate=\"1:1\",\n",
                "    indicator=True,\n",
                ")\n",
                "\n",
                "nhgis_county_populations_ca_2005_2009_correct = (\n",
                "    nhgis_county_populations_ca_2005_2009.copy()\n",
                ")\n",
                "nhgis_county_populations_ca_2005_2009_correct[\n",
                "    \"COUNTY\"\n",
                "] = nhgis_county_populations_ca_2005_2009_correct[\"COUNTY\"].replace(\n",
                "    \"DelNorte County\", \"Del Norte County\"\n",
                ")\n",
                "nhgis_county_populations_ca_2005_2009_correct[\n",
                "    \"COUNTY\"\n",
                "] = nhgis_county_populations_ca_2005_2009_correct[\"COUNTY\"].replace(\n",
                "    \"Injo County\", \"Inyo County\"\n",
                ")"
            ]
        },
        {
            "cell_type": "code",
            "execution_count": 24,
            "metadata": {},
            "outputs": [
                {
                    "name": "stdout",
                    "output_type": "stream",
                    "text": [
                        "Now, we validate our new dataset again to see if the corrections are accurate:\n"
                    ]
                },
                {
                    "data": {
                        "text/plain": [
                            "_merge\n",
                            "both          58\n",
                            "left_only      0\n",
                            "right_only     0\n",
                            "Name: count, dtype: int64"
                        ]
                    },
                    "execution_count": 24,
                    "metadata": {},
                    "output_type": "execute_result"
                }
            ],
            "source": [
                "print(\"Now, we validate our new dataset again to see if the corrections are accurate:\")\n",
                "\n",
                "ca_arrests_2009_whith_population = pd.merge(\n",
                "    ca_arrests_2009,\n",
                "    nhgis_county_populations_ca_2005_2009_correct,\n",
                "    how=\"outer\",\n",
                "    on=\"COUNTY\",\n",
                "    validate=\"1:1\",\n",
                "    indicator=True,\n",
                ")\n",
                "\n",
                "ca_arrests_2009_whith_population._merge.value_counts()"
            ]
        },
        {
            "cell_type": "markdown",
            "metadata": {},
            "source": [
                "## Comparing Arrest Rates\n",
                "\n",
                "### Exercise 12\n",
                "\n",
                "Now that we have arrest counts and population data, we can calculate arrest *rates*. For each county, create a new variable called `violent_arrest_rate_2009` that is the number of violent arrests for 2009 divided by the population of the county from 2005-2009, and a similar new variable called `drug_arrest_rate_2009` for drug arrests divided by population."
            ]
        },
        {
            "cell_type": "markdown",
            "metadata": {},
            "source": [
                "### Exercise 13\n",
                "\n",
                "Make a scatter plot that shows the relationship between each county's violent arrest rate and it's drug arrest rate. Since we haven't done a lot with plotting yet, feel free to plot in whatever manner feels most comfortable. The easiest, if you're unsure, is just to use the `pandas` inbuilt `.plot()` method. Just specify the `x` keyword with your x-axis variable, the `y` keyword with your y-axis variable, and use `kind=\"scatter\"`."
            ]
        },
        {
            "cell_type": "markdown",
            "metadata": {},
            "source": [
                "### Exercise 14\n",
                "\n",
                "Based on this simple comparison of 2009 violent arrest rates and drug arrest rates, what might you conclude about the relationship between the illegal drug trade and violent crime?"
            ]
        },
        {
            "cell_type": "markdown",
            "metadata": {},
            "source": [
                "## Comparing with 2018 Arrests\n",
                "\n",
                "The preceding analysis can tell us about whether violent crime and the drug trade are correlated, but it doesn't tell us much about whether they are *causally* related. It *could* be the case that people dealing drugs *cause* more violent crime, but it could also be that certain communities, for some other reason, tend to have *both* more drug sales *and* more violent crime. \n",
                "\n",
                "To help answer this question, let's examine whether violent crime arrest rates changed in response to drug legalization. In particular, let's do this by comparing violent crime arrest rates in 2009 (before drug legalization) to violent crime arrest rates in 2018 (after drug legalization). If the illegal drug trade causes violent crime, then we would expect the violent crime rate to fall in response to drug legalization.\n"
            ]
        },
        {
            "cell_type": "markdown",
            "metadata": {},
            "source": [
                "### Exercise 15\n",
                "\n",
                "Just as we created violent arrest rates and drug arrest rates for 2009, now we want to do it for 2018. Using the data on 2018 arrests (also in the [same repository](https://github.com/nickeubank/practicaldatascience/tree/master/Example_Data/ca) we used before) and the same dataset of population data (you'll have to use population from 2013-2017, as 2018 population data has yet to be released), create a dataset of arrest rates. \n",
                "\n",
                "As before, *be careful with your merges!!!*"
            ]
        },
        {
            "cell_type": "markdown",
            "metadata": {},
            "source": [
                "### Exercise 16\n",
                "\n",
                "Now merge our two county-level datasets so you have one row for every county, and variables for violent arrest rates in 2018, violent arrest rates in 2009, felony drug arrest rates in 2018, and felony drug arrest rates in 2009. Store the number of observations in your final data set in your `results` dictionary under the key `\"ex16_num_obs\"`."
            ]
        },
        {
            "cell_type": "markdown",
            "metadata": {},
            "source": [
                "### Exercise 17\n",
                "\n",
                "Did drug arrests go down from 2009 to 2018 in response to drug legalization? (they sure better! This is what's called a \"sanity check\" of your data and analysis. If you find drug arrests went *up*, you know something went wrong with your code or your understanding of the situations). \n",
                "\n",
                "Store the average county-level change in drug arrests per capita in `results` under the key `\"ex17_drug_change\"`."
            ]
        },
        {
            "cell_type": "markdown",
            "metadata": {},
            "source": [
                "### Exercise 18\n",
                "\n",
                "Now we want to look at whether violent crime decreased following drug legalization. Did the average violent arrest rate decrease? By how much? (Note: We're assuming that arrest rates are proportionate to crime rates. If policing increased so that there were more arrests per crime committed, that would impact our interpretation of these results. But this is just an exercise, so...)\n",
                "\n",
                "Store the average county-level change in violent arrests per capita in `results` under the key `\"ex18_violent_change\"`"
            ]
        },
        {
            "cell_type": "markdown",
            "metadata": {},
            "source": [
                "### Exercise 19\n",
                "\n",
                "Based on your answers to exercises 17 and 18, what might you conclude about the relationship between the illegal drug trade and violent crime? Did legalizing drugs increase violent crime (assuming arrest rates are a good proxy for crime rates)? Decrease violent crime? Have no effect? "
            ]
        },
        {
            "cell_type": "markdown",
            "metadata": {},
            "source": [
                "## Difference in Difference Analysis\n",
                "\n",
                "The preceding analysis is something we sometimes call a \"pre-post\" analysis, in that it is a comparison of how and outcome we care about (violent arrest rates) changes from before a treatment is introduced (\"pre\") to after (\"post\"). BUT: pre-post comparisons are imperfect. If we knew that violent crime was not going to change at all in a world without drug legalization, then this comparison is perfectly valid. But what if, absent drug legalization, violent crime would have fallen on its own (maybe because of advances in policing practices or a better economy)? Or maybe it would have increased?\n",
                "\n",
                "This is actually a very common problem. For example, imagine you're trying to figure out whether taking tylenol helps with headaches. You have a patient with a headache, you give them tylenol, and then the next day you ask them if they still have a headache, and find out that they don't — does that mean that tylenol cured the headache? Maybe... but most headaches eventually resolve on their own, so maybe the headache would have passed with or without the patient taking tylenol! In fact, there's a term for this phenomenon in medicine — the \"natural history\" of a disease, which is the trajectory that we think a disease might follow absent treatment. And the natural history of the disease is almost never for it to stay exactly the same indefinitely.\n",
                "\n",
                "(All of this is closely related to the discipline of causal inference, and if it makes your head to hurt, don't worry — that means you're doing it right! We will talk lots and lots more about it in the weeks and months to come.)\n",
                "\n",
                "One way to try to overcome this problem is with something called a difference-in-difference analysis. Rather than just looking at whether violent drug arrest rates increase or decrease between 2009 and 2018, we can split our sample of counties into those that were *more* impacted by drug legalization and those that were *less* impacted by drug legalization and evaluate whether we see a greater change in the violent drug arrest rate in the counties that were more impacted. \n",
                "\n",
                "What does it mean to have been \"more impacted\" by drug legalization? In this case, we can treat the counties that had higher drug arrest rates in 2009 as counties that were more impacted by drug legalization than those that had low drug arrest rates in 2009. After all, in a county that had no drug arrests, legalization wouldn't do anything, would it? \n"
            ]
        },
        {
            "cell_type": "markdown",
            "metadata": {},
            "source": [
                "\n",
                "### Exercise 20\n",
                "\n",
                "First, split our sample into two groups: high drug arrests in 2009, and low drug arrests in 2009 (cut the sample at the average drug arrest rate in 2009). \n"
            ]
        },
        {
            "cell_type": "markdown",
            "metadata": {},
            "source": [
                "\n",
                "### Exercise 21\n",
                "\n",
                "Now, determine weather violent crime changed *more* from 2009 to 2018 in the counties that had lots of drug arrests in 2009 (where legalization likely had more of an effect) than in counties with fewer drug arrests in 2009 (where legalization likely mattered less)? \n",
                "\n",
                "Calculate this difference-in-difference:\n",
                "\n",
                "```\n",
                "(the change in violent crime rate per capita for counties with lots of drug arrests in 2009) \n",
                "- (the change in violent crime rate per capita for counties with few drug arrests in 2009)\n",
                "\n",
                "```\n",
                "\n",
                "Store your \"difference-in-difference\" estimate in your `results` dictionary under the key `\"ex21_diffindiff\"`."
            ]
        },
        {
            "cell_type": "markdown",
            "metadata": {},
            "source": [
                "### Exercise 22\n",
                "\n",
                "Interpret your difference in difference result."
            ]
        },
        {
            "cell_type": "markdown",
            "metadata": {},
            "source": [
                "### Exercise 23\n",
                "\n",
                "The quantity we estimated above is a little difficult to interpret. Rather than calculating the *absolute* change in violent arrest rates per capita, let's calculate the *proportionate* change.\n",
                "\n",
                "Calculate:\n",
                "\n",
                "```\n",
                "(the county-level percentage change in violent crime rate with lots of drug arrests in 2009) \n",
                "- (the county-level percentage change in violent crime rate with few drug arrests in 2009)\n",
                "```\n",
                "Store your \"difference-in-difference\" estimate in your `results` dictionary under the key `\"ex24_diffindiff_proportionate\"`. Report your result in percentages, such that a value of `-100` would imply that the average county experienced a 100% decrease in the violent arrest rate."
            ]
        }
    ],
    "metadata": {
        "kernelspec": {
            "display_name": "Python 3.10.6 ('base')",
            "language": "python",
            "name": "python3"
        },
        "language_info": {
            "codemirror_mode": {
                "name": "ipython",
                "version": 3
            },
            "file_extension": ".py",
            "mimetype": "text/x-python",
            "name": "python",
            "nbconvert_exporter": "python",
            "pygments_lexer": "ipython3",
            "version": "3.11.5"
        },
        "vscode": {
            "interpreter": {
                "hash": "718fed28bf9f8c7851519acf2fb923cd655120b36de3b67253eeb0428bd33d2d"
            }
        }
    },
    "nbformat": 4,
    "nbformat_minor": 4
}
