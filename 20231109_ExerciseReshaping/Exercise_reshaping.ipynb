{
 "cells": [
  {
   "cell_type": "markdown",
   "metadata": {},
   "source": [
    "# Reshaping Exercises\n",
    "\n",
    "<span style=\"color: #008080\">*Bárbara Flores*</span>\n",
    "\n",
    "Before diving into actually doing some exercises, a few notes about reshaping in `pandas`. \n",
    "\n",
    "**So many tools:** As is so often the case with `pandas`, when there are multiple ways that something can be done, `pandas` implements all of them, even it if results in a lot of duplication of funcationality. As a result, there are several sets of methods that do very similar things, and which can be hard to keep straights: \n",
    "\n",
    "- `melt` and `pivot`: Tools for moving a dataset from long-to-wide (`pivot`) or wide-to-long (`melt`).\n",
    "- `pivot_table`: Like `pivot`, but allows you to do aggregations during the reshape if you want.\n",
    "- `stack` and `unstack`: Like `melt` and `pivot`, but only for use when your variables are stored in indices. I don't use these much. \n",
    "\n",
    "Personally, **I find melt and pivot most useful.** `pivot_table` *can* do aggregations during the reshape, but you can always do aggregations yourself using `groupby`. :) \n",
    "\n",
    "Also, I have to go look at [these pictures](https://pandas.pydata.org/pandas-docs/stable/user_guide/reshaping.html)... every time I reshape. Don't hesistate to look them up for help!\n",
    "\n",
    "**What SHOULD I want my data to look like?** Just a reminder that a natural question to ask is \"in what format should I want my data?\" Obviously this question is subjective, but as you read in the Hadley Wickham [piece I assigned](http://vita.had.co.nz/papers/tidy-data.html), this is a good standard definition for a \"tidy\" dataset to which we might aspire: \n",
    "\n",
    "1. Each variable forms a column.\n",
    "2. Each observation forms a row.\n",
    "3. Each type of observational unit forms a table.\n",
    "\n",
    "In general, I'm a big fan of this approach, and I think it's a good one to use (especially numbers 1 and 2).\n",
    "\n",
    "Note that the question of what forms an \"observation\" depends on the analysis you plan to run (which depends on the answer you seek to ask! See! EVERYTHING ALWAYS COMES BACK TO THE QUESTION YOU ARE SEEKING TO ANSWER!). Suppose you have data on GDP from different countries for many years. If you plan to run a panel analysis where each observation is a country-year, then each row should be a country-year. But if you plan to do a country-level analysis using measures of, say, GDP variation over time, then each row should be a country!\n"
   ]
  },
  {
   "cell_type": "markdown",
   "metadata": {},
   "source": [
    "\n",
    "## Exercises!\n",
    "\n",
    "So in this exercise, we're going to work with data from the World Development Indicators. Unlike in previous exercises, however, where I cleaned up the data before giving it to you, we'll be working with the raw data just as you would get it from the World Bank download site. "
   ]
  },
  {
   "cell_type": "markdown",
   "metadata": {},
   "source": [
    "\n",
    "## Gradescope Autograding\n",
    "\n",
    "Please follow [all standard guidance](https://www.practicaldatascience.org/html/autograder_guidelines.html) for submitting this assignment to the Gradescope autograder, including storing your solutions in a dictionary called `results` and ensuring your notebook runs from the start to completion without any errors.\n",
    "\n",
    "For this assignment, please name your file `exercise_reshaping.ipynb` before uploading.\n",
    "\n",
    "You can check that you have answers for all questions in your `results` dictionary with this code:\n",
    "\n",
    "```python\n",
    "assert set(results.keys()) == {\n",
    "    \"ex2_num_rows\",\n",
    "    \"ex4_num_rows\",\n",
    "    \"ex5_num_countries\",\n",
    "    \"ex6_relationship\",\n",
    "    \"ex7_relationship\",\n",
    "    \"ex8_countries_in_panel\",\n",
    "    \"ex10_demeaned_corr\",\n",
    "}\n",
    "```\n",
    "\n",
    "\n",
    "### Submission Limits\n",
    "\n",
    "Please remember that you are **only allowed three submissions to the autograder.** Your last submission (if you submit 3 or fewer times), or your third submission (if you submit more than 3 times) will determine your grade Submissions that error out will **not** count against this total."
   ]
  },
  {
   "cell_type": "markdown",
   "metadata": {},
   "source": [
    "### Exercise 1\n",
    "\n",
    "Import the data using a link from [here](https://github.com/nickeubank/MIDS_Data/blob/master/World_Development_Indicators/WDI_Data_csv.zip) and load it into pandas without unzipping it (did you know pandas will read zip files directly?!)."
   ]
  },
  {
   "cell_type": "code",
   "execution_count": 1,
   "metadata": {},
   "outputs": [],
   "source": [
    "import pandas as pd\n",
    "\n",
    "# Now, you can work with the DataFrame 'df' as you normally would\n",
    "path = \"https://github.com/nickeubank/MIDS_Data/raw/master/World_Development_Indicators/raw_WDI_Data_csv.zip\"\n",
    "WDI_Data = pd.read_csv(path, compression=\"zip\")\n",
    "\n",
    "WDI_Data.head()"
   ]
  },
  {
   "cell_type": "markdown",
   "metadata": {},
   "source": [
    "### Exercise 2\n",
    "\n",
    "In this exercise, we'd like to look at the relationship between GDP and inequality across countries. So before anything else, thin down your dataset by getting only the rows related to:\n",
    "\n",
    "- GDP per capita (in Constant US Dollars -- the \"constant\" means values are have been adjusted for inflation, so values from 1970 can be directly compared with 2010)\n",
    "- Gini coefficient\n",
    "- Information on income shares (what percentage of total income goes to X% of the income distribution). **There are 7 of these in total.**\n",
    "\n",
    "Store the number of rows you get from this updated dataset in `\"ex2_num_rows\"`.\n",
    "\n",
    "**NOTE:** this is non-trivial. This is a big dataset with LOTS of variables, so you'll have to use your data wrangling skills to see all the variables names. Remember that if you want to see all the entries in something but python compresses it (so it doesn't take up too much space), you can loop over it and print each item separately to make it show everything!\n",
    "\n",
    "**NOTE 2:** If you _do_ print out all the variable names, please comment out the code before you submit your notebook so graders don't end up swimming in print-outs. "
   ]
  },
  {
   "cell_type": "code",
   "execution_count": null,
   "metadata": {},
   "outputs": [
    {
     "data": {
      "text/plain": [
       "Indicator Name\n",
       "2005 PPP conversion factor, GDP (LCU per international $)                                          264\n",
       "2005 PPP conversion factor, private consumption (LCU per international $)                          264\n",
       "ARI treatment (% of children under 5 taken to a health provider)                                   264\n",
       "Access to clean fuels and technologies for cooking (% of population)                               264\n",
       "Access to electricity (% of population)                                                            264\n",
       "                                                                                                  ... \n",
       "Women who believe a husband is justified in beating his wife when she neglects the children (%)    264\n",
       "Women who believe a husband is justified in beating his wife when she refuses sex with him (%)     264\n",
       "Women who were first married by age 15 (% of women ages 20-24)                                     264\n",
       "Women who were first married by age 18 (% of women ages 20-24)                                     264\n",
       "Women's share of population ages 15+ living with HIV (%)                                           264\n",
       "Name: Indicator Name, Length: 1599, dtype: int64"
      ]
     },
     "execution_count": 6,
     "metadata": {},
     "output_type": "execute_result"
    }
   ],
   "source": [
    "# \"Let's take a look at the variables that make up our dataset.\"\n",
    "\n",
    "WDI_Data.groupby(\"Indicator Name\")[\"Indicator Name\"].count()"
   ]
  },
  {
   "cell_type": "markdown",
   "metadata": {},
   "source": [
    "<span style=\"color: #008080\">*We can see beforehand that we have 264 records for each variable.*</span>\n"
   ]
  },
  {
   "cell_type": "code",
   "execution_count": null,
   "metadata": {},
   "outputs": [],
   "source": [
    "# for indicator in WDI_Data[\"Indicator Name\"].unique():\n",
    "#    print(indicator)"
   ]
  },
  {
   "cell_type": "markdown",
   "metadata": {},
   "source": [
    "<span style=\"color: #008080\">*After thorough examination of our 264 variables, we have narrowed it down to 9 select variables that will be utilized for the remainder of the exercise.*</span>\n"
   ]
  },
  {
   "cell_type": "code",
   "execution_count": null,
   "metadata": {},
   "outputs": [
    {
     "data": {
      "text/html": [
       "<div>\n",
       "<style scoped>\n",
       "    .dataframe tbody tr th:only-of-type {\n",
       "        vertical-align: middle;\n",
       "    }\n",
       "\n",
       "    .dataframe tbody tr th {\n",
       "        vertical-align: top;\n",
       "    }\n",
       "\n",
       "    .dataframe thead th {\n",
       "        text-align: right;\n",
       "    }\n",
       "</style>\n",
       "<table border=\"1\" class=\"dataframe\">\n",
       "  <thead>\n",
       "    <tr style=\"text-align: right;\">\n",
       "      <th></th>\n",
       "      <th>Country Name</th>\n",
       "      <th>Country Code</th>\n",
       "      <th>Indicator Name</th>\n",
       "      <th>Indicator Code</th>\n",
       "      <th>1960</th>\n",
       "      <th>1961</th>\n",
       "      <th>1962</th>\n",
       "      <th>1963</th>\n",
       "      <th>1964</th>\n",
       "      <th>1965</th>\n",
       "      <th>...</th>\n",
       "      <th>2010</th>\n",
       "      <th>2011</th>\n",
       "      <th>2012</th>\n",
       "      <th>2013</th>\n",
       "      <th>2014</th>\n",
       "      <th>2015</th>\n",
       "      <th>2016</th>\n",
       "      <th>2017</th>\n",
       "      <th>2018</th>\n",
       "      <th>Unnamed: 63</th>\n",
       "    </tr>\n",
       "  </thead>\n",
       "  <tbody>\n",
       "    <tr>\n",
       "      <th>520</th>\n",
       "      <td>Arab World</td>\n",
       "      <td>ARB</td>\n",
       "      <td>GDP per capita (constant 2010 US$)</td>\n",
       "      <td>NY.GDP.PCAP.KD</td>\n",
       "      <td>NaN</td>\n",
       "      <td>NaN</td>\n",
       "      <td>NaN</td>\n",
       "      <td>NaN</td>\n",
       "      <td>NaN</td>\n",
       "      <td>NaN</td>\n",
       "      <td>...</td>\n",
       "      <td>5945.678558</td>\n",
       "      <td>6021.163952</td>\n",
       "      <td>6278.734889</td>\n",
       "      <td>6336.581939</td>\n",
       "      <td>6354.885748</td>\n",
       "      <td>6430.464609</td>\n",
       "      <td>6507.882895</td>\n",
       "      <td>6447.294731</td>\n",
       "      <td>6458.734486</td>\n",
       "      <td>NaN</td>\n",
       "    </tr>\n",
       "  </tbody>\n",
       "</table>\n",
       "<p>1 rows × 64 columns</p>\n",
       "</div>"
      ],
      "text/plain": [
       "    Country Name Country Code                      Indicator Name  \\\n",
       "520   Arab World          ARB  GDP per capita (constant 2010 US$)   \n",
       "\n",
       "     Indicator Code  1960  1961  1962  1963  1964  1965  ...         2010  \\\n",
       "520  NY.GDP.PCAP.KD   NaN   NaN   NaN   NaN   NaN   NaN  ...  5945.678558   \n",
       "\n",
       "            2011         2012         2013         2014         2015  \\\n",
       "520  6021.163952  6278.734889  6336.581939  6354.885748  6430.464609   \n",
       "\n",
       "            2016         2017         2018  Unnamed: 63  \n",
       "520  6507.882895  6447.294731  6458.734486          NaN  \n",
       "\n",
       "[1 rows x 64 columns]"
      ]
     },
     "execution_count": 15,
     "metadata": {},
     "output_type": "execute_result"
    }
   ],
   "source": [
    "selected_variables = [\n",
    "    \"GDP per capita (constant 2010 US$)\",\n",
    "    \"GINI index (World Bank estimate)\",\n",
    "    \"Income share held by fourth 20%\",\n",
    "    \"Income share held by highest 10%\",\n",
    "    \"Income share held by highest 20%\",\n",
    "    \"Income share held by lowest 10%\",\n",
    "    \"Income share held by lowest 20%\",\n",
    "    \"Income share held by second 20%\",\n",
    "    \"Income share held by third 20%\",\n",
    "]\n",
    "\n",
    "filtered_WDI_Data = WDI_Data[WDI_Data[\"Indicator Name\"].isin(\n",
    "    selected_variables)]\n",
    "\n",
    "filtered_WDI_Data.head(1)"
   ]
  },
  {
   "cell_type": "code",
   "execution_count": null,
   "metadata": {},
   "outputs": [
    {
     "name": "stdout",
     "output_type": "stream",
     "text": [
      "The number of rows in our updated dataset, after filtering the variables of interest, is 2,376.\n"
     ]
    }
   ],
   "source": [
    "results = dict()\n",
    "ex2_num_rows = len(filtered_WDI_Data)\n",
    "results[\"ex2_num_rows\"] = ex2_num_rows\n",
    "print(\n",
    "    f\"The number of rows in our updated dataset, after filtering the variables of interest, is {ex2_num_rows:,}.\"\n",
    ")"
   ]
  },
  {
   "cell_type": "markdown",
   "metadata": {},
   "source": [
    "### Exercise 3\n",
    "\n",
    "OK, that makes our data a lot more manageable, but it's still pretty heinous.\n",
    "\n",
    "In our analysis, we know that we'll want to have country-years as our units of observation, so let's start reshaping. Come up with a strategy that gets our inequality variables as columns, and makes each of our future observations (i.e. each country-year) a row. \n",
    "\n",
    "*Hint:* It can sometimes be helpful to drop useless columns before a reshape.\n",
    "\n",
    "*Other hint:* Sometimes you will end up with your column names stored in a hierarchical (multi-level) `.column` object structure. As with hierarchical indices for rows, they’re a pain. (Whether this occurs depends on the exact syntax you use, so you may or may not get it).\n",
    "\n",
    "The two easy ways to fix these hierarchical `.column` objects are:\n",
    "\n",
    "- Just drop a level: df.columns.drop_level(0)` where 0 is which level you want to drop.\n",
    "- Directly manipulate the column names by doing something to the df.columns object and re-assigning to df.columns. For example, you can just concatenate two columns levels (they're stored as tuples) with a dash between them with `df.columns = map(lambda x: str(x[0]) + \"-\" + str(x[1]), df.columns)`."
   ]
  },
  {
   "cell_type": "code",
   "execution_count": null,
   "metadata": {},
   "outputs": [],
   "source": []
  },
  {
   "cell_type": "markdown",
   "metadata": {},
   "source": [
    "### Exercise 4\n",
    "\n",
    "Now that you've done your reshapes, subset for observations that are post-1980. Store the number of rows in your reshaped data with only data from the years after 1980 in `\"ex4_num_rows\"`."
   ]
  },
  {
   "cell_type": "code",
   "execution_count": null,
   "metadata": {},
   "outputs": [],
   "source": []
  },
  {
   "cell_type": "markdown",
   "metadata": {},
   "source": [
    "### Exercise 5\n",
    "\n",
    "Subset for observations for which we have GINI index estimates. How many unique *countries* do you end up with? Store this answer in `ex5_num_countries`."
   ]
  },
  {
   "cell_type": "code",
   "execution_count": null,
   "metadata": {},
   "outputs": [],
   "source": []
  },
  {
   "cell_type": "markdown",
   "metadata": {},
   "source": [
    "### Exercise 6\n",
    "\n",
    "Plot the relationship between **log** GDP per capita and Gini scores for all country years and add a linear fit as well. Is higher inequality associated with higher log GDP? Store your answer (as `\"yes\"` or `\"no\"`) in `results` under the key `\"ex6_relationship\"`."
   ]
  },
  {
   "cell_type": "code",
   "execution_count": null,
   "metadata": {},
   "outputs": [],
   "source": []
  },
  {
   "cell_type": "markdown",
   "metadata": {},
   "source": [
    "### Exercise 7\n",
    "\n",
    "It's important to not always rely too much on a single measure of something like inequality. To check the robustness of our result, let's be sure to also look at the relationship between inequality and income by using the income share of the richest 10% instead of just the Gini coefficient. Plot that relationship.\n",
    "\n",
    "Do you also find that income inequality (as measured by the share of income accruing to the top 10% of earners) is positively or negatively correlated with gdp per capita? Store your answer in your `results` dict under the key `\"ex7_relationship\"` as the string `\"positively correlated\"` or the string `\"negatively correlated\"`."
   ]
  },
  {
   "cell_type": "code",
   "execution_count": null,
   "metadata": {},
   "outputs": [],
   "source": []
  },
  {
   "cell_type": "markdown",
   "metadata": {},
   "source": [
    "### Exercise 8\n",
    "\n",
    "This analysis has allowed us to evaluate whether richer countries tend to have greater income inequality, but it certainly has not established whether we should expect that as countries become wealthier, their income distribution will also become more even. In other words, we have established a correlation between income inequality and wealth, but we certainly have not established a causal relationship between wealth and income inequality.\n",
    "\n",
    "One way we might be able to get better traction on this question is to look at whether, as individual countries become wealthier, their income distribution also becomes more even.\n",
    "\n",
    "To answer this question, let's begin by subsetting our data to the years 2005 to 2015 (inclusive)—the period in which the largest number of countries in our data have inequality data. Then also subset for the set of countries with Gini data for all years in this period. This gives us what's called a *balanced panel*—a dataset in which we have data on entities *at a number of different points in time* (a panel dataset) and where at every point in time, we have data for the *same set of entities* (a balanced panel dataset). \n",
    "\n",
    "Balanced panels are very desirable because the fact that they contain the same entities at all moments in time means that any changes we measure over time are the result of real changes in the outcomes we care about and *not* the result of changes in the composition of our sample.\n",
    "\n",
    "Store the number of countries still in your data in `\"ex8_countries_in_panel\"`."
   ]
  },
  {
   "cell_type": "code",
   "execution_count": null,
   "metadata": {},
   "outputs": [],
   "source": []
  },
  {
   "cell_type": "markdown",
   "metadata": {},
   "source": [
    "### Exercise 9\n",
    "\n",
    "Now, demean both Gini coefficient scores and log GDP per capita for all countries. In other words, for each country, calculate that country's average Gini score over this period and subtract that average from all of the country's Gini scores, then do the same for log GDP per capita. Then plot these countries' *demeaned* Gini scores against demeaned log GDP per capita.\n",
    "\n",
    "Essentially, this is a way of looking at whether, when countries are richer than their average during this period, they have more equal income distributions than on average."
   ]
  },
  {
   "cell_type": "code",
   "execution_count": null,
   "metadata": {},
   "outputs": [],
   "source": []
  },
  {
   "cell_type": "markdown",
   "metadata": {},
   "source": [
    "### Exercise 10 \n",
    "\n",
    "Calculate the correlation between these two demand outcomes in our balanced panel and store the result in `\"ex10_demeaned_corr\"`."
   ]
  },
  {
   "cell_type": "code",
   "execution_count": null,
   "metadata": {},
   "outputs": [],
   "source": []
  }
 ],
 "metadata": {
  "kernelspec": {
   "display_name": "Python 3.10.6 ('base')",
   "language": "python",
   "name": "python3"
  },
  "language_info": {
   "codemirror_mode": {
    "name": "ipython",
    "version": 3
   },
   "file_extension": ".py",
   "mimetype": "text/x-python",
   "name": "python",
   "nbconvert_exporter": "python",
   "pygments_lexer": "ipython3",
   "version": "3.11.5"
  },
  "orig_nbformat": 4,
  "vscode": {
   "interpreter": {
    "hash": "718fed28bf9f8c7851519acf2fb923cd655120b36de3b67253eeb0428bd33d2d"
   }
  }
 },
 "nbformat": 4,
 "nbformat_minor": 2
}
